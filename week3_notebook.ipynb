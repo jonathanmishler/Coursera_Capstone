{
 "cells": [
  {
   "cell_type": "markdown",
   "metadata": {},
   "source": [
    "## Week 3 - CAPSTONE: IBM Data Science Professional Certificate\n",
    "# Segmenting and Clustering Neighborhoods in Toronto"
   ]
  },
  {
   "cell_type": "code",
   "execution_count": 1,
   "metadata": {},
   "outputs": [],
   "source": [
    "import pandas as pd\n",
    "import requests\n",
    "from bs4 import BeautifulSoup\n",
    "import folium\n",
    "from geopy.geocoders import MapBox\n",
    "from geopy.extra.rate_limiter import RateLimiter"
   ]
  },
  {
   "cell_type": "code",
   "execution_count": 2,
   "metadata": {},
   "outputs": [],
   "source": [
    "# config file containing API KEYS\n",
    "from project_config import *"
   ]
  },
  {
   "cell_type": "markdown",
   "metadata": {},
   "source": [
    "## SECTION 1: Zipcode Data\n",
    "### Scrape the Data\n",
    "\n",
    "Pull the data from the table on the Wikipedia Page by requesting the page and parsing the HTML.  We will use the popular requests package to make our get request and use BeautifulSoup to parse the HTML.  BeautifulSoup has an easy API to traverse the HTML nodes and search based on HTML tags and attributes.\n",
    "\n",
    "#### Make the get request"
   ]
  },
  {
   "cell_type": "code",
   "execution_count": 37,
   "metadata": {},
   "outputs": [
    {
     "name": "stdout",
     "output_type": "stream",
     "text": [
      "<Response [200]>\n"
     ]
    }
   ],
   "source": [
    "url = 'https://en.wikipedia.org/wiki/List_of_postal_codes_of_Canada:_M'\n",
    "r = requests.get(url)\n",
    "# print the sever response to make sure we get a good 200 code\n",
    "print(r) "
   ]
  },
  {
   "cell_type": "markdown",
   "metadata": {},
   "source": [
    "#### Parse the page"
   ]
  },
  {
   "cell_type": "code",
   "execution_count": 38,
   "metadata": {},
   "outputs": [],
   "source": [
    "# parse the page and get a list of all the tables on the page\n",
    "page = BeautifulSoup(r.text, 'html.parser')\n"
   ]
  },
  {
   "cell_type": "markdown",
   "metadata": {},
   "source": [
    "#### Find the table with the data"
   ]
  },
  {
   "cell_type": "code",
   "execution_count": 39,
   "metadata": {},
   "outputs": [
    {
     "name": "stdout",
     "output_type": "stream",
     "text": [
      "There are 5 HTML tables on the page\n"
     ]
    }
   ],
   "source": [
    "tables = page.find_all('table')\n",
    "print(f'There are {len(tables)} HTML tables on the page')"
   ]
  },
  {
   "cell_type": "markdown",
   "metadata": {},
   "source": [
    "Since there are more then one table lets pull the header cells with HTML tag of **th** to find the correct table."
   ]
  },
  {
   "cell_type": "code",
   "execution_count": 40,
   "metadata": {},
   "outputs": [
    {
     "data": {
      "text/plain": [
       "[[<th>Postcode</th>,\n",
       "  <th>Borough</th>,\n",
       "  <th>Neighbourhood\n",
       "  </th>],\n",
       " [],\n",
       " [],\n",
       " [<th class=\"navbox-title\" style=\"font-size:110%\"><a href=\"/wiki/Postal_codes_in_Canada\" title=\"Postal codes in Canada\">Canadian postal codes</a>\n",
       "  </th>],\n",
       " []]"
      ]
     },
     "execution_count": 40,
     "metadata": {},
     "output_type": "execute_result"
    }
   ],
   "source": [
    "[table.find_all('th') for table in tables]"
   ]
  },
  {
   "cell_type": "markdown",
   "metadata": {},
   "source": [
    "From the python list above we can see that the first table on the page is the one we want to scrape."
   ]
  },
  {
   "cell_type": "markdown",
   "metadata": {},
   "source": [
    "#### Parse the table\n",
    "\n",
    "Loop over ever row in the table to get the text from each cell and map it to the column name.  Then convert to the pandas DataFrame to clean."
   ]
  },
  {
   "cell_type": "code",
   "execution_count": 41,
   "metadata": {},
   "outputs": [
    {
     "data": {
      "text/html": [
       "<div>\n",
       "<style scoped>\n",
       "    .dataframe tbody tr th:only-of-type {\n",
       "        vertical-align: middle;\n",
       "    }\n",
       "\n",
       "    .dataframe tbody tr th {\n",
       "        vertical-align: top;\n",
       "    }\n",
       "\n",
       "    .dataframe thead th {\n",
       "        text-align: right;\n",
       "    }\n",
       "</style>\n",
       "<table border=\"1\" class=\"dataframe\">\n",
       "  <thead>\n",
       "    <tr style=\"text-align: right;\">\n",
       "      <th></th>\n",
       "      <th>Postcode</th>\n",
       "      <th>Borough</th>\n",
       "      <th>Neighbourhood</th>\n",
       "    </tr>\n",
       "  </thead>\n",
       "  <tbody>\n",
       "    <tr>\n",
       "      <th>0</th>\n",
       "      <td>M1A</td>\n",
       "      <td>Not assigned</td>\n",
       "      <td>Not assigned</td>\n",
       "    </tr>\n",
       "    <tr>\n",
       "      <th>1</th>\n",
       "      <td>M2A</td>\n",
       "      <td>Not assigned</td>\n",
       "      <td>Not assigned</td>\n",
       "    </tr>\n",
       "    <tr>\n",
       "      <th>2</th>\n",
       "      <td>M3A</td>\n",
       "      <td>North York</td>\n",
       "      <td>Parkwoods</td>\n",
       "    </tr>\n",
       "    <tr>\n",
       "      <th>3</th>\n",
       "      <td>M4A</td>\n",
       "      <td>North York</td>\n",
       "      <td>Victoria Village</td>\n",
       "    </tr>\n",
       "    <tr>\n",
       "      <th>4</th>\n",
       "      <td>M5A</td>\n",
       "      <td>Downtown Toronto</td>\n",
       "      <td>Harbourfront</td>\n",
       "    </tr>\n",
       "  </tbody>\n",
       "</table>\n",
       "</div>"
      ],
      "text/plain": [
       "  Postcode           Borough     Neighbourhood\n",
       "0      M1A      Not assigned      Not assigned\n",
       "1      M2A      Not assigned      Not assigned\n",
       "2      M3A        North York         Parkwoods\n",
       "3      M4A        North York  Victoria Village\n",
       "4      M5A  Downtown Toronto      Harbourfront"
      ]
     },
     "execution_count": 41,
     "metadata": {},
     "output_type": "execute_result"
    }
   ],
   "source": [
    "# create list of every row in the table finding the HTML tag <tr>\n",
    "zipcode_table = tables[0].find_all('tr')\n",
    "header = [th.get_text(strip=True) for th in zipcode_table[0].find_all('th')]\n",
    "\n",
    "# loop over ever row and create a dict for each row\n",
    "zipcodes = map(\n",
    "    # function to create the dict using the header names and text value inside each cell\n",
    "    lambda row: {head: cell.get_text(strip=True) for head, cell in zip(header, row.find_all('td'))},\n",
    "    # skip the first row as this was the header row\n",
    "    zipcode_table[1:]\n",
    ")\n",
    "\n",
    "# convert to pandas dataframe\n",
    "zip_df = pd.DataFrame(zipcodes)\n",
    "zip_df.head()"
   ]
  },
  {
   "cell_type": "markdown",
   "metadata": {},
   "source": [
    "### Clean the Dataframe\n",
    "\n",
    "Use the new panda.NA singleton for all missing values with the place holder \"Not assigned.\"  Any postalcode without a Borough will be dropped, and any empty Neighbourhood will be replaced with the Borough value."
   ]
  },
  {
   "cell_type": "code",
   "execution_count": 42,
   "metadata": {},
   "outputs": [],
   "source": [
    "# convert \"Not assigned\" to pandas.NA types\n",
    "zip_df = zip_df.replace(\"Not assigned\", pd.NA)"
   ]
  },
  {
   "cell_type": "code",
   "execution_count": 43,
   "metadata": {},
   "outputs": [],
   "source": [
    "# drop all rows without a Borough\n",
    "zip_df = zip_df.dropna(subset=['Borough'])\n",
    "# fill any missing Neighbourhoods with the Borough Name\n",
    "zip_df['Neighbourhood'] = zip_df['Neighbourhood'].fillna(value=zip_df['Borough'])"
   ]
  },
  {
   "cell_type": "markdown",
   "metadata": {},
   "source": [
    "### Transform the Dataframe\n",
    "\n",
    "Combine all duplicated Postalcodes together by forming a comma seperated list of every Neighbourhood.  Also assuming that there is one Borough name per zipcode."
   ]
  },
  {
   "cell_type": "code",
   "execution_count": 44,
   "metadata": {},
   "outputs": [
    {
     "data": {
      "text/html": [
       "<div>\n",
       "<style scoped>\n",
       "    .dataframe tbody tr th:only-of-type {\n",
       "        vertical-align: middle;\n",
       "    }\n",
       "\n",
       "    .dataframe tbody tr th {\n",
       "        vertical-align: top;\n",
       "    }\n",
       "\n",
       "    .dataframe thead th {\n",
       "        text-align: right;\n",
       "    }\n",
       "</style>\n",
       "<table border=\"1\" class=\"dataframe\">\n",
       "  <thead>\n",
       "    <tr style=\"text-align: right;\">\n",
       "      <th></th>\n",
       "      <th>Postcode</th>\n",
       "      <th>Borough</th>\n",
       "      <th>Neighbourhood</th>\n",
       "    </tr>\n",
       "  </thead>\n",
       "  <tbody>\n",
       "    <tr>\n",
       "      <th>0</th>\n",
       "      <td>M1B</td>\n",
       "      <td>Scarborough</td>\n",
       "      <td>Rouge, Malvern</td>\n",
       "    </tr>\n",
       "    <tr>\n",
       "      <th>1</th>\n",
       "      <td>M1C</td>\n",
       "      <td>Scarborough</td>\n",
       "      <td>Highland Creek, Rouge Hill, Port Union</td>\n",
       "    </tr>\n",
       "    <tr>\n",
       "      <th>2</th>\n",
       "      <td>M1E</td>\n",
       "      <td>Scarborough</td>\n",
       "      <td>Guildwood, Morningside, West Hill</td>\n",
       "    </tr>\n",
       "    <tr>\n",
       "      <th>3</th>\n",
       "      <td>M1G</td>\n",
       "      <td>Scarborough</td>\n",
       "      <td>Woburn</td>\n",
       "    </tr>\n",
       "    <tr>\n",
       "      <th>4</th>\n",
       "      <td>M1H</td>\n",
       "      <td>Scarborough</td>\n",
       "      <td>Cedarbrae</td>\n",
       "    </tr>\n",
       "  </tbody>\n",
       "</table>\n",
       "</div>"
      ],
      "text/plain": [
       "  Postcode      Borough                           Neighbourhood\n",
       "0      M1B  Scarborough                          Rouge, Malvern\n",
       "1      M1C  Scarborough  Highland Creek, Rouge Hill, Port Union\n",
       "2      M1E  Scarborough       Guildwood, Morningside, West Hill\n",
       "3      M1G  Scarborough                                  Woburn\n",
       "4      M1H  Scarborough                               Cedarbrae"
      ]
     },
     "execution_count": 44,
     "metadata": {},
     "output_type": "execute_result"
    }
   ],
   "source": [
    "# For each postal code and borough group create a list of all the Neighbourhoods \n",
    "zip_df = zip_df.groupby(['Postcode','Borough']).apply(lambda x: \", \".join(x['Neighbourhood'].unique())).reset_index()\n",
    "zip_df.columns = ['Postcode','Borough', 'Neighbourhood']\n",
    "zip_df.head()"
   ]
  },
  {
   "cell_type": "markdown",
   "metadata": {},
   "source": [
    "### Print Shape of the Dataframe"
   ]
  },
  {
   "cell_type": "code",
   "execution_count": 45,
   "metadata": {},
   "outputs": [
    {
     "data": {
      "text/plain": [
       "(103, 3)"
      ]
     },
     "execution_count": 45,
     "metadata": {},
     "output_type": "execute_result"
    }
   ],
   "source": [
    "zip_df.shape"
   ]
  },
  {
   "cell_type": "markdown",
   "metadata": {},
   "source": [
    "## SECTION 2: Latitude and Longitude\n",
    "\n",
    "Create a function to pull the latitude and longitude from the \"zipcode, city, country\" from geocoder form MapBox using the geopy package"
   ]
  },
  {
   "cell_type": "code",
   "execution_count": 3,
   "metadata": {},
   "outputs": [],
   "source": [
    "locator = MapBox(api_key=MAPBOX_API_KEY)\n",
    "# limit the rate of api calls to 1 every second to avoid being blocked\n",
    "geocode = RateLimiter(locator.geocode, min_delay_seconds=1)"
   ]
  },
  {
   "cell_type": "code",
   "execution_count": 4,
   "metadata": {},
   "outputs": [],
   "source": [
    "def zip_to_coords(zipcode: str, city: str, state: str, country: str):\n",
    "    \"\"\" Get the latitude and longitude from the the given zipcode using the geocode funciton above\"\"\"\n",
    "    address = f'{city}, {state}, {zipcode}, {country}'\n",
    "    location = geocode(address)\n",
    "    return pd.Series((location.latitude, location.longitude))"
   ]
  },
  {
   "cell_type": "markdown",
   "metadata": {},
   "source": [
    "Create a new column in the zipcode dataframe for the latitude and longitude\n",
    "\n",
    "***Note:*** *Only run this cell below if you haven't already saved the CSV as this will take a few minutes to search for all the coordinates and will consume your MapBox resources*"
   ]
  },
  {
   "cell_type": "code",
   "execution_count": 5,
   "metadata": {},
   "outputs": [
    {
     "ename": "NameError",
     "evalue": "name 'zip_df' is not defined",
     "output_type": "error",
     "traceback": [
      "\u001b[0;31m---------------------------------------------------------------------------\u001b[0m",
      "\u001b[0;31mNameError\u001b[0m                                 Traceback (most recent call last)",
      "\u001b[0;32m<ipython-input-5-1ec347451443>\u001b[0m in \u001b[0;36m<module>\u001b[0;34m\u001b[0m\n\u001b[0;32m----> 1\u001b[0;31m \u001b[0mzip_df\u001b[0m\u001b[0;34m[\u001b[0m\u001b[0;34m[\u001b[0m\u001b[0;34m'Latitude'\u001b[0m\u001b[0;34m,\u001b[0m \u001b[0;34m'Longitude'\u001b[0m\u001b[0;34m]\u001b[0m\u001b[0;34m]\u001b[0m \u001b[0;34m=\u001b[0m \u001b[0mzip_df\u001b[0m\u001b[0;34m[\u001b[0m\u001b[0;34m'Postcode'\u001b[0m\u001b[0;34m]\u001b[0m\u001b[0;34m.\u001b[0m\u001b[0mapply\u001b[0m\u001b[0;34m(\u001b[0m\u001b[0mzip_to_coords\u001b[0m\u001b[0;34m,\u001b[0m \u001b[0margs\u001b[0m\u001b[0;34m=\u001b[0m\u001b[0;34m(\u001b[0m\u001b[0;34m'Toronto'\u001b[0m\u001b[0;34m,\u001b[0m \u001b[0;34m'Ontario'\u001b[0m\u001b[0;34m,\u001b[0m \u001b[0;34m'Canada'\u001b[0m\u001b[0;34m)\u001b[0m\u001b[0;34m)\u001b[0m\u001b[0;34m\u001b[0m\u001b[0;34m\u001b[0m\u001b[0m\n\u001b[0m\u001b[1;32m      2\u001b[0m \u001b[0mzip_df\u001b[0m\u001b[0;34m.\u001b[0m\u001b[0mhead\u001b[0m\u001b[0;34m(\u001b[0m\u001b[0;34m)\u001b[0m\u001b[0;34m\u001b[0m\u001b[0;34m\u001b[0m\u001b[0m\n",
      "\u001b[0;31mNameError\u001b[0m: name 'zip_df' is not defined"
     ]
    }
   ],
   "source": [
    "zip_df[['Latitude', 'Longitude']] = zip_df['Postcode'].apply(zip_to_coords, args=('Toronto', 'Ontario', 'Canada'))\n",
    "zip_df.head()"
   ]
  },
  {
   "cell_type": "code",
   "execution_count": 48,
   "metadata": {},
   "outputs": [],
   "source": [
    "# export dataframe as a csv\n",
    "zip_df.to_csv('week3_data.csv')"
   ]
  },
  {
   "cell_type": "markdown",
   "metadata": {},
   "source": [
    "## SECTION 3: Cluster and Map"
   ]
  },
  {
   "cell_type": "code",
   "execution_count": 6,
   "metadata": {},
   "outputs": [
    {
     "data": {
      "text/html": [
       "<div>\n",
       "<style scoped>\n",
       "    .dataframe tbody tr th:only-of-type {\n",
       "        vertical-align: middle;\n",
       "    }\n",
       "\n",
       "    .dataframe tbody tr th {\n",
       "        vertical-align: top;\n",
       "    }\n",
       "\n",
       "    .dataframe thead th {\n",
       "        text-align: right;\n",
       "    }\n",
       "</style>\n",
       "<table border=\"1\" class=\"dataframe\">\n",
       "  <thead>\n",
       "    <tr style=\"text-align: right;\">\n",
       "      <th></th>\n",
       "      <th>Postcode</th>\n",
       "      <th>Borough</th>\n",
       "      <th>Neighbourhood</th>\n",
       "      <th>Latitude</th>\n",
       "      <th>Longitude</th>\n",
       "    </tr>\n",
       "  </thead>\n",
       "  <tbody>\n",
       "    <tr>\n",
       "      <th>0</th>\n",
       "      <td>M1B</td>\n",
       "      <td>Scarborough</td>\n",
       "      <td>Rouge, Malvern</td>\n",
       "      <td>43.808241</td>\n",
       "      <td>-79.220533</td>\n",
       "    </tr>\n",
       "    <tr>\n",
       "      <th>1</th>\n",
       "      <td>M1C</td>\n",
       "      <td>Scarborough</td>\n",
       "      <td>Highland Creek, Rouge Hill, Port Union</td>\n",
       "      <td>43.780000</td>\n",
       "      <td>-79.190000</td>\n",
       "    </tr>\n",
       "    <tr>\n",
       "      <th>2</th>\n",
       "      <td>M1E</td>\n",
       "      <td>Scarborough</td>\n",
       "      <td>Guildwood, Morningside, West Hill</td>\n",
       "      <td>43.770000</td>\n",
       "      <td>-79.190000</td>\n",
       "    </tr>\n",
       "    <tr>\n",
       "      <th>3</th>\n",
       "      <td>M1G</td>\n",
       "      <td>Scarborough</td>\n",
       "      <td>Woburn</td>\n",
       "      <td>43.780000</td>\n",
       "      <td>-79.230000</td>\n",
       "    </tr>\n",
       "    <tr>\n",
       "      <th>4</th>\n",
       "      <td>M1H</td>\n",
       "      <td>Scarborough</td>\n",
       "      <td>Cedarbrae</td>\n",
       "      <td>43.780000</td>\n",
       "      <td>-79.250000</td>\n",
       "    </tr>\n",
       "  </tbody>\n",
       "</table>\n",
       "</div>"
      ],
      "text/plain": [
       "  Postcode      Borough                           Neighbourhood   Latitude  \\\n",
       "0      M1B  Scarborough                          Rouge, Malvern  43.808241   \n",
       "1      M1C  Scarborough  Highland Creek, Rouge Hill, Port Union  43.780000   \n",
       "2      M1E  Scarborough       Guildwood, Morningside, West Hill  43.770000   \n",
       "3      M1G  Scarborough                                  Woburn  43.780000   \n",
       "4      M1H  Scarborough                               Cedarbrae  43.780000   \n",
       "\n",
       "   Longitude  \n",
       "0 -79.220533  \n",
       "1 -79.190000  \n",
       "2 -79.190000  \n",
       "3 -79.230000  \n",
       "4 -79.250000  "
      ]
     },
     "execution_count": 6,
     "metadata": {},
     "output_type": "execute_result"
    }
   ],
   "source": [
    "# download the csv if created, so we can skip the code above\n",
    "zip_df = pd.read_csv('week3_data.csv', index_col=0)\n",
    "zip_df.head()"
   ]
  },
  {
   "cell_type": "markdown",
   "metadata": {},
   "source": [
    "Get the coordinates of Toronto, Ontario, Canada to create the folium map centered on the city."
   ]
  },
  {
   "cell_type": "code",
   "execution_count": 7,
   "metadata": {},
   "outputs": [
    {
     "name": "stdout",
     "output_type": "stream",
     "text": [
      "Toronto, Ontario, Canada is located at 43.6529, -79.3849\n"
     ]
    }
   ],
   "source": [
    "tor_loc = geocode('Toronto, Ontario, Canada')\n",
    "print(f\"{tor_loc} is located at {tor_loc.latitude}, {tor_loc.longitude}\")"
   ]
  },
  {
   "cell_type": "markdown",
   "metadata": {},
   "source": [
    "### Map of Toronto\n",
    "\n",
    "I am choosing to exclude Downtown Toronto as the Postal Codes in that area are very dense, so this allows me to use Postal Codes that are much more evenly spaced out.  See below for Downtown Toronto in Blue."
   ]
  },
  {
   "cell_type": "code",
   "execution_count": 8,
   "metadata": {},
   "outputs": [
    {
     "data": {
      "text/html": [
       "<div style=\"width:100%;\"><div style=\"position:relative;width:100%;height:0;padding-bottom:60%;\"><iframe src=\"about:blank\" style=\"position:absolute;width:100%;height:100%;left:0;top:0;border:none !important;\" data-html=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 onload=\"this.contentDocument.open();this.contentDocument.write(atob(this.getAttribute('data-html')));this.contentDocument.close();\" allowfullscreen webkitallowfullscreen mozallowfullscreen></iframe></div></div>"
      ],
      "text/plain": [
       "<folium.folium.Map at 0x7f8535774280>"
      ]
     },
     "execution_count": 8,
     "metadata": {},
     "output_type": "execute_result"
    }
   ],
   "source": [
    "tor_map = folium.Map(location=[tor_loc.latitude, tor_loc.longitude], zoom_start=12)\n",
    "\n",
    "exclude_downtown = zip_df['Borough']!='Downtown Toronto'\n",
    "\n",
    "# Postal markers for everything but Downtown Toronto\n",
    "for mark in zip_df.loc[exclude_downtown,:].itertuples():\n",
    "    label = f\"{mark.Borough}, {mark.Postcode} ({mark.Neighbourhood})\"\n",
    "    label = folium.Popup(label, parse_html=True)\n",
    "    folium.CircleMarker(\n",
    "        [mark.Latitude, mark.Longitude],\n",
    "        radius=5,\n",
    "        popup=label,\n",
    "        color='#E97900',\n",
    "        fill=True,\n",
    "        fill_color='#F7BB2D',\n",
    "        fill_opacity=0.7,\n",
    "        parse_html=False\n",
    "    ).add_to(tor_map)\n",
    "\n",
    "# Postal markers for Downtown Toronto\n",
    "for mark in zip_df.loc[-exclude_downtown,:].itertuples():\n",
    "    label = f\"{mark.Borough}, {mark.Postcode} ({mark.Neighbourhood})\"\n",
    "    label = folium.Popup(label, parse_html=True)\n",
    "    folium.CircleMarker(\n",
    "        [mark.Latitude, mark.Longitude],\n",
    "        radius=5,\n",
    "        popup=label,\n",
    "        color='#0071e9',\n",
    "        fill=True,\n",
    "        fill_color='#56b3ff',\n",
    "        fill_opacity=0.7,\n",
    "        parse_html=False\n",
    "    ).add_to(tor_map)\n",
    "tor_map"
   ]
  },
  {
   "cell_type": "code",
   "execution_count": 17,
   "metadata": {},
   "outputs": [
    {
     "data": {
      "text/plain": [
       "(84, 5)"
      ]
     },
     "execution_count": 17,
     "metadata": {},
     "output_type": "execute_result"
    }
   ],
   "source": [
    "# New Dataframe without Downtown Toronto\n",
    "tor_df = zip_df.loc[exclude_downtown,:]\n",
    "tor_df.shape"
   ]
  },
  {
   "cell_type": "markdown",
   "metadata": {},
   "source": [
    "### Foursquare API\n",
    "\n",
    "Create a function to access the Foursquare \"venues/explore\" endpoint and parse the JSON into records to put into a dataframe."
   ]
  },
  {
   "cell_type": "code",
   "execution_count": 10,
   "metadata": {},
   "outputs": [],
   "source": [
    "def parse_results(results: dict, postcode: str):\n",
    "    \"\"\" Parses the JSON results returned from the https://api.foursquare.com/v2/venues/explore endpoint \"\"\"\n",
    "    # Collect all the venue objects nested under the items list\n",
    "    venues = [item['venue'] for item in results['response']['groups'][0]['items']]\n",
    "    \n",
    "    # Create the list of all the places\n",
    "    places = list()\n",
    "    \n",
    "    # loop over each venue to create the record for each place\n",
    "    for venue in venues:\n",
    "        places.append({\n",
    "            'venue_id': venue['id'],\n",
    "            'Name': venue['name'],\n",
    "            'Category': venue['categories'][0]['name'],      \n",
    "            'Latitude': venue['location']['lat'],\n",
    "            'Longitude': venue['location']['lng'],\n",
    "            'Distance': venue['location']['distance'],\n",
    "            'Postcode': postcode\n",
    "        })\n",
    "\n",
    "    return places\n",
    "\n",
    "def explore_venues(postcode: str, lat: float, lon: float, section: str = None, radius: int = 1000, limit: int = 100):\n",
    "    \"\"\" Access the Foursquare API venues/explore enpoint\n",
    "    Params:\n",
    "        postcode (str): Postal code to label each place\n",
    "        lat (float): latitude of search\n",
    "        lon (float): longitude of search\n",
    "        section (str): category to search, choose from:\n",
    "            [food, drinks, coffee, shops, arts, outdoors, sights, trending, nextVenues, topPicks]\n",
    "        radius (int): radius from the coordinates to search\n",
    "        limit (int): limit the number of results returned\n",
    "    \"\"\"\n",
    "    \n",
    "    # Paramater defintion for the endpoint\n",
    "    params = {\n",
    "        'client_id': FOURSQUARE_CLIENT_ID,\n",
    "        'client_secret': FOURSQUARE_CLIENT_SECRET,\n",
    "        'v': '20200305',\n",
    "        'll': f\"{lat},{lon}\",\n",
    "        'radius': radius,\n",
    "        'limit': limit         \n",
    "    }\n",
    "    \n",
    "    # if there is a valid section provided add it to the parameters\n",
    "    if section in ['food', 'drinks', 'coffee', 'shops', 'arts', 'outdoors', 'sights', 'trending', 'nextVenues', 'topPicks']:\n",
    "        params['section'] = section\n",
    "        \n",
    "    \n",
    "    # endpoint to access\n",
    "    endpoint = 'https://api.foursquare.com/v2/venues/explore'\n",
    "    \n",
    "    # GET request\n",
    "    r = requests.get(endpoint, params=params)\n",
    "    \n",
    "    # check to make sure we get a good 200 status code\n",
    "    if r.status_code != 200:\n",
    "        print(r.status_code)\n",
    "        print(r.text)\n",
    "        return None\n",
    "      \n",
    "    return parse_results(r.json(), postcode)     "
   ]
  },
  {
   "cell_type": "markdown",
   "metadata": {},
   "source": [
    "For my analysis I am going to search for all places with section=\"food\" within a 2km radius of each Postalcode center.  I will loop over every Postal Code in and make a call to the Foursquare API, and then I will convert the records into a DataFrame for anaylsis."
   ]
  },
  {
   "cell_type": "code",
   "execution_count": 11,
   "metadata": {},
   "outputs": [
    {
     "data": {
      "text/plain": [
       "5255"
      ]
     },
     "execution_count": 11,
     "metadata": {},
     "output_type": "execute_result"
    }
   ],
   "source": [
    "food = list()\n",
    "for postcode in tor_df.itertuples():\n",
    "    food.extend(explore_venues(postcode.Postcode, postcode.Latitude, postcode.Longitude, section='food', radius=2000))\n",
    "len(food)"
   ]
  },
  {
   "cell_type": "code",
   "execution_count": 31,
   "metadata": {},
   "outputs": [
    {
     "data": {
      "text/plain": [
       "(5255, 8)"
      ]
     },
     "execution_count": 31,
     "metadata": {},
     "output_type": "execute_result"
    }
   ],
   "source": [
    "food_df = pd.DataFrame(food)\n",
    "food_df.shape"
   ]
  },
  {
   "cell_type": "code",
   "execution_count": 33,
   "metadata": {},
   "outputs": [
    {
     "data": {
      "text/html": [
       "<div>\n",
       "<style scoped>\n",
       "    .dataframe tbody tr th:only-of-type {\n",
       "        vertical-align: middle;\n",
       "    }\n",
       "\n",
       "    .dataframe tbody tr th {\n",
       "        vertical-align: top;\n",
       "    }\n",
       "\n",
       "    .dataframe thead th {\n",
       "        text-align: right;\n",
       "    }\n",
       "</style>\n",
       "<table border=\"1\" class=\"dataframe\">\n",
       "  <thead>\n",
       "    <tr style=\"text-align: right;\">\n",
       "      <th></th>\n",
       "      <th>venue_id</th>\n",
       "      <th>Name</th>\n",
       "      <th>Category</th>\n",
       "      <th>Sub-Category</th>\n",
       "      <th>Latitude</th>\n",
       "      <th>Longitude</th>\n",
       "      <th>Distance</th>\n",
       "      <th>Postcode</th>\n",
       "      <th>Borough</th>\n",
       "      <th>Neighbourhood</th>\n",
       "    </tr>\n",
       "  </thead>\n",
       "  <tbody>\n",
       "    <tr>\n",
       "      <th>0</th>\n",
       "      <td>4c68119de1da1b8d45179fc3</td>\n",
       "      <td>Subway</td>\n",
       "      <td>Sandwich Place</td>\n",
       "      <td>None</td>\n",
       "      <td>43.806961</td>\n",
       "      <td>-79.221476</td>\n",
       "      <td>161</td>\n",
       "      <td>M1B</td>\n",
       "      <td>Scarborough</td>\n",
       "      <td>Rouge, Malvern</td>\n",
       "    </tr>\n",
       "    <tr>\n",
       "      <th>1</th>\n",
       "      <td>4bf0817e24f020a11c33684f</td>\n",
       "      <td>Pizza Pizza</td>\n",
       "      <td>Pizza Place</td>\n",
       "      <td>None</td>\n",
       "      <td>43.806613</td>\n",
       "      <td>-79.221243</td>\n",
       "      <td>189</td>\n",
       "      <td>M1B</td>\n",
       "      <td>Scarborough</td>\n",
       "      <td>Rouge, Malvern</td>\n",
       "    </tr>\n",
       "    <tr>\n",
       "      <th>2</th>\n",
       "      <td>4cb9e2d84495721e640c4d7a</td>\n",
       "      <td>Pizza Hut</td>\n",
       "      <td>Pizza Place</td>\n",
       "      <td>None</td>\n",
       "      <td>43.808326</td>\n",
       "      <td>-79.220616</td>\n",
       "      <td>11</td>\n",
       "      <td>M1B</td>\n",
       "      <td>Scarborough</td>\n",
       "      <td>Rouge, Malvern</td>\n",
       "    </tr>\n",
       "    <tr>\n",
       "      <th>3</th>\n",
       "      <td>4d18ffb61356a093b0d1e682</td>\n",
       "      <td>KFC</td>\n",
       "      <td>Fast Food Restaurant</td>\n",
       "      <td>None</td>\n",
       "      <td>43.806812</td>\n",
       "      <td>-79.220786</td>\n",
       "      <td>160</td>\n",
       "      <td>M1B</td>\n",
       "      <td>Scarborough</td>\n",
       "      <td>Rouge, Malvern</td>\n",
       "    </tr>\n",
       "    <tr>\n",
       "      <th>4</th>\n",
       "      <td>4b147cd4f964a520c5a323e3</td>\n",
       "      <td>Subway</td>\n",
       "      <td>Sandwich Place</td>\n",
       "      <td>None</td>\n",
       "      <td>43.811607</td>\n",
       "      <td>-79.243405</td>\n",
       "      <td>1875</td>\n",
       "      <td>M1B</td>\n",
       "      <td>Scarborough</td>\n",
       "      <td>Rouge, Malvern</td>\n",
       "    </tr>\n",
       "  </tbody>\n",
       "</table>\n",
       "</div>"
      ],
      "text/plain": [
       "                   venue_id         Name              Category Sub-Category  \\\n",
       "0  4c68119de1da1b8d45179fc3       Subway        Sandwich Place         None   \n",
       "1  4bf0817e24f020a11c33684f  Pizza Pizza           Pizza Place         None   \n",
       "2  4cb9e2d84495721e640c4d7a    Pizza Hut           Pizza Place         None   \n",
       "3  4d18ffb61356a093b0d1e682          KFC  Fast Food Restaurant         None   \n",
       "4  4b147cd4f964a520c5a323e3       Subway        Sandwich Place         None   \n",
       "\n",
       "    Latitude  Longitude  Distance Postcode      Borough   Neighbourhood  \n",
       "0  43.806961 -79.221476       161      M1B  Scarborough  Rouge, Malvern  \n",
       "1  43.806613 -79.221243       189      M1B  Scarborough  Rouge, Malvern  \n",
       "2  43.808326 -79.220616        11      M1B  Scarborough  Rouge, Malvern  \n",
       "3  43.806812 -79.220786       160      M1B  Scarborough  Rouge, Malvern  \n",
       "4  43.811607 -79.243405      1875      M1B  Scarborough  Rouge, Malvern  "
      ]
     },
     "execution_count": 33,
     "metadata": {},
     "output_type": "execute_result"
    }
   ],
   "source": [
    "# Merge the Borough and Neighborhood data into the food data \n",
    "tor_food = food_df.merge(tor_df[['Postcode', 'Borough', 'Neighbourhood']], how='left', on=\"Postcode\")\n",
    "tor_food.head()"
   ]
  },
  {
   "cell_type": "code",
   "execution_count": 34,
   "metadata": {},
   "outputs": [
    {
     "data": {
      "text/plain": [
       "(118,)"
      ]
     },
     "execution_count": 34,
     "metadata": {},
     "output_type": "execute_result"
    }
   ],
   "source": [
    "tor_food['Category'].unique().shape"
   ]
  },
  {
   "cell_type": "code",
   "execution_count": 38,
   "metadata": {},
   "outputs": [
    {
     "name": "stdout",
     "output_type": "stream",
     "text": [
      "<class 'pandas.core.frame.DataFrame'>\n",
      "Int64Index: 5255 entries, 0 to 5254\n",
      "Data columns (total 10 columns):\n",
      " #   Column         Non-Null Count  Dtype   \n",
      "---  ------         --------------  -----   \n",
      " 0   venue_id       5255 non-null   string  \n",
      " 1   Name           5255 non-null   string  \n",
      " 2   Category       5255 non-null   category\n",
      " 3   Sub-Category   0 non-null      object  \n",
      " 4   Latitude       5255 non-null   float64 \n",
      " 5   Longitude      5255 non-null   float64 \n",
      " 6   Distance       5255 non-null   int64   \n",
      " 7   Postcode       5255 non-null   category\n",
      " 8   Borough        5255 non-null   category\n",
      " 9   Neighbourhood  5255 non-null   category\n",
      "dtypes: category(4), float64(2), int64(1), object(1), string(2)\n",
      "memory usage: 320.5+ KB\n"
     ]
    }
   ],
   "source": [
    "# convert data types to categorical dtypes\n",
    "cat_list = ['Category', 'Postcode', 'Borough', 'Neighbourhood'] \n",
    "for cat in cat_list:\n",
    "    tor_food[cat] = tor_food[cat].astype('category')\n",
    "# convert to string type\n",
    "text_list = ['venue_id', 'Name']\n",
    "for text in text_list:\n",
    "    tor_food[text] = tor_food[text].astype('string')\n",
    "tor_food.info()"
   ]
  },
  {
   "cell_type": "code",
   "execution_count": 41,
   "metadata": {},
   "outputs": [
    {
     "data": {
      "text/plain": [
       "(5255, 128)"
      ]
     },
     "execution_count": 41,
     "metadata": {},
     "output_type": "execute_result"
    }
   ],
   "source": [
    "tor_food = tor_food.join(pd.get_dummies(tor_food['Category']))\n",
    "tor_food.shape"
   ]
  },
  {
   "cell_type": "code",
   "execution_count": null,
   "metadata": {},
   "outputs": [],
   "source": []
  }
 ],
 "metadata": {
  "file_extension": ".py",
  "kernelspec": {
   "display_name": "Python 3",
   "language": "python",
   "name": "python3"
  },
  "language_info": {
   "codemirror_mode": {
    "name": "ipython",
    "version": 3
   },
   "file_extension": ".py",
   "mimetype": "text/x-python",
   "name": "python",
   "nbconvert_exporter": "python",
   "pygments_lexer": "ipython3",
   "version": "3.8.1"
  },
  "mimetype": "text/x-python",
  "name": "python",
  "npconvert_exporter": "python",
  "pygments_lexer": "ipython3",
  "version": 3
 },
 "nbformat": 4,
 "nbformat_minor": 4
}
