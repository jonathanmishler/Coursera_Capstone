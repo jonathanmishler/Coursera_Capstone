{
 "cells": [
  {
   "cell_type": "markdown",
   "metadata": {},
   "source": [
    "## Week 3 - CAPSTONE: IBM Data Science Professional Certificate\n",
    "# Segmenting and Clustering Neighborhoods in Toronto"
   ]
  },
  {
   "cell_type": "code",
   "execution_count": 49,
   "metadata": {},
   "outputs": [],
   "source": [
    "import pandas as pd\n",
    "import requests\n",
    "from bs4 import BeautifulSoup\n",
    "import folium\n",
    "from geopy.geocoders import MapBox\n",
    "from geopy.extra.rate_limiter import RateLimiter"
   ]
  },
  {
   "cell_type": "code",
   "execution_count": 73,
   "metadata": {},
   "outputs": [],
   "source": [
    "# config file containing API KEYS\n",
    "from project_config import *"
   ]
  },
  {
   "cell_type": "markdown",
   "metadata": {},
   "source": [
    "## SECTION 1: Zipcode Data\n",
    "### Scrape the Data\n",
    "\n",
    "Pull the data from the table on the Wikipedia Page by requesting the page and parsing the HTML.  We will use the popular requests package to make our get request and use BeautifulSoup to parse the HTML.  BeautifulSoup has an easy API to traverse the HTML nodes and search based on HTML tags and attributes.\n",
    "\n",
    "#### Make the get request"
   ]
  },
  {
   "cell_type": "code",
   "execution_count": 37,
   "metadata": {},
   "outputs": [
    {
     "name": "stdout",
     "output_type": "stream",
     "text": [
      "<Response [200]>\n"
     ]
    }
   ],
   "source": [
    "url = 'https://en.wikipedia.org/wiki/List_of_postal_codes_of_Canada:_M'\n",
    "r = requests.get(url)\n",
    "# print the sever response to make sure we get a good 200 code\n",
    "print(r) "
   ]
  },
  {
   "cell_type": "markdown",
   "metadata": {},
   "source": [
    "#### Parse the page"
   ]
  },
  {
   "cell_type": "code",
   "execution_count": 38,
   "metadata": {},
   "outputs": [],
   "source": [
    "# parse the page and get a list of all the tables on the page\n",
    "page = BeautifulSoup(r.text, 'html.parser')\n"
   ]
  },
  {
   "cell_type": "markdown",
   "metadata": {},
   "source": [
    "#### Find the table with the data"
   ]
  },
  {
   "cell_type": "code",
   "execution_count": 39,
   "metadata": {},
   "outputs": [
    {
     "name": "stdout",
     "output_type": "stream",
     "text": [
      "There are 5 HTML tables on the page\n"
     ]
    }
   ],
   "source": [
    "tables = page.find_all('table')\n",
    "print(f'There are {len(tables)} HTML tables on the page')"
   ]
  },
  {
   "cell_type": "markdown",
   "metadata": {},
   "source": [
    "Since there are more then one table lets pull the header cells with HTML tag of **th** to find the correct table."
   ]
  },
  {
   "cell_type": "code",
   "execution_count": 40,
   "metadata": {},
   "outputs": [
    {
     "data": {
      "text/plain": [
       "[[<th>Postcode</th>,\n",
       "  <th>Borough</th>,\n",
       "  <th>Neighbourhood\n",
       "  </th>],\n",
       " [],\n",
       " [],\n",
       " [<th class=\"navbox-title\" style=\"font-size:110%\"><a href=\"/wiki/Postal_codes_in_Canada\" title=\"Postal codes in Canada\">Canadian postal codes</a>\n",
       "  </th>],\n",
       " []]"
      ]
     },
     "execution_count": 40,
     "metadata": {},
     "output_type": "execute_result"
    }
   ],
   "source": [
    "[table.find_all('th') for table in tables]"
   ]
  },
  {
   "cell_type": "markdown",
   "metadata": {},
   "source": [
    "From the python list above we can see that the first table on the page is the one we want to scrape."
   ]
  },
  {
   "cell_type": "markdown",
   "metadata": {},
   "source": [
    "#### Parse the table\n",
    "\n",
    "Loop over ever row in the table to get the text from each cell and map it to the column name.  Then convert to the pandas DataFrame to clean."
   ]
  },
  {
   "cell_type": "code",
   "execution_count": 41,
   "metadata": {},
   "outputs": [
    {
     "data": {
      "text/html": [
       "<div>\n",
       "<style scoped>\n",
       "    .dataframe tbody tr th:only-of-type {\n",
       "        vertical-align: middle;\n",
       "    }\n",
       "\n",
       "    .dataframe tbody tr th {\n",
       "        vertical-align: top;\n",
       "    }\n",
       "\n",
       "    .dataframe thead th {\n",
       "        text-align: right;\n",
       "    }\n",
       "</style>\n",
       "<table border=\"1\" class=\"dataframe\">\n",
       "  <thead>\n",
       "    <tr style=\"text-align: right;\">\n",
       "      <th></th>\n",
       "      <th>Postcode</th>\n",
       "      <th>Borough</th>\n",
       "      <th>Neighbourhood</th>\n",
       "    </tr>\n",
       "  </thead>\n",
       "  <tbody>\n",
       "    <tr>\n",
       "      <th>0</th>\n",
       "      <td>M1A</td>\n",
       "      <td>Not assigned</td>\n",
       "      <td>Not assigned</td>\n",
       "    </tr>\n",
       "    <tr>\n",
       "      <th>1</th>\n",
       "      <td>M2A</td>\n",
       "      <td>Not assigned</td>\n",
       "      <td>Not assigned</td>\n",
       "    </tr>\n",
       "    <tr>\n",
       "      <th>2</th>\n",
       "      <td>M3A</td>\n",
       "      <td>North York</td>\n",
       "      <td>Parkwoods</td>\n",
       "    </tr>\n",
       "    <tr>\n",
       "      <th>3</th>\n",
       "      <td>M4A</td>\n",
       "      <td>North York</td>\n",
       "      <td>Victoria Village</td>\n",
       "    </tr>\n",
       "    <tr>\n",
       "      <th>4</th>\n",
       "      <td>M5A</td>\n",
       "      <td>Downtown Toronto</td>\n",
       "      <td>Harbourfront</td>\n",
       "    </tr>\n",
       "  </tbody>\n",
       "</table>\n",
       "</div>"
      ],
      "text/plain": [
       "  Postcode           Borough     Neighbourhood\n",
       "0      M1A      Not assigned      Not assigned\n",
       "1      M2A      Not assigned      Not assigned\n",
       "2      M3A        North York         Parkwoods\n",
       "3      M4A        North York  Victoria Village\n",
       "4      M5A  Downtown Toronto      Harbourfront"
      ]
     },
     "execution_count": 41,
     "metadata": {},
     "output_type": "execute_result"
    }
   ],
   "source": [
    "# create list of every row in the table finding the HTML tag <tr>\n",
    "zipcode_table = tables[0].find_all('tr')\n",
    "header = [th.get_text(strip=True) for th in zipcode_table[0].find_all('th')]\n",
    "\n",
    "# loop over ever row and create a dict for each row\n",
    "zipcodes = map(\n",
    "    # function to create the dict using the header names and text value inside each cell\n",
    "    lambda row: {head: cell.get_text(strip=True) for head, cell in zip(header, row.find_all('td'))},\n",
    "    # skip the first row as this was the header row\n",
    "    zipcode_table[1:]\n",
    ")\n",
    "\n",
    "# convert to pandas dataframe\n",
    "zip_df = pd.DataFrame(zipcodes)\n",
    "zip_df.head()"
   ]
  },
  {
   "cell_type": "markdown",
   "metadata": {},
   "source": [
    "### Clean the Dataframe\n",
    "\n",
    "Use the new panda.NA singleton for all missing values with the place holder \"Not assigned.\"  Any postalcode without a Borough will be dropped, and any empty Neighbourhood will be replaced with the Borough value."
   ]
  },
  {
   "cell_type": "code",
   "execution_count": 42,
   "metadata": {},
   "outputs": [],
   "source": [
    "# convert \"Not assigned\" to pandas.NA types\n",
    "zip_df = zip_df.replace(\"Not assigned\", pd.NA)"
   ]
  },
  {
   "cell_type": "code",
   "execution_count": 43,
   "metadata": {},
   "outputs": [],
   "source": [
    "# drop all rows without a Borough\n",
    "zip_df = zip_df.dropna(subset=['Borough'])\n",
    "# fill any missing Neighbourhoods with the Borough Name\n",
    "zip_df['Neighbourhood'] = zip_df['Neighbourhood'].fillna(value=zip_df['Borough'])"
   ]
  },
  {
   "cell_type": "markdown",
   "metadata": {},
   "source": [
    "### Transform the Dataframe\n",
    "\n",
    "Combine all duplicated Postalcodes together by forming a comma seperated list of every Neighbourhood.  Also assuming that there is one Borough name per zipcode."
   ]
  },
  {
   "cell_type": "code",
   "execution_count": 44,
   "metadata": {},
   "outputs": [
    {
     "data": {
      "text/html": [
       "<div>\n",
       "<style scoped>\n",
       "    .dataframe tbody tr th:only-of-type {\n",
       "        vertical-align: middle;\n",
       "    }\n",
       "\n",
       "    .dataframe tbody tr th {\n",
       "        vertical-align: top;\n",
       "    }\n",
       "\n",
       "    .dataframe thead th {\n",
       "        text-align: right;\n",
       "    }\n",
       "</style>\n",
       "<table border=\"1\" class=\"dataframe\">\n",
       "  <thead>\n",
       "    <tr style=\"text-align: right;\">\n",
       "      <th></th>\n",
       "      <th>Postcode</th>\n",
       "      <th>Borough</th>\n",
       "      <th>Neighbourhood</th>\n",
       "    </tr>\n",
       "  </thead>\n",
       "  <tbody>\n",
       "    <tr>\n",
       "      <th>0</th>\n",
       "      <td>M1B</td>\n",
       "      <td>Scarborough</td>\n",
       "      <td>Rouge, Malvern</td>\n",
       "    </tr>\n",
       "    <tr>\n",
       "      <th>1</th>\n",
       "      <td>M1C</td>\n",
       "      <td>Scarborough</td>\n",
       "      <td>Highland Creek, Rouge Hill, Port Union</td>\n",
       "    </tr>\n",
       "    <tr>\n",
       "      <th>2</th>\n",
       "      <td>M1E</td>\n",
       "      <td>Scarborough</td>\n",
       "      <td>Guildwood, Morningside, West Hill</td>\n",
       "    </tr>\n",
       "    <tr>\n",
       "      <th>3</th>\n",
       "      <td>M1G</td>\n",
       "      <td>Scarborough</td>\n",
       "      <td>Woburn</td>\n",
       "    </tr>\n",
       "    <tr>\n",
       "      <th>4</th>\n",
       "      <td>M1H</td>\n",
       "      <td>Scarborough</td>\n",
       "      <td>Cedarbrae</td>\n",
       "    </tr>\n",
       "  </tbody>\n",
       "</table>\n",
       "</div>"
      ],
      "text/plain": [
       "  Postcode      Borough                           Neighbourhood\n",
       "0      M1B  Scarborough                          Rouge, Malvern\n",
       "1      M1C  Scarborough  Highland Creek, Rouge Hill, Port Union\n",
       "2      M1E  Scarborough       Guildwood, Morningside, West Hill\n",
       "3      M1G  Scarborough                                  Woburn\n",
       "4      M1H  Scarborough                               Cedarbrae"
      ]
     },
     "execution_count": 44,
     "metadata": {},
     "output_type": "execute_result"
    }
   ],
   "source": [
    "# For each postal code and borough group create a list of all the Neighbourhoods \n",
    "zip_df = zip_df.groupby(['Postcode','Borough']).apply(lambda x: \", \".join(x['Neighbourhood'].unique())).reset_index()\n",
    "zip_df.columns = ['Postcode','Borough', 'Neighbourhood']\n",
    "zip_df.head()"
   ]
  },
  {
   "cell_type": "markdown",
   "metadata": {},
   "source": [
    "### Print Shape of the Dataframe"
   ]
  },
  {
   "cell_type": "code",
   "execution_count": 45,
   "metadata": {},
   "outputs": [
    {
     "data": {
      "text/plain": [
       "(103, 3)"
      ]
     },
     "execution_count": 45,
     "metadata": {},
     "output_type": "execute_result"
    }
   ],
   "source": [
    "zip_df.shape"
   ]
  },
  {
   "cell_type": "markdown",
   "metadata": {},
   "source": [
    "## SECTION 2: Latitude and Longitude\n",
    "\n",
    "Create a function to pull the latitude and longitude from the \"zipcode, city, country\" from geocoder form MapBox using the geopy package"
   ]
  },
  {
   "cell_type": "code",
   "execution_count": 3,
   "metadata": {},
   "outputs": [],
   "source": [
    "locator = MapBox(api_key=MAPBOX_API_KEY)\n",
    "# limit the rate of api calls to 1 every second to avoid being blocked\n",
    "geocode = RateLimiter(locator.geocode, min_delay_seconds=1)"
   ]
  },
  {
   "cell_type": "code",
   "execution_count": 46,
   "metadata": {},
   "outputs": [],
   "source": [
    "def zip_to_coords(zipcode: str, city: str, state: str, country: str):\n",
    "    \"\"\" Get the latitude and longitude from the the given zipcode using the geocode funciton above\"\"\"\n",
    "    address = f'{city}, {state}, {zipcode}, {country}'\n",
    "    location = geocode(address)\n",
    "    return pd.Series((location.latitude, location.longitude))"
   ]
  },
  {
   "cell_type": "markdown",
   "metadata": {},
   "source": [
    "Create a new column in the zipcode dataframe for the latitude and longitude\n",
    "\n",
    "***Note:*** *Only run this cell below if you haven't already saved the CSV as this will take a few minutes to search for all the coordinates and will consume your MapBox resources*"
   ]
  },
  {
   "cell_type": "code",
   "execution_count": 47,
   "metadata": {},
   "outputs": [
    {
     "data": {
      "text/html": [
       "<div>\n",
       "<style scoped>\n",
       "    .dataframe tbody tr th:only-of-type {\n",
       "        vertical-align: middle;\n",
       "    }\n",
       "\n",
       "    .dataframe tbody tr th {\n",
       "        vertical-align: top;\n",
       "    }\n",
       "\n",
       "    .dataframe thead th {\n",
       "        text-align: right;\n",
       "    }\n",
       "</style>\n",
       "<table border=\"1\" class=\"dataframe\">\n",
       "  <thead>\n",
       "    <tr style=\"text-align: right;\">\n",
       "      <th></th>\n",
       "      <th>Postcode</th>\n",
       "      <th>Borough</th>\n",
       "      <th>Neighbourhood</th>\n",
       "      <th>Latitude</th>\n",
       "      <th>Longitude</th>\n",
       "    </tr>\n",
       "  </thead>\n",
       "  <tbody>\n",
       "    <tr>\n",
       "      <th>0</th>\n",
       "      <td>M1B</td>\n",
       "      <td>Scarborough</td>\n",
       "      <td>Rouge, Malvern</td>\n",
       "      <td>43.808241</td>\n",
       "      <td>-79.220533</td>\n",
       "    </tr>\n",
       "    <tr>\n",
       "      <th>1</th>\n",
       "      <td>M1C</td>\n",
       "      <td>Scarborough</td>\n",
       "      <td>Highland Creek, Rouge Hill, Port Union</td>\n",
       "      <td>43.780000</td>\n",
       "      <td>-79.190000</td>\n",
       "    </tr>\n",
       "    <tr>\n",
       "      <th>2</th>\n",
       "      <td>M1E</td>\n",
       "      <td>Scarborough</td>\n",
       "      <td>Guildwood, Morningside, West Hill</td>\n",
       "      <td>43.770000</td>\n",
       "      <td>-79.190000</td>\n",
       "    </tr>\n",
       "    <tr>\n",
       "      <th>3</th>\n",
       "      <td>M1G</td>\n",
       "      <td>Scarborough</td>\n",
       "      <td>Woburn</td>\n",
       "      <td>43.780000</td>\n",
       "      <td>-79.230000</td>\n",
       "    </tr>\n",
       "    <tr>\n",
       "      <th>4</th>\n",
       "      <td>M1H</td>\n",
       "      <td>Scarborough</td>\n",
       "      <td>Cedarbrae</td>\n",
       "      <td>43.780000</td>\n",
       "      <td>-79.250000</td>\n",
       "    </tr>\n",
       "  </tbody>\n",
       "</table>\n",
       "</div>"
      ],
      "text/plain": [
       "  Postcode      Borough                           Neighbourhood   Latitude  \\\n",
       "0      M1B  Scarborough                          Rouge, Malvern  43.808241   \n",
       "1      M1C  Scarborough  Highland Creek, Rouge Hill, Port Union  43.780000   \n",
       "2      M1E  Scarborough       Guildwood, Morningside, West Hill  43.770000   \n",
       "3      M1G  Scarborough                                  Woburn  43.780000   \n",
       "4      M1H  Scarborough                               Cedarbrae  43.780000   \n",
       "\n",
       "   Longitude  \n",
       "0 -79.220533  \n",
       "1 -79.190000  \n",
       "2 -79.190000  \n",
       "3 -79.230000  \n",
       "4 -79.250000  "
      ]
     },
     "execution_count": 47,
     "metadata": {},
     "output_type": "execute_result"
    }
   ],
   "source": [
    "zip_df[['Latitude', 'Longitude']] = zip_df['Postcode'].apply(zip_to_coords, args=('Toronto', 'Ontario', 'Canada'))\n",
    "zip_df.head()"
   ]
  },
  {
   "cell_type": "code",
   "execution_count": 48,
   "metadata": {},
   "outputs": [],
   "source": [
    "# export dataframe as a csv\n",
    "zip_df.to_csv('week3_data.csv')"
   ]
  },
  {
   "cell_type": "markdown",
   "metadata": {},
   "source": [
    "## SECTION 3: Cluster and Map"
   ]
  },
  {
   "cell_type": "code",
   "execution_count": 25,
   "metadata": {},
   "outputs": [
    {
     "data": {
      "text/html": [
       "<div>\n",
       "<style scoped>\n",
       "    .dataframe tbody tr th:only-of-type {\n",
       "        vertical-align: middle;\n",
       "    }\n",
       "\n",
       "    .dataframe tbody tr th {\n",
       "        vertical-align: top;\n",
       "    }\n",
       "\n",
       "    .dataframe thead th {\n",
       "        text-align: right;\n",
       "    }\n",
       "</style>\n",
       "<table border=\"1\" class=\"dataframe\">\n",
       "  <thead>\n",
       "    <tr style=\"text-align: right;\">\n",
       "      <th></th>\n",
       "      <th>Postcode</th>\n",
       "      <th>Borough</th>\n",
       "      <th>Neighbourhood</th>\n",
       "      <th>Latitude</th>\n",
       "      <th>Longitude</th>\n",
       "    </tr>\n",
       "  </thead>\n",
       "  <tbody>\n",
       "    <tr>\n",
       "      <th>0</th>\n",
       "      <td>M1B</td>\n",
       "      <td>Scarborough</td>\n",
       "      <td>Rouge, Malvern</td>\n",
       "      <td>43.808241</td>\n",
       "      <td>-79.220533</td>\n",
       "    </tr>\n",
       "    <tr>\n",
       "      <th>1</th>\n",
       "      <td>M1C</td>\n",
       "      <td>Scarborough</td>\n",
       "      <td>Highland Creek, Rouge Hill, Port Union</td>\n",
       "      <td>43.780000</td>\n",
       "      <td>-79.190000</td>\n",
       "    </tr>\n",
       "    <tr>\n",
       "      <th>2</th>\n",
       "      <td>M1E</td>\n",
       "      <td>Scarborough</td>\n",
       "      <td>Guildwood, Morningside, West Hill</td>\n",
       "      <td>43.770000</td>\n",
       "      <td>-79.190000</td>\n",
       "    </tr>\n",
       "    <tr>\n",
       "      <th>3</th>\n",
       "      <td>M1G</td>\n",
       "      <td>Scarborough</td>\n",
       "      <td>Woburn</td>\n",
       "      <td>43.780000</td>\n",
       "      <td>-79.230000</td>\n",
       "    </tr>\n",
       "    <tr>\n",
       "      <th>4</th>\n",
       "      <td>M1H</td>\n",
       "      <td>Scarborough</td>\n",
       "      <td>Cedarbrae</td>\n",
       "      <td>43.780000</td>\n",
       "      <td>-79.250000</td>\n",
       "    </tr>\n",
       "  </tbody>\n",
       "</table>\n",
       "</div>"
      ],
      "text/plain": [
       "  Postcode      Borough                           Neighbourhood   Latitude  \\\n",
       "0      M1B  Scarborough                          Rouge, Malvern  43.808241   \n",
       "1      M1C  Scarborough  Highland Creek, Rouge Hill, Port Union  43.780000   \n",
       "2      M1E  Scarborough       Guildwood, Morningside, West Hill  43.770000   \n",
       "3      M1G  Scarborough                                  Woburn  43.780000   \n",
       "4      M1H  Scarborough                               Cedarbrae  43.780000   \n",
       "\n",
       "   Longitude  \n",
       "0 -79.220533  \n",
       "1 -79.190000  \n",
       "2 -79.190000  \n",
       "3 -79.230000  \n",
       "4 -79.250000  "
      ]
     },
     "execution_count": 25,
     "metadata": {},
     "output_type": "execute_result"
    }
   ],
   "source": [
    "# download the csv if created, so we can skip the code above\n",
    "zip_df = pd.read_csv('week3_data.csv', index_col=0)\n",
    "zip_df.head()"
   ]
  },
  {
   "cell_type": "code",
   "execution_count": 35,
   "metadata": {},
   "outputs": [
    {
     "data": {
      "text/plain": [
       "array(['Scarborough', 'North York', 'East York', 'East Toronto',\n",
       "       'Central Toronto', 'Downtown Toronto', 'York', 'West Toronto',\n",
       "       'Mississauga', 'Etobicoke'], dtype=object)"
      ]
     },
     "execution_count": 35,
     "metadata": {},
     "output_type": "execute_result"
    }
   ],
   "source": [
    "zip_df['Borough'].unique()"
   ]
  },
  {
   "cell_type": "markdown",
   "metadata": {},
   "source": [
    "Get the coordinates of Toronto, Ontario, Canada to create the folium map centered on the city."
   ]
  },
  {
   "cell_type": "code",
   "execution_count": 27,
   "metadata": {},
   "outputs": [
    {
     "name": "stdout",
     "output_type": "stream",
     "text": [
      "Toronto, Ontario, Canada is located at 43.6529, -79.3849\n"
     ]
    }
   ],
   "source": [
    "tor_loc = geocode('Toronto, Ontario, Canada')\n",
    "print(f\"{tor_loc} is located at {tor_loc.latitude}, {tor_loc.longitude}\")"
   ]
  },
  {
   "cell_type": "markdown",
   "metadata": {},
   "source": [
    "### Map of Toronto\n",
    "\n",
    "I am choosing to exclude Downtown Toronto as the Postal Codes in that area are very dense, so this allows me to use Postal Codes that are much more evenly spaced out.  See below for Downtown Toronto in Blue."
   ]
  },
  {
   "cell_type": "code",
   "execution_count": 45,
   "metadata": {},
   "outputs": [
    {
     "data": {
      "text/html": [
       "<div style=\"width:100%;\"><div style=\"position:relative;width:100%;height:0;padding-bottom:60%;\"><iframe src=\"about:blank\" style=\"position:absolute;width:100%;height:100%;left:0;top:0;border:none !important;\" data-html=PCFET0NUWVBFIGh0bWw+CjxoZWFkPiAgICAKICAgIDxtZXRhIGh0dHAtZXF1aXY9ImNvbnRlbnQtdHlwZSIgY29udGVudD0idGV4dC9odG1sOyBjaGFyc2V0PVVURi04IiAvPgogICAgCiAgICAgICAgPHNjcmlwdD4KICAgICAgICAgICAgTF9OT19UT1VDSCA9IGZhbHNlOwogICAgICAgICAgICBMX0RJU0FCTEVfM0QgPSBmYWxzZTsKICAgICAgICA8L3NjcmlwdD4KICAgIAogICAgPHNjcmlwdCBzcmM9Imh0dHBzOi8vY2RuLmpzZGVsaXZyLm5ldC9ucG0vbGVhZmxldEAxLjUuMS9kaXN0L2xlYWZsZXQuanMiPjwvc2NyaXB0PgogICAgPHNjcmlwdCBzcmM9Imh0dHBzOi8vY29kZS5qcXVlcnkuY29tL2pxdWVyeS0xLjEyLjQubWluLmpzIj48L3NjcmlwdD4KICAgIDxzY3JpcHQgc3JjPSJodHRwczovL21heGNkbi5ib290c3RyYXBjZG4uY29tL2Jvb3RzdHJhcC8zLjIuMC9qcy9ib290c3RyYXAubWluLmpzIj48L3NjcmlwdD4KICAgIDxzY3JpcHQgc3JjPSJodHRwczovL2NkbmpzLmNsb3VkZmxhcmUuY29tL2FqYXgvbGlicy9MZWFmbGV0LmF3ZXNvbWUtbWFya2Vycy8yLjAuMi9sZWFmbGV0LmF3ZXNvbWUtbWFya2Vycy5qcyI+PC9zY3JpcHQ+CiAgICA8bGluayByZWw9InN0eWxlc2hlZXQiIGhyZWY9Imh0dHBzOi8vY2RuLmpzZGVsaXZyLm5ldC9ucG0vbGVhZmxldEAxLjUuMS9kaXN0L2xlYWZsZXQuY3NzIi8+CiAgICA8bGluayByZWw9InN0eWxlc2hlZXQiIGhyZWY9Imh0dHBzOi8vbWF4Y2RuLmJvb3RzdHJhcGNkbi5jb20vYm9vdHN0cmFwLzMuMi4wL2Nzcy9ib290c3RyYXAubWluLmNzcyIvPgogICAgPGxpbmsgcmVsPSJzdHlsZXNoZWV0IiBocmVmPSJodHRwczovL21heGNkbi5ib290c3RyYXBjZG4uY29tL2Jvb3RzdHJhcC8zLjIuMC9jc3MvYm9vdHN0cmFwLXRoZW1lLm1pbi5jc3MiLz4KICAgIDxsaW5rIHJlbD0ic3R5bGVzaGVldCIgaHJlZj0iaHR0cHM6Ly9tYXhjZG4uYm9vdHN0cmFwY2RuLmNvbS9mb250LWF3ZXNvbWUvNC42LjMvY3NzL2ZvbnQtYXdlc29tZS5taW4uY3NzIi8+CiAgICA8bGluayByZWw9InN0eWxlc2hlZXQiIGhyZWY9Imh0dHBzOi8vY2RuanMuY2xvdWRmbGFyZS5jb20vYWpheC9saWJzL0xlYWZsZXQuYXdlc29tZS1tYXJrZXJzLzIuMC4yL2xlYWZsZXQuYXdlc29tZS1tYXJrZXJzLmNzcyIvPgogICAgPGxpbmsgcmVsPSJzdHlsZXNoZWV0IiBocmVmPSJodHRwczovL3Jhd2Nkbi5naXRoYWNrLmNvbS9weXRob24tdmlzdWFsaXphdGlvbi9mb2xpdW0vbWFzdGVyL2ZvbGl1bS90ZW1wbGF0ZXMvbGVhZmxldC5hd2Vzb21lLnJvdGF0ZS5jc3MiLz4KICAgIDxzdHlsZT5odG1sLCBib2R5IHt3aWR0aDogMTAwJTtoZWlnaHQ6IDEwMCU7bWFyZ2luOiAwO3BhZGRpbmc6IDA7fTwvc3R5bGU+CiAgICA8c3R5bGU+I21hcCB7cG9zaXRpb246YWJzb2x1dGU7dG9wOjA7Ym90dG9tOjA7cmlnaHQ6MDtsZWZ0OjA7fTwvc3R5bGU+CiAgICAKICAgICAgICAgICAgPG1ldGEgbmFtZT0idmlld3BvcnQiIGNvbnRlbnQ9IndpZHRoPWRldmljZS13aWR0aCwKICAgICAgICAgICAgICAgIGluaXRpYWwtc2NhbGU9MS4wLCBtYXhpbXVtLXNjYWxlPTEuMCwgdXNlci1zY2FsYWJsZT1ubyIgLz4KICAgICAgICAgICAgPHN0eWxlPgogICAgICAgICAgICAgICAgI21hcF9mNWZkOWI3YTFiZTM0OTZkODUwYjhmZjQyYzJjYTFhMSB7CiAgICAgICAgICAgICAgICAgICAgcG9zaXRpb246IHJlbGF0aXZlOwogICAgICAgICAgICAgICAgICAgIHdpZHRoOiAxMDAuMCU7CiAgICAgICAgICAgICAgICAgICAgaGVpZ2h0OiAxMDAuMCU7CiAgICAgICAgICAgICAgICAgICAgbGVmdDogMC4wJTsKICAgICAgICAgICAgICAgICAgICB0b3A6IDAuMCU7CiAgICAgICAgICAgICAgICB9CiAgICAgICAgICAgIDwvc3R5bGU+CiAgICAgICAgCjwvaGVhZD4KPGJvZHk+ICAgIAogICAgCiAgICAgICAgICAgIDxkaXYgY2xhc3M9ImZvbGl1bS1tYXAiIGlkPSJtYXBfZjVmZDliN2ExYmUzNDk2ZDg1MGI4ZmY0MmMyY2ExYTEiID48L2Rpdj4KICAgICAgICAKPC9ib2R5Pgo8c2NyaXB0PiAgICAKICAgIAogICAgICAgICAgICB2YXIgbWFwX2Y1ZmQ5YjdhMWJlMzQ5NmQ4NTBiOGZmNDJjMmNhMWExID0gTC5tYXAoCiAgICAgICAgICAgICAgICAibWFwX2Y1ZmQ5YjdhMWJlMzQ5NmQ4NTBiOGZmNDJjMmNhMWExIiwKICAgICAgICAgICAgICAgIHsKICAgICAgICAgICAgICAgICAgICBjZW50ZXI6IFs0My42NTI5LCAtNzkuMzg0OV0sCiAgICAgICAgICAgICAgICAgICAgY3JzOiBMLkNSUy5FUFNHMzg1NywKICAgICAgICAgICAgICAgICAgICB6b29tOiAxMiwKICAgICAgICAgICAgICAgICAgICB6b29tQ29udHJvbDogdHJ1ZSwKICAgICAgICAgICAgICAgICAgICBwcmVmZXJDYW52YXM6IGZhbHNlLAogICAgICAgICAgICAgICAgfQogICAgICAgICAgICApOwoKICAgICAgICAgICAgCgogICAgICAgIAogICAgCiAgICAgICAgICAgIHZhciB0aWxlX2xheWVyXzhjMWRkZDU4YmIxZjRiMjFiNjRhYjNhMDU4MGJhNmRkID0gTC50aWxlTGF5ZXIoCiAgICAgICAgICAgICAgICAiaHR0cHM6Ly97c30udGlsZS5vcGVuc3RyZWV0bWFwLm9yZy97en0ve3h9L3t5fS5wbmciLAogICAgICAgICAgICAgICAgeyJhdHRyaWJ1dGlvbiI6ICJEYXRhIGJ5IFx1MDAyNmNvcHk7IFx1MDAzY2EgaHJlZj1cImh0dHA6Ly9vcGVuc3RyZWV0bWFwLm9yZ1wiXHUwMDNlT3BlblN0cmVldE1hcFx1MDAzYy9hXHUwMDNlLCB1bmRlciBcdTAwM2NhIGhyZWY9XCJodHRwOi8vd3d3Lm9wZW5zdHJlZXRtYXAub3JnL2NvcHlyaWdodFwiXHUwMDNlT0RiTFx1MDAzYy9hXHUwMDNlLiIsICJkZXRlY3RSZXRpbmEiOiBmYWxzZSwgIm1heE5hdGl2ZVpvb20iOiAxOCwgIm1heFpvb20iOiAxOCwgIm1pblpvb20iOiAwLCAibm9XcmFwIjogZmFsc2UsICJvcGFjaXR5IjogMSwgInN1YmRvbWFpbnMiOiAiYWJjIiwgInRtcyI6IGZhbHNlfQogICAgICAgICAgICApLmFkZFRvKG1hcF9mNWZkOWI3YTFiZTM0OTZkODUwYjhmZjQyYzJjYTFhMSk7CiAgICAgICAgCiAgICAKICAgICAgICAgICAgdmFyIGNpcmNsZV9tYXJrZXJfNTA1OWZlMzU2MTdmNGUzM2EzOWQzZWU5MGY2NWZhYzkgPSBMLmNpcmNsZU1hcmtlcigKICAgICAgICAgICAgICAgIFs0My44MDgyNDEsIC03OS4yMjA1MzM0OTk5OTk5OV0sCiAgICAgICAgICAgICAgICB7ImJ1YmJsaW5nTW91c2VFdmVudHMiOiB0cnVlLCAiY29sb3IiOiAiI0U5NzkwMCIsICJkYXNoQXJyYXkiOiBudWxsLCAiZGFzaE9mZnNldCI6IG51bGwsICJmaWxsIjogdHJ1ZSwgImZpbGxDb2xvciI6ICIjRjdCQjJEIiwgImZpbGxPcGFjaXR5IjogMC43LCAiZmlsbFJ1bGUiOiAiZXZlbm9kZCIsICJsaW5lQ2FwIjogInJvdW5kIiwgImxpbmVKb2luIjogInJvdW5kIiwgIm9wYWNpdHkiOiAxLjAsICJyYWRpdXMiOiA1LCAic3Ryb2tlIjogdHJ1ZSwgIndlaWdodCI6IDN9CiAgICAgICAgICAgICkuYWRkVG8obWFwX2Y1ZmQ5YjdhMWJlMzQ5NmQ4NTBiOGZmNDJjMmNhMWExKTsKICAgICAgICAKICAgIAogICAgICAgIHZhciBwb3B1cF9kZTI2MjY4YmY0Y2Y0ZjQyODM0NzJhYmI1NTJhY2YzMiA9IEwucG9wdXAoeyJtYXhXaWR0aCI6ICIxMDAlIn0pOwoKICAgICAgICAKICAgICAgICAgICAgdmFyIGh0bWxfNGEwNzI1OTA4N2U0NGRjYzhkODY5NDk5ODE3YjhjNzAgPSAkKGA8ZGl2IGlkPSJodG1sXzRhMDcyNTkwODdlNDRkY2M4ZDg2OTQ5OTgxN2I4YzcwIiBzdHlsZT0id2lkdGg6IDEwMC4wJTsgaGVpZ2h0OiAxMDAuMCU7Ij5TY2FyYm9yb3VnaCwgTTFCIChSb3VnZSwgTWFsdmVybik8L2Rpdj5gKVswXTsKICAgICAgICAgICAgcG9wdXBfZGUyNjI2OGJmNGNmNGY0MjgzNDcyYWJiNTUyYWNmMzIuc2V0Q29udGVudChodG1sXzRhMDcyNTkwODdlNDRkY2M4ZDg2OTQ5OTgxN2I4YzcwKTsKICAgICAgICAKCiAgICAgICAgY2lyY2xlX21hcmtlcl81MDU5ZmUzNTYxN2Y0ZTMzYTM5ZDNlZTkwZjY1ZmFjOS5iaW5kUG9wdXAocG9wdXBfZGUyNjI2OGJmNGNmNGY0MjgzNDcyYWJiNTUyYWNmMzIpCiAgICAgICAgOwoKICAgICAgICAKICAgIAogICAgCiAgICAgICAgICAgIHZhciBjaXJjbGVfbWFya2VyX2RmMzczM2QxZmI4NDRmZDRhN2U3NGVkMzVhNmYzMGRkID0gTC5jaXJjbGVNYXJrZXIoCiAgICAgICAgICAgICAgICBbNDMuNzgsIC03OS4xOV0sCiAgICAgICAgICAgICAgICB7ImJ1YmJsaW5nTW91c2VFdmVudHMiOiB0cnVlLCAiY29sb3IiOiAiI0U5NzkwMCIsICJkYXNoQXJyYXkiOiBudWxsLCAiZGFzaE9mZnNldCI6IG51bGwsICJmaWxsIjogdHJ1ZSwgImZpbGxDb2xvciI6ICIjRjdCQjJEIiwgImZpbGxPcGFjaXR5IjogMC43LCAiZmlsbFJ1bGUiOiAiZXZlbm9kZCIsICJsaW5lQ2FwIjogInJvdW5kIiwgImxpbmVKb2luIjogInJvdW5kIiwgIm9wYWNpdHkiOiAxLjAsICJyYWRpdXMiOiA1LCAic3Ryb2tlIjogdHJ1ZSwgIndlaWdodCI6IDN9CiAgICAgICAgICAgICkuYWRkVG8obWFwX2Y1ZmQ5YjdhMWJlMzQ5NmQ4NTBiOGZmNDJjMmNhMWExKTsKICAgICAgICAKICAgIAogICAgICAgIHZhciBwb3B1cF8wZjk3OGUwMjEzYjE0ODc0ODI0YjQ1OTY5YTRkMDJhOSA9IEwucG9wdXAoeyJtYXhXaWR0aCI6ICIxMDAlIn0pOwoKICAgICAgICAKICAgICAgICAgICAgdmFyIGh0bWxfYjljYjBjMmM1ZDE2NDcxYzk3NzI0Zjg0M2ZiMmQ1ZTYgPSAkKGA8ZGl2IGlkPSJodG1sX2I5Y2IwYzJjNWQxNjQ3MWM5NzcyNGY4NDNmYjJkNWU2IiBzdHlsZT0id2lkdGg6IDEwMC4wJTsgaGVpZ2h0OiAxMDAuMCU7Ij5TY2FyYm9yb3VnaCwgTTFDIChIaWdobGFuZCBDcmVlaywgUm91Z2UgSGlsbCwgUG9ydCBVbmlvbik8L2Rpdj5gKVswXTsKICAgICAgICAgICAgcG9wdXBfMGY5NzhlMDIxM2IxNDg3NDgyNGI0NTk2OWE0ZDAyYTkuc2V0Q29udGVudChodG1sX2I5Y2IwYzJjNWQxNjQ3MWM5NzcyNGY4NDNmYjJkNWU2KTsKICAgICAgICAKCiAgICAgICAgY2lyY2xlX21hcmtlcl9kZjM3MzNkMWZiODQ0ZmQ0YTdlNzRlZDM1YTZmMzBkZC5iaW5kUG9wdXAocG9wdXBfMGY5NzhlMDIxM2IxNDg3NDgyNGI0NTk2OWE0ZDAyYTkpCiAgICAgICAgOwoKICAgICAgICAKICAgIAogICAgCiAgICAgICAgICAgIHZhciBjaXJjbGVfbWFya2VyXzE0NDE4N2M1MmE2MzQ0MmE4YTU3YzkyYTkxOWUyMmM3ID0gTC5jaXJjbGVNYXJrZXIoCiAgICAgICAgICAgICAgICBbNDMuNzcsIC03OS4xOV0sCiAgICAgICAgICAgICAgICB7ImJ1YmJsaW5nTW91c2VFdmVudHMiOiB0cnVlLCAiY29sb3IiOiAiI0U5NzkwMCIsICJkYXNoQXJyYXkiOiBudWxsLCAiZGFzaE9mZnNldCI6IG51bGwsICJmaWxsIjogdHJ1ZSwgImZpbGxDb2xvciI6ICIjRjdCQjJEIiwgImZpbGxPcGFjaXR5IjogMC43LCAiZmlsbFJ1bGUiOiAiZXZlbm9kZCIsICJsaW5lQ2FwIjogInJvdW5kIiwgImxpbmVKb2luIjogInJvdW5kIiwgIm9wYWNpdHkiOiAxLjAsICJyYWRpdXMiOiA1LCAic3Ryb2tlIjogdHJ1ZSwgIndlaWdodCI6IDN9CiAgICAgICAgICAgICkuYWRkVG8obWFwX2Y1ZmQ5YjdhMWJlMzQ5NmQ4NTBiOGZmNDJjMmNhMWExKTsKICAgICAgICAKICAgIAogICAgICAgIHZhciBwb3B1cF9lZTkxOTI1NWI0OTE0ZWVjYmFjNDViNWUxOTAyNmEyMSA9IEwucG9wdXAoeyJtYXhXaWR0aCI6ICIxMDAlIn0pOwoKICAgICAgICAKICAgICAgICAgICAgdmFyIGh0bWxfYjI5YjQ1OWIzMGVkNDJlY2I4YjgzYTc2NGI3NzE5MDUgPSAkKGA8ZGl2IGlkPSJodG1sX2IyOWI0NTliMzBlZDQyZWNiOGI4M2E3NjRiNzcxOTA1IiBzdHlsZT0id2lkdGg6IDEwMC4wJTsgaGVpZ2h0OiAxMDAuMCU7Ij5TY2FyYm9yb3VnaCwgTTFFIChHdWlsZHdvb2QsIE1vcm5pbmdzaWRlLCBXZXN0IEhpbGwpPC9kaXY+YClbMF07CiAgICAgICAgICAgIHBvcHVwX2VlOTE5MjU1YjQ5MTRlZWNiYWM0NWI1ZTE5MDI2YTIxLnNldENvbnRlbnQoaHRtbF9iMjliNDU5YjMwZWQ0MmVjYjhiODNhNzY0Yjc3MTkwNSk7CiAgICAgICAgCgogICAgICAgIGNpcmNsZV9tYXJrZXJfMTQ0MTg3YzUyYTYzNDQyYThhNTdjOTJhOTE5ZTIyYzcuYmluZFBvcHVwKHBvcHVwX2VlOTE5MjU1YjQ5MTRlZWNiYWM0NWI1ZTE5MDI2YTIxKQogICAgICAgIDsKCiAgICAgICAgCiAgICAKICAgIAogICAgICAgICAgICB2YXIgY2lyY2xlX21hcmtlcl8xOTAwMGY4ODI4YmI0NWZjOWE0YWJhMzRjMWM3YzEzYyA9IEwuY2lyY2xlTWFya2VyKAogICAgICAgICAgICAgICAgWzQzLjc4LCAtNzkuMjNdLAogICAgICAgICAgICAgICAgeyJidWJibGluZ01vdXNlRXZlbnRzIjogdHJ1ZSwgImNvbG9yIjogIiNFOTc5MDAiLCAiZGFzaEFycmF5IjogbnVsbCwgImRhc2hPZmZzZXQiOiBudWxsLCAiZmlsbCI6IHRydWUsICJmaWxsQ29sb3IiOiAiI0Y3QkIyRCIsICJmaWxsT3BhY2l0eSI6IDAuNywgImZpbGxSdWxlIjogImV2ZW5vZGQiLCAibGluZUNhcCI6ICJyb3VuZCIsICJsaW5lSm9pbiI6ICJyb3VuZCIsICJvcGFjaXR5IjogMS4wLCAicmFkaXVzIjogNSwgInN0cm9rZSI6IHRydWUsICJ3ZWlnaHQiOiAzfQogICAgICAgICAgICApLmFkZFRvKG1hcF9mNWZkOWI3YTFiZTM0OTZkODUwYjhmZjQyYzJjYTFhMSk7CiAgICAgICAgCiAgICAKICAgICAgICB2YXIgcG9wdXBfY2MyN2ZhYTJlOTlhNDRkMzhhNGRhOTc3Y2M4NTRiZjEgPSBMLnBvcHVwKHsibWF4V2lkdGgiOiAiMTAwJSJ9KTsKCiAgICAgICAgCiAgICAgICAgICAgIHZhciBodG1sX2VmZmE1NzE5OGVlYjRmYjg5NzFlMDU1ZGFiNzQyNTQ3ID0gJChgPGRpdiBpZD0iaHRtbF9lZmZhNTcxOThlZWI0ZmI4OTcxZTA1NWRhYjc0MjU0NyIgc3R5bGU9IndpZHRoOiAxMDAuMCU7IGhlaWdodDogMTAwLjAlOyI+U2NhcmJvcm91Z2gsIE0xRyAoV29idXJuKTwvZGl2PmApWzBdOwogICAgICAgICAgICBwb3B1cF9jYzI3ZmFhMmU5OWE0NGQzOGE0ZGE5NzdjYzg1NGJmMS5zZXRDb250ZW50KGh0bWxfZWZmYTU3MTk4ZWViNGZiODk3MWUwNTVkYWI3NDI1NDcpOwogICAgICAgIAoKICAgICAgICBjaXJjbGVfbWFya2VyXzE5MDAwZjg4MjhiYjQ1ZmM5YTRhYmEzNGMxYzdjMTNjLmJpbmRQb3B1cChwb3B1cF9jYzI3ZmFhMmU5OWE0NGQzOGE0ZGE5NzdjYzg1NGJmMSkKICAgICAgICA7CgogICAgICAgIAogICAgCiAgICAKICAgICAgICAgICAgdmFyIGNpcmNsZV9tYXJrZXJfMTZmNTRhYzA1YzhlNGFjNzgzMmQ2ZGEyODRiZWY5NGEgPSBMLmNpcmNsZU1hcmtlcigKICAgICAgICAgICAgICAgIFs0My43OCwgLTc5LjI1XSwKICAgICAgICAgICAgICAgIHsiYnViYmxpbmdNb3VzZUV2ZW50cyI6IHRydWUsICJjb2xvciI6ICIjRTk3OTAwIiwgImRhc2hBcnJheSI6IG51bGwsICJkYXNoT2Zmc2V0IjogbnVsbCwgImZpbGwiOiB0cnVlLCAiZmlsbENvbG9yIjogIiNGN0JCMkQiLCAiZmlsbE9wYWNpdHkiOiAwLjcsICJmaWxsUnVsZSI6ICJldmVub2RkIiwgImxpbmVDYXAiOiAicm91bmQiLCAibGluZUpvaW4iOiAicm91bmQiLCAib3BhY2l0eSI6IDEuMCwgInJhZGl1cyI6IDUsICJzdHJva2UiOiB0cnVlLCAid2VpZ2h0IjogM30KICAgICAgICAgICAgKS5hZGRUbyhtYXBfZjVmZDliN2ExYmUzNDk2ZDg1MGI4ZmY0MmMyY2ExYTEpOwogICAgICAgIAogICAgCiAgICAgICAgdmFyIHBvcHVwXzk2ODhhMmRkMzAzNjQ3MzZiNmE3MWQ4ZTg0NDQwMTQ4ID0gTC5wb3B1cCh7Im1heFdpZHRoIjogIjEwMCUifSk7CgogICAgICAgIAogICAgICAgICAgICB2YXIgaHRtbF85ZDZhMTkzYzc2OGM0MjkzYmI0NzZlNjA1YzlkZGJkMSA9ICQoYDxkaXYgaWQ9Imh0bWxfOWQ2YTE5M2M3NjhjNDI5M2JiNDc2ZTYwNWM5ZGRiZDEiIHN0eWxlPSJ3aWR0aDogMTAwLjAlOyBoZWlnaHQ6IDEwMC4wJTsiPlNjYXJib3JvdWdoLCBNMUggKENlZGFyYnJhZSk8L2Rpdj5gKVswXTsKICAgICAgICAgICAgcG9wdXBfOTY4OGEyZGQzMDM2NDczNmI2YTcxZDhlODQ0NDAxNDguc2V0Q29udGVudChodG1sXzlkNmExOTNjNzY4YzQyOTNiYjQ3NmU2MDVjOWRkYmQxKTsKICAgICAgICAKCiAgICAgICAgY2lyY2xlX21hcmtlcl8xNmY1NGFjMDVjOGU0YWM3ODMyZDZkYTI4NGJlZjk0YS5iaW5kUG9wdXAocG9wdXBfOTY4OGEyZGQzMDM2NDczNmI2YTcxZDhlODQ0NDAxNDgpCiAgICAgICAgOwoKICAgICAgICAKICAgIAogICAgCiAgICAgICAgICAgIHZhciBjaXJjbGVfbWFya2VyX2E2YTJlZTY1ZGEyYjQyYTBhMDkxOWE5YTg2M2Q4MzJjID0gTC5jaXJjbGVNYXJrZXIoCiAgICAgICAgICAgICAgICBbNDMuNzQsIC03OS4yNV0sCiAgICAgICAgICAgICAgICB7ImJ1YmJsaW5nTW91c2VFdmVudHMiOiB0cnVlLCAiY29sb3IiOiAiI0U5NzkwMCIsICJkYXNoQXJyYXkiOiBudWxsLCAiZGFzaE9mZnNldCI6IG51bGwsICJmaWxsIjogdHJ1ZSwgImZpbGxDb2xvciI6ICIjRjdCQjJEIiwgImZpbGxPcGFjaXR5IjogMC43LCAiZmlsbFJ1bGUiOiAiZXZlbm9kZCIsICJsaW5lQ2FwIjogInJvdW5kIiwgImxpbmVKb2luIjogInJvdW5kIiwgIm9wYWNpdHkiOiAxLjAsICJyYWRpdXMiOiA1LCAic3Ryb2tlIjogdHJ1ZSwgIndlaWdodCI6IDN9CiAgICAgICAgICAgICkuYWRkVG8obWFwX2Y1ZmQ5YjdhMWJlMzQ5NmQ4NTBiOGZmNDJjMmNhMWExKTsKICAgICAgICAKICAgIAogICAgICAgIHZhciBwb3B1cF8yN2EzZDFmY2JmYjE0ZGM3YjNlOTcyNjM3ZTQxMWZhMiA9IEwucG9wdXAoeyJtYXhXaWR0aCI6ICIxMDAlIn0pOwoKICAgICAgICAKICAgICAgICAgICAgdmFyIGh0bWxfZjRmMzIwNGZhN2Q0NGZjZmJlZjdjMTQ3MmZkMDYzMzQgPSAkKGA8ZGl2IGlkPSJodG1sX2Y0ZjMyMDRmYTdkNDRmY2ZiZWY3YzE0NzJmZDA2MzM0IiBzdHlsZT0id2lkdGg6IDEwMC4wJTsgaGVpZ2h0OiAxMDAuMCU7Ij5TY2FyYm9yb3VnaCwgTTFKIChTY2FyYm9yb3VnaCBWaWxsYWdlKTwvZGl2PmApWzBdOwogICAgICAgICAgICBwb3B1cF8yN2EzZDFmY2JmYjE0ZGM3YjNlOTcyNjM3ZTQxMWZhMi5zZXRDb250ZW50KGh0bWxfZjRmMzIwNGZhN2Q0NGZjZmJlZjdjMTQ3MmZkMDYzMzQpOwogICAgICAgIAoKICAgICAgICBjaXJjbGVfbWFya2VyX2E2YTJlZTY1ZGEyYjQyYTBhMDkxOWE5YTg2M2Q4MzJjLmJpbmRQb3B1cChwb3B1cF8yN2EzZDFmY2JmYjE0ZGM3YjNlOTcyNjM3ZTQxMWZhMikKICAgICAgICA7CgogICAgICAgIAogICAgCiAgICAKICAgICAgICAgICAgdmFyIGNpcmNsZV9tYXJrZXJfMDA3YWVlYTFkOGY1NGYyNTgzZDFlMDQzZTc5NDJhZjIgPSBMLmNpcmNsZU1hcmtlcigKICAgICAgICAgICAgICAgIFs0My43MywgLTc5LjI2XSwKICAgICAgICAgICAgICAgIHsiYnViYmxpbmdNb3VzZUV2ZW50cyI6IHRydWUsICJjb2xvciI6ICIjRTk3OTAwIiwgImRhc2hBcnJheSI6IG51bGwsICJkYXNoT2Zmc2V0IjogbnVsbCwgImZpbGwiOiB0cnVlLCAiZmlsbENvbG9yIjogIiNGN0JCMkQiLCAiZmlsbE9wYWNpdHkiOiAwLjcsICJmaWxsUnVsZSI6ICJldmVub2RkIiwgImxpbmVDYXAiOiAicm91bmQiLCAibGluZUpvaW4iOiAicm91bmQiLCAib3BhY2l0eSI6IDEuMCwgInJhZGl1cyI6IDUsICJzdHJva2UiOiB0cnVlLCAid2VpZ2h0IjogM30KICAgICAgICAgICAgKS5hZGRUbyhtYXBfZjVmZDliN2ExYmUzNDk2ZDg1MGI4ZmY0MmMyY2ExYTEpOwogICAgICAgIAogICAgCiAgICAgICAgdmFyIHBvcHVwX2M0YjdiNWNiZWRmZTQ1YTc5YjU2MDJiOTBhOTViZDRhID0gTC5wb3B1cCh7Im1heFdpZHRoIjogIjEwMCUifSk7CgogICAgICAgIAogICAgICAgICAgICB2YXIgaHRtbF82ODE1Y2ZhNzA1NDQ0MDRkODg3MWZiYTAzYzM2MWUzMyA9ICQoYDxkaXYgaWQ9Imh0bWxfNjgxNWNmYTcwNTQ0NDA0ZDg4NzFmYmEwM2MzNjFlMzMiIHN0eWxlPSJ3aWR0aDogMTAwLjAlOyBoZWlnaHQ6IDEwMC4wJTsiPlNjYXJib3JvdWdoLCBNMUsgKEVhc3QgQmlyY2htb3VudCBQYXJrLCBJb252aWV3LCBLZW5uZWR5IFBhcmspPC9kaXY+YClbMF07CiAgICAgICAgICAgIHBvcHVwX2M0YjdiNWNiZWRmZTQ1YTc5YjU2MDJiOTBhOTViZDRhLnNldENvbnRlbnQoaHRtbF82ODE1Y2ZhNzA1NDQ0MDRkODg3MWZiYTAzYzM2MWUzMyk7CiAgICAgICAgCgogICAgICAgIGNpcmNsZV9tYXJrZXJfMDA3YWVlYTFkOGY1NGYyNTgzZDFlMDQzZTc5NDJhZjIuYmluZFBvcHVwKHBvcHVwX2M0YjdiNWNiZWRmZTQ1YTc5YjU2MDJiOTBhOTViZDRhKQogICAgICAgIDsKCiAgICAgICAgCiAgICAKICAgIAogICAgICAgICAgICB2YXIgY2lyY2xlX21hcmtlcl9mYjRmNzNiMTIwZWY0ZWNjYjFiODVlYmRmNmJhMzY2NCA9IEwuY2lyY2xlTWFya2VyKAogICAgICAgICAgICAgICAgWzQzLjcyMzgyNCwgLTc5LjMwMDkwODk5OTk5OTk5XSwKICAgICAgICAgICAgICAgIHsiYnViYmxpbmdNb3VzZUV2ZW50cyI6IHRydWUsICJjb2xvciI6ICIjRTk3OTAwIiwgImRhc2hBcnJheSI6IG51bGwsICJkYXNoT2Zmc2V0IjogbnVsbCwgImZpbGwiOiB0cnVlLCAiZmlsbENvbG9yIjogIiNGN0JCMkQiLCAiZmlsbE9wYWNpdHkiOiAwLjcsICJmaWxsUnVsZSI6ICJldmVub2RkIiwgImxpbmVDYXAiOiAicm91bmQiLCAibGluZUpvaW4iOiAicm91bmQiLCAib3BhY2l0eSI6IDEuMCwgInJhZGl1cyI6IDUsICJzdHJva2UiOiB0cnVlLCAid2VpZ2h0IjogM30KICAgICAgICAgICAgKS5hZGRUbyhtYXBfZjVmZDliN2ExYmUzNDk2ZDg1MGI4ZmY0MmMyY2ExYTEpOwogICAgICAgIAogICAgCiAgICAgICAgdmFyIHBvcHVwXzk3OTg2NzFlNDcyOTQ2OGVhZGYwNGM4YjA0YmE1MjhjID0gTC5wb3B1cCh7Im1heFdpZHRoIjogIjEwMCUifSk7CgogICAgICAgIAogICAgICAgICAgICB2YXIgaHRtbF81ZDAxMGE1NTNhNjI0MDg2ODkzNzY3Y2M0OWJmMDIyMCA9ICQoYDxkaXYgaWQ9Imh0bWxfNWQwMTBhNTUzYTYyNDA4Njg5Mzc2N2NjNDliZjAyMjAiIHN0eWxlPSJ3aWR0aDogMTAwLjAlOyBoZWlnaHQ6IDEwMC4wJTsiPlNjYXJib3JvdWdoLCBNMUwgKENsYWlybGVhLCBHb2xkZW4gTWlsZSwgT2FrcmlkZ2UpPC9kaXY+YClbMF07CiAgICAgICAgICAgIHBvcHVwXzk3OTg2NzFlNDcyOTQ2OGVhZGYwNGM4YjA0YmE1MjhjLnNldENvbnRlbnQoaHRtbF81ZDAxMGE1NTNhNjI0MDg2ODkzNzY3Y2M0OWJmMDIyMCk7CiAgICAgICAgCgogICAgICAgIGNpcmNsZV9tYXJrZXJfZmI0ZjczYjEyMGVmNGVjY2IxYjg1ZWJkZjZiYTM2NjQuYmluZFBvcHVwKHBvcHVwXzk3OTg2NzFlNDcyOTQ2OGVhZGYwNGM4YjA0YmE1MjhjKQogICAgICAgIDsKCiAgICAgICAgCiAgICAKICAgIAogICAgICAgICAgICB2YXIgY2lyY2xlX21hcmtlcl81MjU4MjZlYjAzODQ0OGQ2YmExNDFjZWExYmZmMTM3YSA9IEwuY2lyY2xlTWFya2VyKAogICAgICAgICAgICAgICAgWzQzLjc0LCAtNzkuMjJdLAogICAgICAgICAgICAgICAgeyJidWJibGluZ01vdXNlRXZlbnRzIjogdHJ1ZSwgImNvbG9yIjogIiNFOTc5MDAiLCAiZGFzaEFycmF5IjogbnVsbCwgImRhc2hPZmZzZXQiOiBudWxsLCAiZmlsbCI6IHRydWUsICJmaWxsQ29sb3IiOiAiI0Y3QkIyRCIsICJmaWxsT3BhY2l0eSI6IDAuNywgImZpbGxSdWxlIjogImV2ZW5vZGQiLCAibGluZUNhcCI6ICJyb3VuZCIsICJsaW5lSm9pbiI6ICJyb3VuZCIsICJvcGFjaXR5IjogMS4wLCAicmFkaXVzIjogNSwgInN0cm9rZSI6IHRydWUsICJ3ZWlnaHQiOiAzfQogICAgICAgICAgICApLmFkZFRvKG1hcF9mNWZkOWI3YTFiZTM0OTZkODUwYjhmZjQyYzJjYTFhMSk7CiAgICAgICAgCiAgICAKICAgICAgICB2YXIgcG9wdXBfYzM3MGY3NzEwZTVhNDk0MGJlMzUwMjYzMDA0YmNiNmUgPSBMLnBvcHVwKHsibWF4V2lkdGgiOiAiMTAwJSJ9KTsKCiAgICAgICAgCiAgICAgICAgICAgIHZhciBodG1sXzIxZjg2N2UxOGYzNzRiZmQ4OTRhMzM0MjIyZTVjY2UyID0gJChgPGRpdiBpZD0iaHRtbF8yMWY4NjdlMThmMzc0YmZkODk0YTMzNDIyMmU1Y2NlMiIgc3R5bGU9IndpZHRoOiAxMDAuMCU7IGhlaWdodDogMTAwLjAlOyI+U2NhcmJvcm91Z2gsIE0xTSAoQ2xpZmZjcmVzdCwgQ2xpZmZzaWRlLCBTY2FyYm9yb3VnaCBWaWxsYWdlIFdlc3QpPC9kaXY+YClbMF07CiAgICAgICAgICAgIHBvcHVwX2MzNzBmNzcxMGU1YTQ5NDBiZTM1MDI2MzAwNGJjYjZlLnNldENvbnRlbnQoaHRtbF8yMWY4NjdlMThmMzc0YmZkODk0YTMzNDIyMmU1Y2NlMik7CiAgICAgICAgCgogICAgICAgIGNpcmNsZV9tYXJrZXJfNTI1ODI2ZWIwMzg0NDhkNmJhMTQxY2VhMWJmZjEzN2EuYmluZFBvcHVwKHBvcHVwX2MzNzBmNzcxMGU1YTQ5NDBiZTM1MDI2MzAwNGJjYjZlKQogICAgICAgIDsKCiAgICAgICAgCiAgICAKICAgIAogICAgICAgICAgICB2YXIgY2lyY2xlX21hcmtlcl83NDk3NDk4YjZhNjI0NGQ3YmY0Y2JiMDlmNDQ0MjRlMyA9IEwuY2lyY2xlTWFya2VyKAogICAgICAgICAgICAgICAgWzQzLjcxLCAtNzkuMjVdLAogICAgICAgICAgICAgICAgeyJidWJibGluZ01vdXNlRXZlbnRzIjogdHJ1ZSwgImNvbG9yIjogIiNFOTc5MDAiLCAiZGFzaEFycmF5IjogbnVsbCwgImRhc2hPZmZzZXQiOiBudWxsLCAiZmlsbCI6IHRydWUsICJmaWxsQ29sb3IiOiAiI0Y3QkIyRCIsICJmaWxsT3BhY2l0eSI6IDAuNywgImZpbGxSdWxlIjogImV2ZW5vZGQiLCAibGluZUNhcCI6ICJyb3VuZCIsICJsaW5lSm9pbiI6ICJyb3VuZCIsICJvcGFjaXR5IjogMS4wLCAicmFkaXVzIjogNSwgInN0cm9rZSI6IHRydWUsICJ3ZWlnaHQiOiAzfQogICAgICAgICAgICApLmFkZFRvKG1hcF9mNWZkOWI3YTFiZTM0OTZkODUwYjhmZjQyYzJjYTFhMSk7CiAgICAgICAgCiAgICAKICAgICAgICB2YXIgcG9wdXBfYjU5N2QyMWJiYmZiNDljNzg3ZjZhYjk1NGVjOTgwMWIgPSBMLnBvcHVwKHsibWF4V2lkdGgiOiAiMTAwJSJ9KTsKCiAgICAgICAgCiAgICAgICAgICAgIHZhciBodG1sX2M3NzVhOTg5NmE1OTQ0MzhhNjQzMDhhMDc1YjJkZDkzID0gJChgPGRpdiBpZD0iaHRtbF9jNzc1YTk4OTZhNTk0NDM4YTY0MzA4YTA3NWIyZGQ5MyIgc3R5bGU9IndpZHRoOiAxMDAuMCU7IGhlaWdodDogMTAwLjAlOyI+U2NhcmJvcm91Z2gsIE0xTiAoQmlyY2ggQ2xpZmYsIENsaWZmc2lkZSBXZXN0KTwvZGl2PmApWzBdOwogICAgICAgICAgICBwb3B1cF9iNTk3ZDIxYmJiZmI0OWM3ODdmNmFiOTU0ZWM5ODAxYi5zZXRDb250ZW50KGh0bWxfYzc3NWE5ODk2YTU5NDQzOGE2NDMwOGEwNzViMmRkOTMpOwogICAgICAgIAoKICAgICAgICBjaXJjbGVfbWFya2VyXzc0OTc0OThiNmE2MjQ0ZDdiZjRjYmIwOWY0NDQyNGUzLmJpbmRQb3B1cChwb3B1cF9iNTk3ZDIxYmJiZmI0OWM3ODdmNmFiOTU0ZWM5ODAxYikKICAgICAgICA7CgogICAgICAgIAogICAgCiAgICAKICAgICAgICAgICAgdmFyIGNpcmNsZV9tYXJrZXJfMTFlYzJkYmU2MmYyNDRmYThmYzk1NjhjNGVmOTllNjcgPSBMLmNpcmNsZU1hcmtlcigKICAgICAgICAgICAgICAgIFs0My43NTkzNTYsIC03OS4yNzg5MzFdLAogICAgICAgICAgICAgICAgeyJidWJibGluZ01vdXNlRXZlbnRzIjogdHJ1ZSwgImNvbG9yIjogIiNFOTc5MDAiLCAiZGFzaEFycmF5IjogbnVsbCwgImRhc2hPZmZzZXQiOiBudWxsLCAiZmlsbCI6IHRydWUsICJmaWxsQ29sb3IiOiAiI0Y3QkIyRCIsICJmaWxsT3BhY2l0eSI6IDAuNywgImZpbGxSdWxlIjogImV2ZW5vZGQiLCAibGluZUNhcCI6ICJyb3VuZCIsICJsaW5lSm9pbiI6ICJyb3VuZCIsICJvcGFjaXR5IjogMS4wLCAicmFkaXVzIjogNSwgInN0cm9rZSI6IHRydWUsICJ3ZWlnaHQiOiAzfQogICAgICAgICAgICApLmFkZFRvKG1hcF9mNWZkOWI3YTFiZTM0OTZkODUwYjhmZjQyYzJjYTFhMSk7CiAgICAgICAgCiAgICAKICAgICAgICB2YXIgcG9wdXBfODYxMzI5NGY1MTI2NDI5MjkzNmRkOGY2ZjAzOWVmZjEgPSBMLnBvcHVwKHsibWF4V2lkdGgiOiAiMTAwJSJ9KTsKCiAgICAgICAgCiAgICAgICAgICAgIHZhciBodG1sX2JhNWFiNzUwNGU0NDQ5MTlhNmJhMWJiZjlkNGFhNDg2ID0gJChgPGRpdiBpZD0iaHRtbF9iYTVhYjc1MDRlNDQ0OTE5YTZiYTFiYmY5ZDRhYTQ4NiIgc3R5bGU9IndpZHRoOiAxMDAuMCU7IGhlaWdodDogMTAwLjAlOyI+U2NhcmJvcm91Z2gsIE0xUCAoRG9yc2V0IFBhcmssIFNjYXJib3JvdWdoIFRvd24gQ2VudHJlLCBXZXhmb3JkIEhlaWdodHMpPC9kaXY+YClbMF07CiAgICAgICAgICAgIHBvcHVwXzg2MTMyOTRmNTEyNjQyOTI5MzZkZDhmNmYwMzllZmYxLnNldENvbnRlbnQoaHRtbF9iYTVhYjc1MDRlNDQ0OTE5YTZiYTFiYmY5ZDRhYTQ4Nik7CiAgICAgICAgCgogICAgICAgIGNpcmNsZV9tYXJrZXJfMTFlYzJkYmU2MmYyNDRmYThmYzk1NjhjNGVmOTllNjcuYmluZFBvcHVwKHBvcHVwXzg2MTMyOTRmNTEyNjQyOTI5MzZkZDhmNmYwMzllZmYxKQogICAgICAgIDsKCiAgICAgICAgCiAgICAKICAgIAogICAgICAgICAgICB2YXIgY2lyY2xlX21hcmtlcl9kOWFhMTk4ODdiMzY0YTU3YmZmMmIxOTQ4YjUyNWVhMyA9IEwuY2lyY2xlTWFya2VyKAogICAgICAgICAgICAgICAgWzQzLjc0LCAtNzkuM10sCiAgICAgICAgICAgICAgICB7ImJ1YmJsaW5nTW91c2VFdmVudHMiOiB0cnVlLCAiY29sb3IiOiAiI0U5NzkwMCIsICJkYXNoQXJyYXkiOiBudWxsLCAiZGFzaE9mZnNldCI6IG51bGwsICJmaWxsIjogdHJ1ZSwgImZpbGxDb2xvciI6ICIjRjdCQjJEIiwgImZpbGxPcGFjaXR5IjogMC43LCAiZmlsbFJ1bGUiOiAiZXZlbm9kZCIsICJsaW5lQ2FwIjogInJvdW5kIiwgImxpbmVKb2luIjogInJvdW5kIiwgIm9wYWNpdHkiOiAxLjAsICJyYWRpdXMiOiA1LCAic3Ryb2tlIjogdHJ1ZSwgIndlaWdodCI6IDN9CiAgICAgICAgICAgICkuYWRkVG8obWFwX2Y1ZmQ5YjdhMWJlMzQ5NmQ4NTBiOGZmNDJjMmNhMWExKTsKICAgICAgICAKICAgIAogICAgICAgIHZhciBwb3B1cF83Yzc5YWM3NTViYTc0ZjU5YmU3YjE3MGZlZjhlYzBlNiA9IEwucG9wdXAoeyJtYXhXaWR0aCI6ICIxMDAlIn0pOwoKICAgICAgICAKICAgICAgICAgICAgdmFyIGh0bWxfNDE5Yjc3NzY0YTgyNGVhYTkwYWE5ZjYyNjliMDI5ZWEgPSAkKGA8ZGl2IGlkPSJodG1sXzQxOWI3Nzc2NGE4MjRlYWE5MGFhOWY2MjY5YjAyOWVhIiBzdHlsZT0id2lkdGg6IDEwMC4wJTsgaGVpZ2h0OiAxMDAuMCU7Ij5TY2FyYm9yb3VnaCwgTTFSIChNYXJ5dmFsZSwgV2V4Zm9yZCk8L2Rpdj5gKVswXTsKICAgICAgICAgICAgcG9wdXBfN2M3OWFjNzU1YmE3NGY1OWJlN2IxNzBmZWY4ZWMwZTYuc2V0Q29udGVudChodG1sXzQxOWI3Nzc2NGE4MjRlYWE5MGFhOWY2MjY5YjAyOWVhKTsKICAgICAgICAKCiAgICAgICAgY2lyY2xlX21hcmtlcl9kOWFhMTk4ODdiMzY0YTU3YmZmMmIxOTQ4YjUyNWVhMy5iaW5kUG9wdXAocG9wdXBfN2M3OWFjNzU1YmE3NGY1OWJlN2IxNzBmZWY4ZWMwZTYpCiAgICAgICAgOwoKICAgICAgICAKICAgIAogICAgCiAgICAgICAgICAgIHZhciBjaXJjbGVfbWFya2VyX2E4MTcyNWQwY2M5ZjRmZTM4OWNmMTIwYmYyODgzNmU2ID0gTC5jaXJjbGVNYXJrZXIoCiAgICAgICAgICAgICAgICBbNDMuNzksIC03OS4yNF0sCiAgICAgICAgICAgICAgICB7ImJ1YmJsaW5nTW91c2VFdmVudHMiOiB0cnVlLCAiY29sb3IiOiAiI0U5NzkwMCIsICJkYXNoQXJyYXkiOiBudWxsLCAiZGFzaE9mZnNldCI6IG51bGwsICJmaWxsIjogdHJ1ZSwgImZpbGxDb2xvciI6ICIjRjdCQjJEIiwgImZpbGxPcGFjaXR5IjogMC43LCAiZmlsbFJ1bGUiOiAiZXZlbm9kZCIsICJsaW5lQ2FwIjogInJvdW5kIiwgImxpbmVKb2luIjogInJvdW5kIiwgIm9wYWNpdHkiOiAxLjAsICJyYWRpdXMiOiA1LCAic3Ryb2tlIjogdHJ1ZSwgIndlaWdodCI6IDN9CiAgICAgICAgICAgICkuYWRkVG8obWFwX2Y1ZmQ5YjdhMWJlMzQ5NmQ4NTBiOGZmNDJjMmNhMWExKTsKICAgICAgICAKICAgIAogICAgICAgIHZhciBwb3B1cF84ZTk2ZGE1MDYzZjE0NDcwOTM5MDM0ZGMxMzkyZWI3NyA9IEwucG9wdXAoeyJtYXhXaWR0aCI6ICIxMDAlIn0pOwoKICAgICAgICAKICAgICAgICAgICAgdmFyIGh0bWxfZjRlYTBmZjc4MWM4NDE3M2FjZDc3OWEyNDRjY2MyNDEgPSAkKGA8ZGl2IGlkPSJodG1sX2Y0ZWEwZmY3ODFjODQxNzNhY2Q3NzlhMjQ0Y2NjMjQxIiBzdHlsZT0id2lkdGg6IDEwMC4wJTsgaGVpZ2h0OiAxMDAuMCU7Ij5TY2FyYm9yb3VnaCwgTTFTIChBZ2luY291cnQpPC9kaXY+YClbMF07CiAgICAgICAgICAgIHBvcHVwXzhlOTZkYTUwNjNmMTQ0NzA5MzkwMzRkYzEzOTJlYjc3LnNldENvbnRlbnQoaHRtbF9mNGVhMGZmNzgxYzg0MTczYWNkNzc5YTI0NGNjYzI0MSk7CiAgICAgICAgCgogICAgICAgIGNpcmNsZV9tYXJrZXJfYTgxNzI1ZDBjYzlmNGZlMzg5Y2YxMjBiZjI4ODM2ZTYuYmluZFBvcHVwKHBvcHVwXzhlOTZkYTUwNjNmMTQ0NzA5MzkwMzRkYzEzOTJlYjc3KQogICAgICAgIDsKCiAgICAgICAgCiAgICAKICAgIAogICAgICAgICAgICB2YXIgY2lyY2xlX21hcmtlcl9mMmQ3OTAzMmQ3MDY0MGFlOWJlYzA2NzRjZGVmNmU2NCA9IEwuY2lyY2xlTWFya2VyKAogICAgICAgICAgICAgICAgWzQzLjc3NTE0MSwgLTc5LjMyMjU5MV0sCiAgICAgICAgICAgICAgICB7ImJ1YmJsaW5nTW91c2VFdmVudHMiOiB0cnVlLCAiY29sb3IiOiAiI0U5NzkwMCIsICJkYXNoQXJyYXkiOiBudWxsLCAiZGFzaE9mZnNldCI6IG51bGwsICJmaWxsIjogdHJ1ZSwgImZpbGxDb2xvciI6ICIjRjdCQjJEIiwgImZpbGxPcGFjaXR5IjogMC43LCAiZmlsbFJ1bGUiOiAiZXZlbm9kZCIsICJsaW5lQ2FwIjogInJvdW5kIiwgImxpbmVKb2luIjogInJvdW5kIiwgIm9wYWNpdHkiOiAxLjAsICJyYWRpdXMiOiA1LCAic3Ryb2tlIjogdHJ1ZSwgIndlaWdodCI6IDN9CiAgICAgICAgICAgICkuYWRkVG8obWFwX2Y1ZmQ5YjdhMWJlMzQ5NmQ4NTBiOGZmNDJjMmNhMWExKTsKICAgICAgICAKICAgIAogICAgICAgIHZhciBwb3B1cF8wNjYzZjA5YWNkOGY0ZDE2YWRlYTdiYzNjMGNhZjhkMCA9IEwucG9wdXAoeyJtYXhXaWR0aCI6ICIxMDAlIn0pOwoKICAgICAgICAKICAgICAgICAgICAgdmFyIGh0bWxfY2Q5MmY1ZDE1NDRmNGRhZTljYTBhMzIzNmNlOGRiYmYgPSAkKGA8ZGl2IGlkPSJodG1sX2NkOTJmNWQxNTQ0ZjRkYWU5Y2EwYTMyMzZjZThkYmJmIiBzdHlsZT0id2lkdGg6IDEwMC4wJTsgaGVpZ2h0OiAxMDAuMCU7Ij5TY2FyYm9yb3VnaCwgTTFUIChDbGFya3MgQ29ybmVycywgU3VsbGl2YW4sIFRhbSBPJiMzOTtTaGFudGVyKTwvZGl2PmApWzBdOwogICAgICAgICAgICBwb3B1cF8wNjYzZjA5YWNkOGY0ZDE2YWRlYTdiYzNjMGNhZjhkMC5zZXRDb250ZW50KGh0bWxfY2Q5MmY1ZDE1NDRmNGRhZTljYTBhMzIzNmNlOGRiYmYpOwogICAgICAgIAoKICAgICAgICBjaXJjbGVfbWFya2VyX2YyZDc5MDMyZDcwNjQwYWU5YmVjMDY3NGNkZWY2ZTY0LmJpbmRQb3B1cChwb3B1cF8wNjYzZjA5YWNkOGY0ZDE2YWRlYTdiYzNjMGNhZjhkMCkKICAgICAgICA7CgogICAgICAgIAogICAgCiAgICAKICAgICAgICAgICAgdmFyIGNpcmNsZV9tYXJrZXJfNDFlZjE3NzcwOWMyNDFiZDg2NzI2ZWFlZDYzYTFhNjIgPSBMLmNpcmNsZU1hcmtlcigKICAgICAgICAgICAgICAgIFs0My44MSwgLTc5LjI3XSwKICAgICAgICAgICAgICAgIHsiYnViYmxpbmdNb3VzZUV2ZW50cyI6IHRydWUsICJjb2xvciI6ICIjRTk3OTAwIiwgImRhc2hBcnJheSI6IG51bGwsICJkYXNoT2Zmc2V0IjogbnVsbCwgImZpbGwiOiB0cnVlLCAiZmlsbENvbG9yIjogIiNGN0JCMkQiLCAiZmlsbE9wYWNpdHkiOiAwLjcsICJmaWxsUnVsZSI6ICJldmVub2RkIiwgImxpbmVDYXAiOiAicm91bmQiLCAibGluZUpvaW4iOiAicm91bmQiLCAib3BhY2l0eSI6IDEuMCwgInJhZGl1cyI6IDUsICJzdHJva2UiOiB0cnVlLCAid2VpZ2h0IjogM30KICAgICAgICAgICAgKS5hZGRUbyhtYXBfZjVmZDliN2ExYmUzNDk2ZDg1MGI4ZmY0MmMyY2ExYTEpOwogICAgICAgIAogICAgCiAgICAgICAgdmFyIHBvcHVwX2ZjMDQ5Y2ViNzEzMDQ2ZDBhODk3ZGU5NzVlMjhmYmQzID0gTC5wb3B1cCh7Im1heFdpZHRoIjogIjEwMCUifSk7CgogICAgICAgIAogICAgICAgICAgICB2YXIgaHRtbF84ZDFhMzI2ODAzYzE0YjAyYmQwNTRiN2JiODFiNDljZCA9ICQoYDxkaXYgaWQ9Imh0bWxfOGQxYTMyNjgwM2MxNGIwMmJkMDU0YjdiYjgxYjQ5Y2QiIHN0eWxlPSJ3aWR0aDogMTAwLjAlOyBoZWlnaHQ6IDEwMC4wJTsiPlNjYXJib3JvdWdoLCBNMVYgKEFnaW5jb3VydCBOb3J0aCwgTCYjMzk7QW1vcmVhdXggRWFzdCwgTWlsbGlrZW4sIFN0ZWVsZXMgRWFzdCk8L2Rpdj5gKVswXTsKICAgICAgICAgICAgcG9wdXBfZmMwNDljZWI3MTMwNDZkMGE4OTdkZTk3NWUyOGZiZDMuc2V0Q29udGVudChodG1sXzhkMWEzMjY4MDNjMTRiMDJiZDA1NGI3YmI4MWI0OWNkKTsKICAgICAgICAKCiAgICAgICAgY2lyY2xlX21hcmtlcl80MWVmMTc3NzA5YzI0MWJkODY3MjZlYWVkNjNhMWE2Mi5iaW5kUG9wdXAocG9wdXBfZmMwNDljZWI3MTMwNDZkMGE4OTdkZTk3NWUyOGZiZDMpCiAgICAgICAgOwoKICAgICAgICAKICAgIAogICAgCiAgICAgICAgICAgIHZhciBjaXJjbGVfbWFya2VyXzcwNjM4MTdkMzRmOTQ3NGNhNDY2NzNiMzU1NTEzZWQ5ID0gTC5jaXJjbGVNYXJrZXIoCiAgICAgICAgICAgICAgICBbNDMuOCwgLTc5LjMxOTIzM10sCiAgICAgICAgICAgICAgICB7ImJ1YmJsaW5nTW91c2VFdmVudHMiOiB0cnVlLCAiY29sb3IiOiAiI0U5NzkwMCIsICJkYXNoQXJyYXkiOiBudWxsLCAiZGFzaE9mZnNldCI6IG51bGwsICJmaWxsIjogdHJ1ZSwgImZpbGxDb2xvciI6ICIjRjdCQjJEIiwgImZpbGxPcGFjaXR5IjogMC43LCAiZmlsbFJ1bGUiOiAiZXZlbm9kZCIsICJsaW5lQ2FwIjogInJvdW5kIiwgImxpbmVKb2luIjogInJvdW5kIiwgIm9wYWNpdHkiOiAxLjAsICJyYWRpdXMiOiA1LCAic3Ryb2tlIjogdHJ1ZSwgIndlaWdodCI6IDN9CiAgICAgICAgICAgICkuYWRkVG8obWFwX2Y1ZmQ5YjdhMWJlMzQ5NmQ4NTBiOGZmNDJjMmNhMWExKTsKICAgICAgICAKICAgIAogICAgICAgIHZhciBwb3B1cF81MzNjODdkNWExMDQ0YWE5YTZlYzRjYjliZmQ5N2EzMiA9IEwucG9wdXAoeyJtYXhXaWR0aCI6ICIxMDAlIn0pOwoKICAgICAgICAKICAgICAgICAgICAgdmFyIGh0bWxfOWU1OTBiZjNlYWRmNDk5ZTgxNDJhNGE0MzEwNzJlOTEgPSAkKGA8ZGl2IGlkPSJodG1sXzllNTkwYmYzZWFkZjQ5OWU4MTQyYTRhNDMxMDcyZTkxIiBzdHlsZT0id2lkdGg6IDEwMC4wJTsgaGVpZ2h0OiAxMDAuMCU7Ij5TY2FyYm9yb3VnaCwgTTFXIChMJiMzOTtBbW9yZWF1eCBXZXN0KTwvZGl2PmApWzBdOwogICAgICAgICAgICBwb3B1cF81MzNjODdkNWExMDQ0YWE5YTZlYzRjYjliZmQ5N2EzMi5zZXRDb250ZW50KGh0bWxfOWU1OTBiZjNlYWRmNDk5ZTgxNDJhNGE0MzEwNzJlOTEpOwogICAgICAgIAoKICAgICAgICBjaXJjbGVfbWFya2VyXzcwNjM4MTdkMzRmOTQ3NGNhNDY2NzNiMzU1NTEzZWQ5LmJpbmRQb3B1cChwb3B1cF81MzNjODdkNWExMDQ0YWE5YTZlYzRjYjliZmQ5N2EzMikKICAgICAgICA7CgogICAgICAgIAogICAgCiAgICAKICAgICAgICAgICAgdmFyIGNpcmNsZV9tYXJrZXJfY2E3MmQxN2YzNTA4NDMzOWFiNjAyNmZlNDk4Nzg5YjMgPSBMLmNpcmNsZU1hcmtlcigKICAgICAgICAgICAgICAgIFs0My44MiwgLTc5LjIyXSwKICAgICAgICAgICAgICAgIHsiYnViYmxpbmdNb3VzZUV2ZW50cyI6IHRydWUsICJjb2xvciI6ICIjRTk3OTAwIiwgImRhc2hBcnJheSI6IG51bGwsICJkYXNoT2Zmc2V0IjogbnVsbCwgImZpbGwiOiB0cnVlLCAiZmlsbENvbG9yIjogIiNGN0JCMkQiLCAiZmlsbE9wYWNpdHkiOiAwLjcsICJmaWxsUnVsZSI6ICJldmVub2RkIiwgImxpbmVDYXAiOiAicm91bmQiLCAibGluZUpvaW4iOiAicm91bmQiLCAib3BhY2l0eSI6IDEuMCwgInJhZGl1cyI6IDUsICJzdHJva2UiOiB0cnVlLCAid2VpZ2h0IjogM30KICAgICAgICAgICAgKS5hZGRUbyhtYXBfZjVmZDliN2ExYmUzNDk2ZDg1MGI4ZmY0MmMyY2ExYTEpOwogICAgICAgIAogICAgCiAgICAgICAgdmFyIHBvcHVwXzEwYWI0NDU3MTY4ODRmMTFhMDllZmVjYzdmYWE5OTQ0ID0gTC5wb3B1cCh7Im1heFdpZHRoIjogIjEwMCUifSk7CgogICAgICAgIAogICAgICAgICAgICB2YXIgaHRtbF9kZmUyYjkyNjQyZDk0ZjIxOWQ5OGU0YzFkNjc2YjIzNSA9ICQoYDxkaXYgaWQ9Imh0bWxfZGZlMmI5MjY0MmQ5NGYyMTlkOThlNGMxZDY3NmIyMzUiIHN0eWxlPSJ3aWR0aDogMTAwLjAlOyBoZWlnaHQ6IDEwMC4wJTsiPlNjYXJib3JvdWdoLCBNMVggKFVwcGVyIFJvdWdlKTwvZGl2PmApWzBdOwogICAgICAgICAgICBwb3B1cF8xMGFiNDQ1NzE2ODg0ZjExYTA5ZWZlY2M3ZmFhOTk0NC5zZXRDb250ZW50KGh0bWxfZGZlMmI5MjY0MmQ5NGYyMTlkOThlNGMxZDY3NmIyMzUpOwogICAgICAgIAoKICAgICAgICBjaXJjbGVfbWFya2VyX2NhNzJkMTdmMzUwODQzMzlhYjYwMjZmZTQ5ODc4OWIzLmJpbmRQb3B1cChwb3B1cF8xMGFiNDQ1NzE2ODg0ZjExYTA5ZWZlY2M3ZmFhOTk0NCkKICAgICAgICA7CgogICAgICAgIAogICAgCiAgICAKICAgICAgICAgICAgdmFyIGNpcmNsZV9tYXJrZXJfMDhlODUzODIyNzM3NGIxZjk1Y2ZmZTVlZTJiZWQ0MTAgPSBMLmNpcmNsZU1hcmtlcigKICAgICAgICAgICAgICAgIFs0My44MDUyNiwgLTc5LjM0MDc3N10sCiAgICAgICAgICAgICAgICB7ImJ1YmJsaW5nTW91c2VFdmVudHMiOiB0cnVlLCAiY29sb3IiOiAiI0U5NzkwMCIsICJkYXNoQXJyYXkiOiBudWxsLCAiZGFzaE9mZnNldCI6IG51bGwsICJmaWxsIjogdHJ1ZSwgImZpbGxDb2xvciI6ICIjRjdCQjJEIiwgImZpbGxPcGFjaXR5IjogMC43LCAiZmlsbFJ1bGUiOiAiZXZlbm9kZCIsICJsaW5lQ2FwIjogInJvdW5kIiwgImxpbmVKb2luIjogInJvdW5kIiwgIm9wYWNpdHkiOiAxLjAsICJyYWRpdXMiOiA1LCAic3Ryb2tlIjogdHJ1ZSwgIndlaWdodCI6IDN9CiAgICAgICAgICAgICkuYWRkVG8obWFwX2Y1ZmQ5YjdhMWJlMzQ5NmQ4NTBiOGZmNDJjMmNhMWExKTsKICAgICAgICAKICAgIAogICAgICAgIHZhciBwb3B1cF84NzFhYjQ3MmM0NGY0YjUyYTM2ZTA0ZDM2YmU4NzljMSA9IEwucG9wdXAoeyJtYXhXaWR0aCI6ICIxMDAlIn0pOwoKICAgICAgICAKICAgICAgICAgICAgdmFyIGh0bWxfZGY3MWQ4OTk2Mjg4NGQ4Mjg2MWMwMDU3YzY0ZjdkMTIgPSAkKGA8ZGl2IGlkPSJodG1sX2RmNzFkODk5NjI4ODRkODI4NjFjMDA1N2M2NGY3ZDEyIiBzdHlsZT0id2lkdGg6IDEwMC4wJTsgaGVpZ2h0OiAxMDAuMCU7Ij5Ob3J0aCBZb3JrLCBNMkggKEhpbGxjcmVzdCBWaWxsYWdlKTwvZGl2PmApWzBdOwogICAgICAgICAgICBwb3B1cF84NzFhYjQ3MmM0NGY0YjUyYTM2ZTA0ZDM2YmU4NzljMS5zZXRDb250ZW50KGh0bWxfZGY3MWQ4OTk2Mjg4NGQ4Mjg2MWMwMDU3YzY0ZjdkMTIpOwogICAgICAgIAoKICAgICAgICBjaXJjbGVfbWFya2VyXzA4ZTg1MzgyMjczNzRiMWY5NWNmZmU1ZWUyYmVkNDEwLmJpbmRQb3B1cChwb3B1cF84NzFhYjQ3MmM0NGY0YjUyYTM2ZTA0ZDM2YmU4NzljMSkKICAgICAgICA7CgogICAgICAgIAogICAgCiAgICAKICAgICAgICAgICAgdmFyIGNpcmNsZV9tYXJrZXJfZWE3OWJjNjIzODhhNDcyOTg2ZDliNjUwODIzODUwYjEgPSBMLmNpcmNsZU1hcmtlcigKICAgICAgICAgICAgICAgIFs0My43NzkwNzUsIC03OS4zNDg3ODFdLAogICAgICAgICAgICAgICAgeyJidWJibGluZ01vdXNlRXZlbnRzIjogdHJ1ZSwgImNvbG9yIjogIiNFOTc5MDAiLCAiZGFzaEFycmF5IjogbnVsbCwgImRhc2hPZmZzZXQiOiBudWxsLCAiZmlsbCI6IHRydWUsICJmaWxsQ29sb3IiOiAiI0Y3QkIyRCIsICJmaWxsT3BhY2l0eSI6IDAuNywgImZpbGxSdWxlIjogImV2ZW5vZGQiLCAibGluZUNhcCI6ICJyb3VuZCIsICJsaW5lSm9pbiI6ICJyb3VuZCIsICJvcGFjaXR5IjogMS4wLCAicmFkaXVzIjogNSwgInN0cm9rZSI6IHRydWUsICJ3ZWlnaHQiOiAzfQogICAgICAgICAgICApLmFkZFRvKG1hcF9mNWZkOWI3YTFiZTM0OTZkODUwYjhmZjQyYzJjYTFhMSk7CiAgICAgICAgCiAgICAKICAgICAgICB2YXIgcG9wdXBfMThjMjQyYTU1YzAxNGE5NTlkYzIwYTE5NDU5YTFhYWQgPSBMLnBvcHVwKHsibWF4V2lkdGgiOiAiMTAwJSJ9KTsKCiAgICAgICAgCiAgICAgICAgICAgIHZhciBodG1sXzljMTQ0NDU0ZDg2YTQxMmE5ZjU2Yjc3MzI3NDY5Yjg5ID0gJChgPGRpdiBpZD0iaHRtbF85YzE0NDQ1NGQ4NmE0MTJhOWY1NmI3NzMyNzQ2OWI4OSIgc3R5bGU9IndpZHRoOiAxMDAuMCU7IGhlaWdodDogMTAwLjAlOyI+Tm9ydGggWW9yaywgTTJKIChGYWlydmlldywgSGVucnkgRmFybSwgT3Jpb2xlKTwvZGl2PmApWzBdOwogICAgICAgICAgICBwb3B1cF8xOGMyNDJhNTVjMDE0YTk1OWRjMjBhMTk0NTlhMWFhZC5zZXRDb250ZW50KGh0bWxfOWMxNDQ0NTRkODZhNDEyYTlmNTZiNzczMjc0NjliODkpOwogICAgICAgIAoKICAgICAgICBjaXJjbGVfbWFya2VyX2VhNzliYzYyMzg4YTQ3Mjk4NmQ5YjY1MDgyMzg1MGIxLmJpbmRQb3B1cChwb3B1cF8xOGMyNDJhNTVjMDE0YTk1OWRjMjBhMTk0NTlhMWFhZCkKICAgICAgICA7CgogICAgICAgIAogICAgCiAgICAKICAgICAgICAgICAgdmFyIGNpcmNsZV9tYXJrZXJfYzcxOGNiNTAxNGE2NDgwNjhlMWVjMGUwOGU4YjdmYTYgPSBMLmNpcmNsZU1hcmtlcigKICAgICAgICAgICAgICAgIFs0My43NywgLTc5LjM4XSwKICAgICAgICAgICAgICAgIHsiYnViYmxpbmdNb3VzZUV2ZW50cyI6IHRydWUsICJjb2xvciI6ICIjRTk3OTAwIiwgImRhc2hBcnJheSI6IG51bGwsICJkYXNoT2Zmc2V0IjogbnVsbCwgImZpbGwiOiB0cnVlLCAiZmlsbENvbG9yIjogIiNGN0JCMkQiLCAiZmlsbE9wYWNpdHkiOiAwLjcsICJmaWxsUnVsZSI6ICJldmVub2RkIiwgImxpbmVDYXAiOiAicm91bmQiLCAibGluZUpvaW4iOiAicm91bmQiLCAib3BhY2l0eSI6IDEuMCwgInJhZGl1cyI6IDUsICJzdHJva2UiOiB0cnVlLCAid2VpZ2h0IjogM30KICAgICAgICAgICAgKS5hZGRUbyhtYXBfZjVmZDliN2ExYmUzNDk2ZDg1MGI4ZmY0MmMyY2ExYTEpOwogICAgICAgIAogICAgCiAgICAgICAgdmFyIHBvcHVwX2U1YjU0ZjcxMWQxYzRlNWRiZTQwMzI3MTlhMGZjZjRhID0gTC5wb3B1cCh7Im1heFdpZHRoIjogIjEwMCUifSk7CgogICAgICAgIAogICAgICAgICAgICB2YXIgaHRtbF83ZGFhZDU2ODJiNTI0ZDk2YmQ0NzJjYTc2Mzk4NGUyMCA9ICQoYDxkaXYgaWQ9Imh0bWxfN2RhYWQ1NjgyYjUyNGQ5NmJkNDcyY2E3NjM5ODRlMjAiIHN0eWxlPSJ3aWR0aDogMTAwLjAlOyBoZWlnaHQ6IDEwMC4wJTsiPk5vcnRoIFlvcmssIE0ySyAoQmF5dmlldyBWaWxsYWdlKTwvZGl2PmApWzBdOwogICAgICAgICAgICBwb3B1cF9lNWI1NGY3MTFkMWM0ZTVkYmU0MDMyNzE5YTBmY2Y0YS5zZXRDb250ZW50KGh0bWxfN2RhYWQ1NjgyYjUyNGQ5NmJkNDcyY2E3NjM5ODRlMjApOwogICAgICAgIAoKICAgICAgICBjaXJjbGVfbWFya2VyX2M3MThjYjUwMTRhNjQ4MDY4ZTFlYzBlMDhlOGI3ZmE2LmJpbmRQb3B1cChwb3B1cF9lNWI1NGY3MTFkMWM0ZTVkYmU0MDMyNzE5YTBmY2Y0YSkKICAgICAgICA7CgogICAgICAgIAogICAgCiAgICAKICAgICAgICAgICAgdmFyIGNpcmNsZV9tYXJrZXJfM2FkZTk1ZTMxMDhkNDRhM2JlMTIyOGEzNjI3YzY5YzUgPSBMLmNpcmNsZU1hcmtlcigKICAgICAgICAgICAgICAgIFs0My43NDY5NTcsIC03OS4zODQzNTNdLAogICAgICAgICAgICAgICAgeyJidWJibGluZ01vdXNlRXZlbnRzIjogdHJ1ZSwgImNvbG9yIjogIiNFOTc5MDAiLCAiZGFzaEFycmF5IjogbnVsbCwgImRhc2hPZmZzZXQiOiBudWxsLCAiZmlsbCI6IHRydWUsICJmaWxsQ29sb3IiOiAiI0Y3QkIyRCIsICJmaWxsT3BhY2l0eSI6IDAuNywgImZpbGxSdWxlIjogImV2ZW5vZGQiLCAibGluZUNhcCI6ICJyb3VuZCIsICJsaW5lSm9pbiI6ICJyb3VuZCIsICJvcGFjaXR5IjogMS4wLCAicmFkaXVzIjogNSwgInN0cm9rZSI6IHRydWUsICJ3ZWlnaHQiOiAzfQogICAgICAgICAgICApLmFkZFRvKG1hcF9mNWZkOWI3YTFiZTM0OTZkODUwYjhmZjQyYzJjYTFhMSk7CiAgICAgICAgCiAgICAKICAgICAgICB2YXIgcG9wdXBfYmViZWYxMWRjYmQyNGIwM2IzZTg1Mzk0Y2RlMzkxOTcgPSBMLnBvcHVwKHsibWF4V2lkdGgiOiAiMTAwJSJ9KTsKCiAgICAgICAgCiAgICAgICAgICAgIHZhciBodG1sX2ZkYTc2ODA3ZTBmOTRhNmY4NDVjNzQ3MDgxNjE2ODJjID0gJChgPGRpdiBpZD0iaHRtbF9mZGE3NjgwN2UwZjk0YTZmODQ1Yzc0NzA4MTYxNjgyYyIgc3R5bGU9IndpZHRoOiAxMDAuMCU7IGhlaWdodDogMTAwLjAlOyI+Tm9ydGggWW9yaywgTTJMIChTaWx2ZXIgSGlsbHMsIFlvcmsgTWlsbHMpPC9kaXY+YClbMF07CiAgICAgICAgICAgIHBvcHVwX2JlYmVmMTFkY2JkMjRiMDNiM2U4NTM5NGNkZTM5MTk3LnNldENvbnRlbnQoaHRtbF9mZGE3NjgwN2UwZjk0YTZmODQ1Yzc0NzA4MTYxNjgyYyk7CiAgICAgICAgCgogICAgICAgIGNpcmNsZV9tYXJrZXJfM2FkZTk1ZTMxMDhkNDRhM2JlMTIyOGEzNjI3YzY5YzUuYmluZFBvcHVwKHBvcHVwX2JlYmVmMTFkY2JkMjRiMDNiM2U4NTM5NGNkZTM5MTk3KQogICAgICAgIDsKCiAgICAgICAgCiAgICAKICAgIAogICAgICAgICAgICB2YXIgY2lyY2xlX21hcmtlcl8wYTQxMjc5YWNiODY0MDI3OGYyODA3YTNmZjIzNTcxNCA9IEwuY2lyY2xlTWFya2VyKAogICAgICAgICAgICAgICAgWzQzLjc4NTU3MTk5OTk5OTk5NSwgLTc5LjQxNjQxNl0sCiAgICAgICAgICAgICAgICB7ImJ1YmJsaW5nTW91c2VFdmVudHMiOiB0cnVlLCAiY29sb3IiOiAiI0U5NzkwMCIsICJkYXNoQXJyYXkiOiBudWxsLCAiZGFzaE9mZnNldCI6IG51bGwsICJmaWxsIjogdHJ1ZSwgImZpbGxDb2xvciI6ICIjRjdCQjJEIiwgImZpbGxPcGFjaXR5IjogMC43LCAiZmlsbFJ1bGUiOiAiZXZlbm9kZCIsICJsaW5lQ2FwIjogInJvdW5kIiwgImxpbmVKb2luIjogInJvdW5kIiwgIm9wYWNpdHkiOiAxLjAsICJyYWRpdXMiOiA1LCAic3Ryb2tlIjogdHJ1ZSwgIndlaWdodCI6IDN9CiAgICAgICAgICAgICkuYWRkVG8obWFwX2Y1ZmQ5YjdhMWJlMzQ5NmQ4NTBiOGZmNDJjMmNhMWExKTsKICAgICAgICAKICAgIAogICAgICAgIHZhciBwb3B1cF9mMjVmN2Q1OWMzZjQ0ZWQ4YWE4ZWU3ZGZjODI4ZTMyMCA9IEwucG9wdXAoeyJtYXhXaWR0aCI6ICIxMDAlIn0pOwoKICAgICAgICAKICAgICAgICAgICAgdmFyIGh0bWxfNTM3ZmMxY2VjZGIyNDQxZmE5MzJhOTQwMzcxYTg0NjcgPSAkKGA8ZGl2IGlkPSJodG1sXzUzN2ZjMWNlY2RiMjQ0MWZhOTMyYTk0MDM3MWE4NDY3IiBzdHlsZT0id2lkdGg6IDEwMC4wJTsgaGVpZ2h0OiAxMDAuMCU7Ij5Ob3J0aCBZb3JrLCBNMk0gKE5ld3RvbmJyb29rLCBXaWxsb3dkYWxlKTwvZGl2PmApWzBdOwogICAgICAgICAgICBwb3B1cF9mMjVmN2Q1OWMzZjQ0ZWQ4YWE4ZWU3ZGZjODI4ZTMyMC5zZXRDb250ZW50KGh0bWxfNTM3ZmMxY2VjZGIyNDQxZmE5MzJhOTQwMzcxYTg0NjcpOwogICAgICAgIAoKICAgICAgICBjaXJjbGVfbWFya2VyXzBhNDEyNzlhY2I4NjQwMjc4ZjI4MDdhM2ZmMjM1NzE0LmJpbmRQb3B1cChwb3B1cF9mMjVmN2Q1OWMzZjQ0ZWQ4YWE4ZWU3ZGZjODI4ZTMyMCkKICAgICAgICA7CgogICAgICAgIAogICAgCiAgICAKICAgICAgICAgICAgdmFyIGNpcmNsZV9tYXJrZXJfY2U4YjdjZGMzZDc4NDdiNTgxZDBmMjk5ZDQ0Mjg2MWMgPSBMLmNpcmNsZU1hcmtlcigKICAgICAgICAgICAgICAgIFs0My43NjIxODEsIC03OS40MTEwMTldLAogICAgICAgICAgICAgICAgeyJidWJibGluZ01vdXNlRXZlbnRzIjogdHJ1ZSwgImNvbG9yIjogIiNFOTc5MDAiLCAiZGFzaEFycmF5IjogbnVsbCwgImRhc2hPZmZzZXQiOiBudWxsLCAiZmlsbCI6IHRydWUsICJmaWxsQ29sb3IiOiAiI0Y3QkIyRCIsICJmaWxsT3BhY2l0eSI6IDAuNywgImZpbGxSdWxlIjogImV2ZW5vZGQiLCAibGluZUNhcCI6ICJyb3VuZCIsICJsaW5lSm9pbiI6ICJyb3VuZCIsICJvcGFjaXR5IjogMS4wLCAicmFkaXVzIjogNSwgInN0cm9rZSI6IHRydWUsICJ3ZWlnaHQiOiAzfQogICAgICAgICAgICApLmFkZFRvKG1hcF9mNWZkOWI3YTFiZTM0OTZkODUwYjhmZjQyYzJjYTFhMSk7CiAgICAgICAgCiAgICAKICAgICAgICB2YXIgcG9wdXBfOWQ2MDhjMmE0NTQ2NDljN2I0ZTZiMDQ0ODFmOWZiMzUgPSBMLnBvcHVwKHsibWF4V2lkdGgiOiAiMTAwJSJ9KTsKCiAgICAgICAgCiAgICAgICAgICAgIHZhciBodG1sX2I3ZDRhNmNjZTllODRlMmRiYjBiZmYwOGE5MjdmZDNhID0gJChgPGRpdiBpZD0iaHRtbF9iN2Q0YTZjY2U5ZTg0ZTJkYmIwYmZmMDhhOTI3ZmQzYSIgc3R5bGU9IndpZHRoOiAxMDAuMCU7IGhlaWdodDogMTAwLjAlOyI+Tm9ydGggWW9yaywgTTJOIChXaWxsb3dkYWxlIFNvdXRoKTwvZGl2PmApWzBdOwogICAgICAgICAgICBwb3B1cF85ZDYwOGMyYTQ1NDY0OWM3YjRlNmIwNDQ4MWY5ZmIzNS5zZXRDb250ZW50KGh0bWxfYjdkNGE2Y2NlOWU4NGUyZGJiMGJmZjA4YTkyN2ZkM2EpOwogICAgICAgIAoKICAgICAgICBjaXJjbGVfbWFya2VyX2NlOGI3Y2RjM2Q3ODQ3YjU4MWQwZjI5OWQ0NDI4NjFjLmJpbmRQb3B1cChwb3B1cF85ZDYwOGMyYTQ1NDY0OWM3YjRlNmIwNDQ4MWY5ZmIzNSkKICAgICAgICA7CgogICAgICAgIAogICAgCiAgICAKICAgICAgICAgICAgdmFyIGNpcmNsZV9tYXJrZXJfYmE1M2I3ZjNlMmEyNDcxNGJhOGQwYjRlMjZhMGFjNWIgPSBMLmNpcmNsZU1hcmtlcigKICAgICAgICAgICAgICAgIFs0My43NSwgLTc5LjQxXSwKICAgICAgICAgICAgICAgIHsiYnViYmxpbmdNb3VzZUV2ZW50cyI6IHRydWUsICJjb2xvciI6ICIjRTk3OTAwIiwgImRhc2hBcnJheSI6IG51bGwsICJkYXNoT2Zmc2V0IjogbnVsbCwgImZpbGwiOiB0cnVlLCAiZmlsbENvbG9yIjogIiNGN0JCMkQiLCAiZmlsbE9wYWNpdHkiOiAwLjcsICJmaWxsUnVsZSI6ICJldmVub2RkIiwgImxpbmVDYXAiOiAicm91bmQiLCAibGluZUpvaW4iOiAicm91bmQiLCAib3BhY2l0eSI6IDEuMCwgInJhZGl1cyI6IDUsICJzdHJva2UiOiB0cnVlLCAid2VpZ2h0IjogM30KICAgICAgICAgICAgKS5hZGRUbyhtYXBfZjVmZDliN2ExYmUzNDk2ZDg1MGI4ZmY0MmMyY2ExYTEpOwogICAgICAgIAogICAgCiAgICAgICAgdmFyIHBvcHVwXzcwNmRjNWMwMTY5MDQ4NWM4ZDIyYjdjYmJlYjQyMzg3ID0gTC5wb3B1cCh7Im1heFdpZHRoIjogIjEwMCUifSk7CgogICAgICAgIAogICAgICAgICAgICB2YXIgaHRtbF9lNmU0ZDliNDBjZjU0NGZjOTZiNzg5ZDU2ZDI2YzA0ZSA9ICQoYDxkaXYgaWQ9Imh0bWxfZTZlNGQ5YjQwY2Y1NDRmYzk2Yjc4OWQ1NmQyNmMwNGUiIHN0eWxlPSJ3aWR0aDogMTAwLjAlOyBoZWlnaHQ6IDEwMC4wJTsiPk5vcnRoIFlvcmssIE0yUCAoWW9yayBNaWxscyBXZXN0KTwvZGl2PmApWzBdOwogICAgICAgICAgICBwb3B1cF83MDZkYzVjMDE2OTA0ODVjOGQyMmI3Y2JiZWI0MjM4Ny5zZXRDb250ZW50KGh0bWxfZTZlNGQ5YjQwY2Y1NDRmYzk2Yjc4OWQ1NmQyNmMwNGUpOwogICAgICAgIAoKICAgICAgICBjaXJjbGVfbWFya2VyX2JhNTNiN2YzZTJhMjQ3MTRiYThkMGI0ZTI2YTBhYzViLmJpbmRQb3B1cChwb3B1cF83MDZkYzVjMDE2OTA0ODVjOGQyMmI3Y2JiZWI0MjM4NykKICAgICAgICA7CgogICAgICAgIAogICAgCiAgICAKICAgICAgICAgICAgdmFyIGNpcmNsZV9tYXJrZXJfMWVlYjlmOWE0YjY5NGI3NThhODJkMWVjMDFiMzVlMTEgPSBMLmNpcmNsZU1hcmtlcigKICAgICAgICAgICAgICAgIFs0My43OCwgLTc5LjQ1XSwKICAgICAgICAgICAgICAgIHsiYnViYmxpbmdNb3VzZUV2ZW50cyI6IHRydWUsICJjb2xvciI6ICIjRTk3OTAwIiwgImRhc2hBcnJheSI6IG51bGwsICJkYXNoT2Zmc2V0IjogbnVsbCwgImZpbGwiOiB0cnVlLCAiZmlsbENvbG9yIjogIiNGN0JCMkQiLCAiZmlsbE9wYWNpdHkiOiAwLjcsICJmaWxsUnVsZSI6ICJldmVub2RkIiwgImxpbmVDYXAiOiAicm91bmQiLCAibGluZUpvaW4iOiAicm91bmQiLCAib3BhY2l0eSI6IDEuMCwgInJhZGl1cyI6IDUsICJzdHJva2UiOiB0cnVlLCAid2VpZ2h0IjogM30KICAgICAgICAgICAgKS5hZGRUbyhtYXBfZjVmZDliN2ExYmUzNDk2ZDg1MGI4ZmY0MmMyY2ExYTEpOwogICAgICAgIAogICAgCiAgICAgICAgdmFyIHBvcHVwXzIyNDAxOGQzMzIwMTRkMjRhYjRmNWQxMWQzYWViMmU0ID0gTC5wb3B1cCh7Im1heFdpZHRoIjogIjEwMCUifSk7CgogICAgICAgIAogICAgICAgICAgICB2YXIgaHRtbF9jMTIyZGY5YzQyOWM0NDhhOWUyYWM5NmNhNDdkMGU4ZCA9ICQoYDxkaXYgaWQ9Imh0bWxfYzEyMmRmOWM0MjljNDQ4YTllMmFjOTZjYTQ3ZDBlOGQiIHN0eWxlPSJ3aWR0aDogMTAwLjAlOyBoZWlnaHQ6IDEwMC4wJTsiPk5vcnRoIFlvcmssIE0yUiAoV2lsbG93ZGFsZSBXZXN0KTwvZGl2PmApWzBdOwogICAgICAgICAgICBwb3B1cF8yMjQwMThkMzMyMDE0ZDI0YWI0ZjVkMTFkM2FlYjJlNC5zZXRDb250ZW50KGh0bWxfYzEyMmRmOWM0MjljNDQ4YTllMmFjOTZjYTQ3ZDBlOGQpOwogICAgICAgIAoKICAgICAgICBjaXJjbGVfbWFya2VyXzFlZWI5ZjlhNGI2OTRiNzU4YTgyZDFlYzAxYjM1ZTExLmJpbmRQb3B1cChwb3B1cF8yMjQwMThkMzMyMDE0ZDI0YWI0ZjVkMTFkM2FlYjJlNCkKICAgICAgICA7CgogICAgICAgIAogICAgCiAgICAKICAgICAgICAgICAgdmFyIGNpcmNsZV9tYXJrZXJfZGYxZDgzODkyZmE3NGU2Y2FjNTVjMzQ2YTQwNjk0ODIgPSBMLmNpcmNsZU1hcmtlcigKICAgICAgICAgICAgICAgIFs0My43NDI5NywgLTc5LjMxMzQ4OV0sCiAgICAgICAgICAgICAgICB7ImJ1YmJsaW5nTW91c2VFdmVudHMiOiB0cnVlLCAiY29sb3IiOiAiI0U5NzkwMCIsICJkYXNoQXJyYXkiOiBudWxsLCAiZGFzaE9mZnNldCI6IG51bGwsICJmaWxsIjogdHJ1ZSwgImZpbGxDb2xvciI6ICIjRjdCQjJEIiwgImZpbGxPcGFjaXR5IjogMC43LCAiZmlsbFJ1bGUiOiAiZXZlbm9kZCIsICJsaW5lQ2FwIjogInJvdW5kIiwgImxpbmVKb2luIjogInJvdW5kIiwgIm9wYWNpdHkiOiAxLjAsICJyYWRpdXMiOiA1LCAic3Ryb2tlIjogdHJ1ZSwgIndlaWdodCI6IDN9CiAgICAgICAgICAgICkuYWRkVG8obWFwX2Y1ZmQ5YjdhMWJlMzQ5NmQ4NTBiOGZmNDJjMmNhMWExKTsKICAgICAgICAKICAgIAogICAgICAgIHZhciBwb3B1cF84YTdmZmExNzhkMWI0OTE1OTllZDBlZmU5Y2RkMDBlYyA9IEwucG9wdXAoeyJtYXhXaWR0aCI6ICIxMDAlIn0pOwoKICAgICAgICAKICAgICAgICAgICAgdmFyIGh0bWxfZjRlN2M3YTViNzdjNDRjNGE5NzZjMWYzMDY5N2EyOTQgPSAkKGA8ZGl2IGlkPSJodG1sX2Y0ZTdjN2E1Yjc3YzQ0YzRhOTc2YzFmMzA2OTdhMjk0IiBzdHlsZT0id2lkdGg6IDEwMC4wJTsgaGVpZ2h0OiAxMDAuMCU7Ij5Ob3J0aCBZb3JrLCBNM0EgKFBhcmt3b29kcyk8L2Rpdj5gKVswXTsKICAgICAgICAgICAgcG9wdXBfOGE3ZmZhMTc4ZDFiNDkxNTk5ZWQwZWZlOWNkZDAwZWMuc2V0Q29udGVudChodG1sX2Y0ZTdjN2E1Yjc3YzQ0YzRhOTc2YzFmMzA2OTdhMjk0KTsKICAgICAgICAKCiAgICAgICAgY2lyY2xlX21hcmtlcl9kZjFkODM4OTJmYTc0ZTZjYWM1NWMzNDZhNDA2OTQ4Mi5iaW5kUG9wdXAocG9wdXBfOGE3ZmZhMTc4ZDFiNDkxNTk5ZWQwZWZlOWNkZDAwZWMpCiAgICAgICAgOwoKICAgICAgICAKICAgIAogICAgCiAgICAgICAgICAgIHZhciBjaXJjbGVfbWFya2VyXzE3YjA4MmJjMjMwMzQxNTlhYTJkNDA0YjgxZDRlMDUxID0gTC5jaXJjbGVNYXJrZXIoCiAgICAgICAgICAgICAgICBbNDMuNzU2NzU5LCAtNzkuMzUwNDIyOTk5OTk5OTldLAogICAgICAgICAgICAgICAgeyJidWJibGluZ01vdXNlRXZlbnRzIjogdHJ1ZSwgImNvbG9yIjogIiNFOTc5MDAiLCAiZGFzaEFycmF5IjogbnVsbCwgImRhc2hPZmZzZXQiOiBudWxsLCAiZmlsbCI6IHRydWUsICJmaWxsQ29sb3IiOiAiI0Y3QkIyRCIsICJmaWxsT3BhY2l0eSI6IDAuNywgImZpbGxSdWxlIjogImV2ZW5vZGQiLCAibGluZUNhcCI6ICJyb3VuZCIsICJsaW5lSm9pbiI6ICJyb3VuZCIsICJvcGFjaXR5IjogMS4wLCAicmFkaXVzIjogNSwgInN0cm9rZSI6IHRydWUsICJ3ZWlnaHQiOiAzfQogICAgICAgICAgICApLmFkZFRvKG1hcF9mNWZkOWI3YTFiZTM0OTZkODUwYjhmZjQyYzJjYTFhMSk7CiAgICAgICAgCiAgICAKICAgICAgICB2YXIgcG9wdXBfMjdkZjQxMTUxZTc5NGI5NTg0NWUzMzNiMDhhMjcxOGIgPSBMLnBvcHVwKHsibWF4V2lkdGgiOiAiMTAwJSJ9KTsKCiAgICAgICAgCiAgICAgICAgICAgIHZhciBodG1sX2MwYjY3NmRlM2JiYTRlOWRiOWI4YmE2ZWVhYzM5NDM2ID0gJChgPGRpdiBpZD0iaHRtbF9jMGI2NzZkZTNiYmE0ZTlkYjliOGJhNmVlYWMzOTQzNiIgc3R5bGU9IndpZHRoOiAxMDAuMCU7IGhlaWdodDogMTAwLjAlOyI+Tm9ydGggWW9yaywgTTNCIChEb24gTWlsbHMgTm9ydGgpPC9kaXY+YClbMF07CiAgICAgICAgICAgIHBvcHVwXzI3ZGY0MTE1MWU3OTRiOTU4NDVlMzMzYjA4YTI3MThiLnNldENvbnRlbnQoaHRtbF9jMGI2NzZkZTNiYmE0ZTlkYjliOGJhNmVlYWMzOTQzNik7CiAgICAgICAgCgogICAgICAgIGNpcmNsZV9tYXJrZXJfMTdiMDgyYmMyMzAzNDE1OWFhMmQ0MDRiODFkNGUwNTEuYmluZFBvcHVwKHBvcHVwXzI3ZGY0MTE1MWU3OTRiOTU4NDVlMzMzYjA4YTI3MThiKQogICAgICAgIDsKCiAgICAgICAgCiAgICAKICAgIAogICAgICAgICAgICB2YXIgY2lyY2xlX21hcmtlcl8yM2I4NzhhMWMzNWE0ZmFhYTcwNDlhNjYyZWZhMGU3YSA9IEwuY2lyY2xlTWFya2VyKAogICAgICAgICAgICAgICAgWzQzLjcyNTQwMTUsIC03OS4zMzc2NzQ0OTk5OTk5OF0sCiAgICAgICAgICAgICAgICB7ImJ1YmJsaW5nTW91c2VFdmVudHMiOiB0cnVlLCAiY29sb3IiOiAiI0U5NzkwMCIsICJkYXNoQXJyYXkiOiBudWxsLCAiZGFzaE9mZnNldCI6IG51bGwsICJmaWxsIjogdHJ1ZSwgImZpbGxDb2xvciI6ICIjRjdCQjJEIiwgImZpbGxPcGFjaXR5IjogMC43LCAiZmlsbFJ1bGUiOiAiZXZlbm9kZCIsICJsaW5lQ2FwIjogInJvdW5kIiwgImxpbmVKb2luIjogInJvdW5kIiwgIm9wYWNpdHkiOiAxLjAsICJyYWRpdXMiOiA1LCAic3Ryb2tlIjogdHJ1ZSwgIndlaWdodCI6IDN9CiAgICAgICAgICAgICkuYWRkVG8obWFwX2Y1ZmQ5YjdhMWJlMzQ5NmQ4NTBiOGZmNDJjMmNhMWExKTsKICAgICAgICAKICAgIAogICAgICAgIHZhciBwb3B1cF8yNjFmMTk2M2I3MmY0OGNiYWUzNDQ0ZWMxMmU1YjAxMiA9IEwucG9wdXAoeyJtYXhXaWR0aCI6ICIxMDAlIn0pOwoKICAgICAgICAKICAgICAgICAgICAgdmFyIGh0bWxfYzA5YTljOWZiMTcwNDBiZjhlNDA3NDBkOTVhMDM0ZjcgPSAkKGA8ZGl2IGlkPSJodG1sX2MwOWE5YzlmYjE3MDQwYmY4ZTQwNzQwZDk1YTAzNGY3IiBzdHlsZT0id2lkdGg6IDEwMC4wJTsgaGVpZ2h0OiAxMDAuMCU7Ij5Ob3J0aCBZb3JrLCBNM0MgKEZsZW1pbmdkb24gUGFyaywgRG9uIE1pbGxzIFNvdXRoKTwvZGl2PmApWzBdOwogICAgICAgICAgICBwb3B1cF8yNjFmMTk2M2I3MmY0OGNiYWUzNDQ0ZWMxMmU1YjAxMi5zZXRDb250ZW50KGh0bWxfYzA5YTljOWZiMTcwNDBiZjhlNDA3NDBkOTVhMDM0ZjcpOwogICAgICAgIAoKICAgICAgICBjaXJjbGVfbWFya2VyXzIzYjg3OGExYzM1YTRmYWFhNzA0OWE2NjJlZmEwZTdhLmJpbmRQb3B1cChwb3B1cF8yNjFmMTk2M2I3MmY0OGNiYWUzNDQ0ZWMxMmU1YjAxMikKICAgICAgICA7CgogICAgICAgIAogICAgCiAgICAKICAgICAgICAgICAgdmFyIGNpcmNsZV9tYXJrZXJfMTk4YmNhOWJjYjg0NDliYTlhODYwZWM1YmFkNjJlZmQgPSBMLmNpcmNsZU1hcmtlcigKICAgICAgICAgICAgICAgIFs0My43NSwgLTc5LjQ2XSwKICAgICAgICAgICAgICAgIHsiYnViYmxpbmdNb3VzZUV2ZW50cyI6IHRydWUsICJjb2xvciI6ICIjRTk3OTAwIiwgImRhc2hBcnJheSI6IG51bGwsICJkYXNoT2Zmc2V0IjogbnVsbCwgImZpbGwiOiB0cnVlLCAiZmlsbENvbG9yIjogIiNGN0JCMkQiLCAiZmlsbE9wYWNpdHkiOiAwLjcsICJmaWxsUnVsZSI6ICJldmVub2RkIiwgImxpbmVDYXAiOiAicm91bmQiLCAibGluZUpvaW4iOiAicm91bmQiLCAib3BhY2l0eSI6IDEuMCwgInJhZGl1cyI6IDUsICJzdHJva2UiOiB0cnVlLCAid2VpZ2h0IjogM30KICAgICAgICAgICAgKS5hZGRUbyhtYXBfZjVmZDliN2ExYmUzNDk2ZDg1MGI4ZmY0MmMyY2ExYTEpOwogICAgICAgIAogICAgCiAgICAgICAgdmFyIHBvcHVwX2ViMTk1OTcxYzk1YzQzMTY4OTFmYTViZGEyMzUzMDQ3ID0gTC5wb3B1cCh7Im1heFdpZHRoIjogIjEwMCUifSk7CgogICAgICAgIAogICAgICAgICAgICB2YXIgaHRtbF8wNTMzNmVkNGNlN2U0OWFmODMyNTgwYzdhODMzZTgxNyA9ICQoYDxkaXYgaWQ9Imh0bWxfMDUzMzZlZDRjZTdlNDlhZjgzMjU4MGM3YTgzM2U4MTciIHN0eWxlPSJ3aWR0aDogMTAwLjAlOyBoZWlnaHQ6IDEwMC4wJTsiPk5vcnRoIFlvcmssIE0zSCAoQmF0aHVyc3QgTWFub3IsIERvd25zdmlldyBOb3J0aCwgV2lsc29uIEhlaWdodHMpPC9kaXY+YClbMF07CiAgICAgICAgICAgIHBvcHVwX2ViMTk1OTcxYzk1YzQzMTY4OTFmYTViZGEyMzUzMDQ3LnNldENvbnRlbnQoaHRtbF8wNTMzNmVkNGNlN2U0OWFmODMyNTgwYzdhODMzZTgxNyk7CiAgICAgICAgCgogICAgICAgIGNpcmNsZV9tYXJrZXJfMTk4YmNhOWJjYjg0NDliYTlhODYwZWM1YmFkNjJlZmQuYmluZFBvcHVwKHBvcHVwX2ViMTk1OTcxYzk1YzQzMTY4OTFmYTViZGEyMzUzMDQ3KQogICAgICAgIDsKCiAgICAgICAgCiAgICAKICAgIAogICAgICAgICAgICB2YXIgY2lyY2xlX21hcmtlcl8wZmMzMzI4MWRmNmU0NDIxOGE1ZTdjMjQ2YjY5ZTE4ZiA9IEwuY2lyY2xlTWFya2VyKAogICAgICAgICAgICAgICAgWzQzLjc4NTA3ODAwMDAwMDAwNiwgLTc5LjQ3NzA4N10sCiAgICAgICAgICAgICAgICB7ImJ1YmJsaW5nTW91c2VFdmVudHMiOiB0cnVlLCAiY29sb3IiOiAiI0U5NzkwMCIsICJkYXNoQXJyYXkiOiBudWxsLCAiZGFzaE9mZnNldCI6IG51bGwsICJmaWxsIjogdHJ1ZSwgImZpbGxDb2xvciI6ICIjRjdCQjJEIiwgImZpbGxPcGFjaXR5IjogMC43LCAiZmlsbFJ1bGUiOiAiZXZlbm9kZCIsICJsaW5lQ2FwIjogInJvdW5kIiwgImxpbmVKb2luIjogInJvdW5kIiwgIm9wYWNpdHkiOiAxLjAsICJyYWRpdXMiOiA1LCAic3Ryb2tlIjogdHJ1ZSwgIndlaWdodCI6IDN9CiAgICAgICAgICAgICkuYWRkVG8obWFwX2Y1ZmQ5YjdhMWJlMzQ5NmQ4NTBiOGZmNDJjMmNhMWExKTsKICAgICAgICAKICAgIAogICAgICAgIHZhciBwb3B1cF81ZGJjYjA2ZTlhMWE0Mzk2YTE5NDFlOWViMTEyYzU1NCA9IEwucG9wdXAoeyJtYXhXaWR0aCI6ICIxMDAlIn0pOwoKICAgICAgICAKICAgICAgICAgICAgdmFyIGh0bWxfYzMwZDY5YmE2MjJjNDA5NmE4ZTYyMzVjYzJkYjFkMDcgPSAkKGA8ZGl2IGlkPSJodG1sX2MzMGQ2OWJhNjIyYzQwOTZhOGU2MjM1Y2MyZGIxZDA3IiBzdHlsZT0id2lkdGg6IDEwMC4wJTsgaGVpZ2h0OiAxMDAuMCU7Ij5Ob3J0aCBZb3JrLCBNM0ogKE5vcnRod29vZCBQYXJrLCBZb3JrIFVuaXZlcnNpdHkpPC9kaXY+YClbMF07CiAgICAgICAgICAgIHBvcHVwXzVkYmNiMDZlOWExYTQzOTZhMTk0MWU5ZWIxMTJjNTU0LnNldENvbnRlbnQoaHRtbF9jMzBkNjliYTYyMmM0MDk2YThlNjIzNWNjMmRiMWQwNyk7CiAgICAgICAgCgogICAgICAgIGNpcmNsZV9tYXJrZXJfMGZjMzMyODFkZjZlNDQyMThhNWU3YzI0NmI2OWUxOGYuYmluZFBvcHVwKHBvcHVwXzVkYmNiMDZlOWExYTQzOTZhMTk0MWU5ZWIxMTJjNTU0KQogICAgICAgIDsKCiAgICAgICAgCiAgICAKICAgIAogICAgICAgICAgICB2YXIgY2lyY2xlX21hcmtlcl9jODE3ODg0YWMxNmQ0YTMxYWRmOWIyZTA0YzI4NWM5NSA9IEwuY2lyY2xlTWFya2VyKAogICAgICAgICAgICAgICAgWzQzLjc0NTMxOSwgLTc5LjQ4NTIwNTAwMDAwMDAxXSwKICAgICAgICAgICAgICAgIHsiYnViYmxpbmdNb3VzZUV2ZW50cyI6IHRydWUsICJjb2xvciI6ICIjRTk3OTAwIiwgImRhc2hBcnJheSI6IG51bGwsICJkYXNoT2Zmc2V0IjogbnVsbCwgImZpbGwiOiB0cnVlLCAiZmlsbENvbG9yIjogIiNGN0JCMkQiLCAiZmlsbE9wYWNpdHkiOiAwLjcsICJmaWxsUnVsZSI6ICJldmVub2RkIiwgImxpbmVDYXAiOiAicm91bmQiLCAibGluZUpvaW4iOiAicm91bmQiLCAib3BhY2l0eSI6IDEuMCwgInJhZGl1cyI6IDUsICJzdHJva2UiOiB0cnVlLCAid2VpZ2h0IjogM30KICAgICAgICAgICAgKS5hZGRUbyhtYXBfZjVmZDliN2ExYmUzNDk2ZDg1MGI4ZmY0MmMyY2ExYTEpOwogICAgICAgIAogICAgCiAgICAgICAgdmFyIHBvcHVwXzE5NDc0Yzg1YzRlNTQ1YjVhYjllNDNlYWNmYzliYzRiID0gTC5wb3B1cCh7Im1heFdpZHRoIjogIjEwMCUifSk7CgogICAgICAgIAogICAgICAgICAgICB2YXIgaHRtbF82YzE2ODAyZWY1MTM0Y2MzYmVmMTUzOGRlNTVkNDkzYyA9ICQoYDxkaXYgaWQ9Imh0bWxfNmMxNjgwMmVmNTEzNGNjM2JlZjE1MzhkZTU1ZDQ5M2MiIHN0eWxlPSJ3aWR0aDogMTAwLjAlOyBoZWlnaHQ6IDEwMC4wJTsiPk5vcnRoIFlvcmssIE0zSyAoQ0ZCIFRvcm9udG8sIERvd25zdmlldyBFYXN0KTwvZGl2PmApWzBdOwogICAgICAgICAgICBwb3B1cF8xOTQ3NGM4NWM0ZTU0NWI1YWI5ZTQzZWFjZmM5YmM0Yi5zZXRDb250ZW50KGh0bWxfNmMxNjgwMmVmNTEzNGNjM2JlZjE1MzhkZTU1ZDQ5M2MpOwogICAgICAgIAoKICAgICAgICBjaXJjbGVfbWFya2VyX2M4MTc4ODRhYzE2ZDRhMzFhZGY5YjJlMDRjMjg1Yzk1LmJpbmRQb3B1cChwb3B1cF8xOTQ3NGM4NWM0ZTU0NWI1YWI5ZTQzZWFjZmM5YmM0YikKICAgICAgICA7CgogICAgICAgIAogICAgCiAgICAKICAgICAgICAgICAgdmFyIGNpcmNsZV9tYXJrZXJfYjFmZDE4ZTkwZDlkNDlkMWI0OGU3N2FhY2U3NTFiZGQgPSBMLmNpcmNsZU1hcmtlcigKICAgICAgICAgICAgICAgIFs0My43MiwgLTc5LjUxXSwKICAgICAgICAgICAgICAgIHsiYnViYmxpbmdNb3VzZUV2ZW50cyI6IHRydWUsICJjb2xvciI6ICIjRTk3OTAwIiwgImRhc2hBcnJheSI6IG51bGwsICJkYXNoT2Zmc2V0IjogbnVsbCwgImZpbGwiOiB0cnVlLCAiZmlsbENvbG9yIjogIiNGN0JCMkQiLCAiZmlsbE9wYWNpdHkiOiAwLjcsICJmaWxsUnVsZSI6ICJldmVub2RkIiwgImxpbmVDYXAiOiAicm91bmQiLCAibGluZUpvaW4iOiAicm91bmQiLCAib3BhY2l0eSI6IDEuMCwgInJhZGl1cyI6IDUsICJzdHJva2UiOiB0cnVlLCAid2VpZ2h0IjogM30KICAgICAgICAgICAgKS5hZGRUbyhtYXBfZjVmZDliN2ExYmUzNDk2ZDg1MGI4ZmY0MmMyY2ExYTEpOwogICAgICAgIAogICAgCiAgICAgICAgdmFyIHBvcHVwX2EwZmY1ZGZkZWE3ZDQ3NGZhNTZlZjA4Mjc4OWQxMjU2ID0gTC5wb3B1cCh7Im1heFdpZHRoIjogIjEwMCUifSk7CgogICAgICAgIAogICAgICAgICAgICB2YXIgaHRtbF81ZDViYzZiYzM2YjU0YjMyYjhiZTNmYzVkMTZiNWNjMSA9ICQoYDxkaXYgaWQ9Imh0bWxfNWQ1YmM2YmMzNmI1NGIzMmI4YmUzZmM1ZDE2YjVjYzEiIHN0eWxlPSJ3aWR0aDogMTAwLjAlOyBoZWlnaHQ6IDEwMC4wJTsiPk5vcnRoIFlvcmssIE0zTCAoRG93bnN2aWV3IFdlc3QpPC9kaXY+YClbMF07CiAgICAgICAgICAgIHBvcHVwX2EwZmY1ZGZkZWE3ZDQ3NGZhNTZlZjA4Mjc4OWQxMjU2LnNldENvbnRlbnQoaHRtbF81ZDViYzZiYzM2YjU0YjMyYjhiZTNmYzVkMTZiNWNjMSk7CiAgICAgICAgCgogICAgICAgIGNpcmNsZV9tYXJrZXJfYjFmZDE4ZTkwZDlkNDlkMWI0OGU3N2FhY2U3NTFiZGQuYmluZFBvcHVwKHBvcHVwX2EwZmY1ZGZkZWE3ZDQ3NGZhNTZlZjA4Mjc4OWQxMjU2KQogICAgICAgIDsKCiAgICAgICAgCiAgICAKICAgIAogICAgICAgICAgICB2YXIgY2lyY2xlX21hcmtlcl82ZGE2ZjI2OGE4MDY0YWE4YTRiYzk0Njg1ZTA3MjM0NiA9IEwuY2lyY2xlTWFya2VyKAogICAgICAgICAgICAgICAgWzQzLjcyNjYzOCwgLTc5LjQ4MzExMl0sCiAgICAgICAgICAgICAgICB7ImJ1YmJsaW5nTW91c2VFdmVudHMiOiB0cnVlLCAiY29sb3IiOiAiI0U5NzkwMCIsICJkYXNoQXJyYXkiOiBudWxsLCAiZGFzaE9mZnNldCI6IG51bGwsICJmaWxsIjogdHJ1ZSwgImZpbGxDb2xvciI6ICIjRjdCQjJEIiwgImZpbGxPcGFjaXR5IjogMC43LCAiZmlsbFJ1bGUiOiAiZXZlbm9kZCIsICJsaW5lQ2FwIjogInJvdW5kIiwgImxpbmVKb2luIjogInJvdW5kIiwgIm9wYWNpdHkiOiAxLjAsICJyYWRpdXMiOiA1LCAic3Ryb2tlIjogdHJ1ZSwgIndlaWdodCI6IDN9CiAgICAgICAgICAgICkuYWRkVG8obWFwX2Y1ZmQ5YjdhMWJlMzQ5NmQ4NTBiOGZmNDJjMmNhMWExKTsKICAgICAgICAKICAgIAogICAgICAgIHZhciBwb3B1cF8xZmQ1YzhkZWNkMGI0OTg0OTM5NmJkNjM0OGIyNDFhNyA9IEwucG9wdXAoeyJtYXhXaWR0aCI6ICIxMDAlIn0pOwoKICAgICAgICAKICAgICAgICAgICAgdmFyIGh0bWxfYTExNzQ1NWZjYWQzNGQzNzk2MjRiMmRkODAxM2U0NDYgPSAkKGA8ZGl2IGlkPSJodG1sX2ExMTc0NTVmY2FkMzRkMzc5NjI0YjJkZDgwMTNlNDQ2IiBzdHlsZT0id2lkdGg6IDEwMC4wJTsgaGVpZ2h0OiAxMDAuMCU7Ij5Ob3J0aCBZb3JrLCBNM00gKERvd25zdmlldyBDZW50cmFsKTwvZGl2PmApWzBdOwogICAgICAgICAgICBwb3B1cF8xZmQ1YzhkZWNkMGI0OTg0OTM5NmJkNjM0OGIyNDFhNy5zZXRDb250ZW50KGh0bWxfYTExNzQ1NWZjYWQzNGQzNzk2MjRiMmRkODAxM2U0NDYpOwogICAgICAgIAoKICAgICAgICBjaXJjbGVfbWFya2VyXzZkYTZmMjY4YTgwNjRhYThhNGJjOTQ2ODVlMDcyMzQ2LmJpbmRQb3B1cChwb3B1cF8xZmQ1YzhkZWNkMGI0OTg0OTM5NmJkNjM0OGIyNDFhNykKICAgICAgICA7CgogICAgICAgIAogICAgCiAgICAKICAgICAgICAgICAgdmFyIGNpcmNsZV9tYXJrZXJfOTdjZGFlMWNhZGIwNGQ0YWJlYzdhMzUwZTBkM2QwZjkgPSBMLmNpcmNsZU1hcmtlcigKICAgICAgICAgICAgICAgIFs0My43NiwgLTc5LjUyXSwKICAgICAgICAgICAgICAgIHsiYnViYmxpbmdNb3VzZUV2ZW50cyI6IHRydWUsICJjb2xvciI6ICIjRTk3OTAwIiwgImRhc2hBcnJheSI6IG51bGwsICJkYXNoT2Zmc2V0IjogbnVsbCwgImZpbGwiOiB0cnVlLCAiZmlsbENvbG9yIjogIiNGN0JCMkQiLCAiZmlsbE9wYWNpdHkiOiAwLjcsICJmaWxsUnVsZSI6ICJldmVub2RkIiwgImxpbmVDYXAiOiAicm91bmQiLCAibGluZUpvaW4iOiAicm91bmQiLCAib3BhY2l0eSI6IDEuMCwgInJhZGl1cyI6IDUsICJzdHJva2UiOiB0cnVlLCAid2VpZ2h0IjogM30KICAgICAgICAgICAgKS5hZGRUbyhtYXBfZjVmZDliN2ExYmUzNDk2ZDg1MGI4ZmY0MmMyY2ExYTEpOwogICAgICAgIAogICAgCiAgICAgICAgdmFyIHBvcHVwX2JjMTgzOGQ0MjNlZDQ3Yjg4YTViOTA2MjM3NzU4MDUyID0gTC5wb3B1cCh7Im1heFdpZHRoIjogIjEwMCUifSk7CgogICAgICAgIAogICAgICAgICAgICB2YXIgaHRtbF84YzQ5MTJiMjM2ZTc0MDU3YmQyOTQzNTQ2YmUyZTYyZCA9ICQoYDxkaXYgaWQ9Imh0bWxfOGM0OTEyYjIzNmU3NDA1N2JkMjk0MzU0NmJlMmU2MmQiIHN0eWxlPSJ3aWR0aDogMTAwLjAlOyBoZWlnaHQ6IDEwMC4wJTsiPk5vcnRoIFlvcmssIE0zTiAoRG93bnN2aWV3IE5vcnRod2VzdCk8L2Rpdj5gKVswXTsKICAgICAgICAgICAgcG9wdXBfYmMxODM4ZDQyM2VkNDdiODhhNWI5MDYyMzc3NTgwNTIuc2V0Q29udGVudChodG1sXzhjNDkxMmIyMzZlNzQwNTdiZDI5NDM1NDZiZTJlNjJkKTsKICAgICAgICAKCiAgICAgICAgY2lyY2xlX21hcmtlcl85N2NkYWUxY2FkYjA0ZDRhYmVjN2EzNTBlMGQzZDBmOS5iaW5kUG9wdXAocG9wdXBfYmMxODM4ZDQyM2VkNDdiODhhNWI5MDYyMzc3NTgwNTIpCiAgICAgICAgOwoKICAgICAgICAKICAgIAogICAgCiAgICAgICAgICAgIHZhciBjaXJjbGVfbWFya2VyXzJmMjMyMGRkZWEwNzQ3ZjJhYzhlNTQ0MTBlOTE4MGE5ID0gTC5jaXJjbGVNYXJrZXIoCiAgICAgICAgICAgICAgICBbNDMuNzQsIC03OS4zMV0sCiAgICAgICAgICAgICAgICB7ImJ1YmJsaW5nTW91c2VFdmVudHMiOiB0cnVlLCAiY29sb3IiOiAiI0U5NzkwMCIsICJkYXNoQXJyYXkiOiBudWxsLCAiZGFzaE9mZnNldCI6IG51bGwsICJmaWxsIjogdHJ1ZSwgImZpbGxDb2xvciI6ICIjRjdCQjJEIiwgImZpbGxPcGFjaXR5IjogMC43LCAiZmlsbFJ1bGUiOiAiZXZlbm9kZCIsICJsaW5lQ2FwIjogInJvdW5kIiwgImxpbmVKb2luIjogInJvdW5kIiwgIm9wYWNpdHkiOiAxLjAsICJyYWRpdXMiOiA1LCAic3Ryb2tlIjogdHJ1ZSwgIndlaWdodCI6IDN9CiAgICAgICAgICAgICkuYWRkVG8obWFwX2Y1ZmQ5YjdhMWJlMzQ5NmQ4NTBiOGZmNDJjMmNhMWExKTsKICAgICAgICAKICAgIAogICAgICAgIHZhciBwb3B1cF8xY2YzNmRkNDg3YWE0ZGI5YTFlODdhODAwYzQwMjk5ZSA9IEwucG9wdXAoeyJtYXhXaWR0aCI6ICIxMDAlIn0pOwoKICAgICAgICAKICAgICAgICAgICAgdmFyIGh0bWxfMDE2OTEwMzY4NGQ2NDRjNmE4MTEwMTY2OTA1ZDVjYTIgPSAkKGA8ZGl2IGlkPSJodG1sXzAxNjkxMDM2ODRkNjQ0YzZhODExMDE2NjkwNWQ1Y2EyIiBzdHlsZT0id2lkdGg6IDEwMC4wJTsgaGVpZ2h0OiAxMDAuMCU7Ij5Ob3J0aCBZb3JrLCBNNEEgKFZpY3RvcmlhIFZpbGxhZ2UpPC9kaXY+YClbMF07CiAgICAgICAgICAgIHBvcHVwXzFjZjM2ZGQ0ODdhYTRkYjlhMWU4N2E4MDBjNDAyOTllLnNldENvbnRlbnQoaHRtbF8wMTY5MTAzNjg0ZDY0NGM2YTgxMTAxNjY5MDVkNWNhMik7CiAgICAgICAgCgogICAgICAgIGNpcmNsZV9tYXJrZXJfMmYyMzIwZGRlYTA3NDdmMmFjOGU1NDQxMGU5MTgwYTkuYmluZFBvcHVwKHBvcHVwXzFjZjM2ZGQ0ODdhYTRkYjlhMWU4N2E4MDBjNDAyOTllKQogICAgICAgIDsKCiAgICAgICAgCiAgICAKICAgIAogICAgICAgICAgICB2YXIgY2lyY2xlX21hcmtlcl9hNDljOTc5OTNjMzI0YWM2YjNjZDc2ZmZiNjRmZDVhMiA9IEwuY2lyY2xlTWFya2VyKAogICAgICAgICAgICAgICAgWzQzLjcwOTUxMywgLTc5LjI5NjU0NV0sCiAgICAgICAgICAgICAgICB7ImJ1YmJsaW5nTW91c2VFdmVudHMiOiB0cnVlLCAiY29sb3IiOiAiI0U5NzkwMCIsICJkYXNoQXJyYXkiOiBudWxsLCAiZGFzaE9mZnNldCI6IG51bGwsICJmaWxsIjogdHJ1ZSwgImZpbGxDb2xvciI6ICIjRjdCQjJEIiwgImZpbGxPcGFjaXR5IjogMC43LCAiZmlsbFJ1bGUiOiAiZXZlbm9kZCIsICJsaW5lQ2FwIjogInJvdW5kIiwgImxpbmVKb2luIjogInJvdW5kIiwgIm9wYWNpdHkiOiAxLjAsICJyYWRpdXMiOiA1LCAic3Ryb2tlIjogdHJ1ZSwgIndlaWdodCI6IDN9CiAgICAgICAgICAgICkuYWRkVG8obWFwX2Y1ZmQ5YjdhMWJlMzQ5NmQ4NTBiOGZmNDJjMmNhMWExKTsKICAgICAgICAKICAgIAogICAgICAgIHZhciBwb3B1cF8wNGZlNWQzMDI1YTc0OTNkYTQ1MGJkYTc4NjY3MWU4NyA9IEwucG9wdXAoeyJtYXhXaWR0aCI6ICIxMDAlIn0pOwoKICAgICAgICAKICAgICAgICAgICAgdmFyIGh0bWxfNzM0M2JlM2I5Mzg1NDUxOTgxZjUxYzQ5YmQwOTYyZDMgPSAkKGA8ZGl2IGlkPSJodG1sXzczNDNiZTNiOTM4NTQ1MTk4MWY1MWM0OWJkMDk2MmQzIiBzdHlsZT0id2lkdGg6IDEwMC4wJTsgaGVpZ2h0OiAxMDAuMCU7Ij5FYXN0IFlvcmssIE00QiAoV29vZGJpbmUgR2FyZGVucywgUGFya3ZpZXcgSGlsbCk8L2Rpdj5gKVswXTsKICAgICAgICAgICAgcG9wdXBfMDRmZTVkMzAyNWE3NDkzZGE0NTBiZGE3ODY2NzFlODcuc2V0Q29udGVudChodG1sXzczNDNiZTNiOTM4NTQ1MTk4MWY1MWM0OWJkMDk2MmQzKTsKICAgICAgICAKCiAgICAgICAgY2lyY2xlX21hcmtlcl9hNDljOTc5OTNjMzI0YWM2YjNjZDc2ZmZiNjRmZDVhMi5iaW5kUG9wdXAocG9wdXBfMDRmZTVkMzAyNWE3NDkzZGE0NTBiZGE3ODY2NzFlODcpCiAgICAgICAgOwoKICAgICAgICAKICAgIAogICAgCiAgICAgICAgICAgIHZhciBjaXJjbGVfbWFya2VyX2RjNTYwNmQ1MGQ3NjQyYzI4M2IwYjRlMDIwYzNkMGQyID0gTC5jaXJjbGVNYXJrZXIoCiAgICAgICAgICAgICAgICBbNDMuNjkwMTQ4LCAtNzkuMjg4NzZdLAogICAgICAgICAgICAgICAgeyJidWJibGluZ01vdXNlRXZlbnRzIjogdHJ1ZSwgImNvbG9yIjogIiNFOTc5MDAiLCAiZGFzaEFycmF5IjogbnVsbCwgImRhc2hPZmZzZXQiOiBudWxsLCAiZmlsbCI6IHRydWUsICJmaWxsQ29sb3IiOiAiI0Y3QkIyRCIsICJmaWxsT3BhY2l0eSI6IDAuNywgImZpbGxSdWxlIjogImV2ZW5vZGQiLCAibGluZUNhcCI6ICJyb3VuZCIsICJsaW5lSm9pbiI6ICJyb3VuZCIsICJvcGFjaXR5IjogMS4wLCAicmFkaXVzIjogNSwgInN0cm9rZSI6IHRydWUsICJ3ZWlnaHQiOiAzfQogICAgICAgICAgICApLmFkZFRvKG1hcF9mNWZkOWI3YTFiZTM0OTZkODUwYjhmZjQyYzJjYTFhMSk7CiAgICAgICAgCiAgICAKICAgICAgICB2YXIgcG9wdXBfZjQ4ZjI5NWM0MGFkNDIyZmEwZGIxYmI4YTE3MWNjODkgPSBMLnBvcHVwKHsibWF4V2lkdGgiOiAiMTAwJSJ9KTsKCiAgICAgICAgCiAgICAgICAgICAgIHZhciBodG1sX2FjNGY4YTFhNWMzODRiMGU5YmI2YWRkZTIxZTkzNjZiID0gJChgPGRpdiBpZD0iaHRtbF9hYzRmOGExYTVjMzg0YjBlOWJiNmFkZGUyMWU5MzY2YiIgc3R5bGU9IndpZHRoOiAxMDAuMCU7IGhlaWdodDogMTAwLjAlOyI+RWFzdCBZb3JrLCBNNEMgKFdvb2RiaW5lIEhlaWdodHMpPC9kaXY+YClbMF07CiAgICAgICAgICAgIHBvcHVwX2Y0OGYyOTVjNDBhZDQyMmZhMGRiMWJiOGExNzFjYzg5LnNldENvbnRlbnQoaHRtbF9hYzRmOGExYTVjMzg0YjBlOWJiNmFkZGUyMWU5MzY2Yik7CiAgICAgICAgCgogICAgICAgIGNpcmNsZV9tYXJrZXJfZGM1NjA2ZDUwZDc2NDJjMjgzYjBiNGUwMjBjM2QwZDIuYmluZFBvcHVwKHBvcHVwX2Y0OGYyOTVjNDBhZDQyMmZhMGRiMWJiOGExNzFjYzg5KQogICAgICAgIDsKCiAgICAgICAgCiAgICAKICAgIAogICAgICAgICAgICB2YXIgY2lyY2xlX21hcmtlcl81ZDFiNGVkNTNhNzY0MzQwODJkMThkMDQ0Njk3YWY2NiA9IEwuY2lyY2xlTWFya2VyKAogICAgICAgICAgICAgICAgWzQzLjY4LCAtNzkuMzFdLAogICAgICAgICAgICAgICAgeyJidWJibGluZ01vdXNlRXZlbnRzIjogdHJ1ZSwgImNvbG9yIjogIiNFOTc5MDAiLCAiZGFzaEFycmF5IjogbnVsbCwgImRhc2hPZmZzZXQiOiBudWxsLCAiZmlsbCI6IHRydWUsICJmaWxsQ29sb3IiOiAiI0Y3QkIyRCIsICJmaWxsT3BhY2l0eSI6IDAuNywgImZpbGxSdWxlIjogImV2ZW5vZGQiLCAibGluZUNhcCI6ICJyb3VuZCIsICJsaW5lSm9pbiI6ICJyb3VuZCIsICJvcGFjaXR5IjogMS4wLCAicmFkaXVzIjogNSwgInN0cm9rZSI6IHRydWUsICJ3ZWlnaHQiOiAzfQogICAgICAgICAgICApLmFkZFRvKG1hcF9mNWZkOWI3YTFiZTM0OTZkODUwYjhmZjQyYzJjYTFhMSk7CiAgICAgICAgCiAgICAKICAgICAgICB2YXIgcG9wdXBfNmMwZDVmMGE0ODIzNDU3ZWJhYTU2YmU0NzdhYjhmZjUgPSBMLnBvcHVwKHsibWF4V2lkdGgiOiAiMTAwJSJ9KTsKCiAgICAgICAgCiAgICAgICAgICAgIHZhciBodG1sXzY2ZWEyNWY1ODhmNzQzMzhhNjc1MTAyZWUzMmMyZTVjID0gJChgPGRpdiBpZD0iaHRtbF82NmVhMjVmNTg4Zjc0MzM4YTY3NTEwMmVlMzJjMmU1YyIgc3R5bGU9IndpZHRoOiAxMDAuMCU7IGhlaWdodDogMTAwLjAlOyI+RWFzdCBUb3JvbnRvLCBNNEUgKFRoZSBCZWFjaGVzKTwvZGl2PmApWzBdOwogICAgICAgICAgICBwb3B1cF82YzBkNWYwYTQ4MjM0NTdlYmFhNTZiZTQ3N2FiOGZmNS5zZXRDb250ZW50KGh0bWxfNjZlYTI1ZjU4OGY3NDMzOGE2NzUxMDJlZTMyYzJlNWMpOwogICAgICAgIAoKICAgICAgICBjaXJjbGVfbWFya2VyXzVkMWI0ZWQ1M2E3NjQzNDA4MmQxOGQwNDQ2OTdhZjY2LmJpbmRQb3B1cChwb3B1cF82YzBkNWYwYTQ4MjM0NTdlYmFhNTZiZTQ3N2FiOGZmNSkKICAgICAgICA7CgogICAgICAgIAogICAgCiAgICAKICAgICAgICAgICAgdmFyIGNpcmNsZV9tYXJrZXJfYmIwYmI1ZTI3NDRiNDk4ZGE5N2JkZTI1ODUzODBjMTcgPSBMLmNpcmNsZU1hcmtlcigKICAgICAgICAgICAgICAgIFs0My43MSwgLTc5LjM2XSwKICAgICAgICAgICAgICAgIHsiYnViYmxpbmdNb3VzZUV2ZW50cyI6IHRydWUsICJjb2xvciI6ICIjRTk3OTAwIiwgImRhc2hBcnJheSI6IG51bGwsICJkYXNoT2Zmc2V0IjogbnVsbCwgImZpbGwiOiB0cnVlLCAiZmlsbENvbG9yIjogIiNGN0JCMkQiLCAiZmlsbE9wYWNpdHkiOiAwLjcsICJmaWxsUnVsZSI6ICJldmVub2RkIiwgImxpbmVDYXAiOiAicm91bmQiLCAibGluZUpvaW4iOiAicm91bmQiLCAib3BhY2l0eSI6IDEuMCwgInJhZGl1cyI6IDUsICJzdHJva2UiOiB0cnVlLCAid2VpZ2h0IjogM30KICAgICAgICAgICAgKS5hZGRUbyhtYXBfZjVmZDliN2ExYmUzNDk2ZDg1MGI4ZmY0MmMyY2ExYTEpOwogICAgICAgIAogICAgCiAgICAgICAgdmFyIHBvcHVwXzZkYTE5Nzk3NTlmMjQxYWI4N2ExMzNkNzI5M2ZhYjczID0gTC5wb3B1cCh7Im1heFdpZHRoIjogIjEwMCUifSk7CgogICAgICAgIAogICAgICAgICAgICB2YXIgaHRtbF8zM2I0NWM4NTQzMzI0ZTJiYmYxZWVhNThhZTg1OTExYSA9ICQoYDxkaXYgaWQ9Imh0bWxfMzNiNDVjODU0MzMyNGUyYmJmMWVlYTU4YWU4NTkxMWEiIHN0eWxlPSJ3aWR0aDogMTAwLjAlOyBoZWlnaHQ6IDEwMC4wJTsiPkVhc3QgWW9yaywgTTRHIChMZWFzaWRlKTwvZGl2PmApWzBdOwogICAgICAgICAgICBwb3B1cF82ZGExOTc5NzU5ZjI0MWFiODdhMTMzZDcyOTNmYWI3My5zZXRDb250ZW50KGh0bWxfMzNiNDVjODU0MzMyNGUyYmJmMWVlYTU4YWU4NTkxMWEpOwogICAgICAgIAoKICAgICAgICBjaXJjbGVfbWFya2VyX2JiMGJiNWUyNzQ0YjQ5OGRhOTdiZGUyNTg1MzgwYzE3LmJpbmRQb3B1cChwb3B1cF82ZGExOTc5NzU5ZjI0MWFiODdhMTMzZDcyOTNmYWI3MykKICAgICAgICA7CgogICAgICAgIAogICAgCiAgICAKICAgICAgICAgICAgdmFyIGNpcmNsZV9tYXJrZXJfN2QzYmU0ZDMxMjk4NGYyMjgwNjI2ZWRhOTRkMGE1MmQgPSBMLmNpcmNsZU1hcmtlcigKICAgICAgICAgICAgICAgIFs0My43MSwgLTc5LjM0XSwKICAgICAgICAgICAgICAgIHsiYnViYmxpbmdNb3VzZUV2ZW50cyI6IHRydWUsICJjb2xvciI6ICIjRTk3OTAwIiwgImRhc2hBcnJheSI6IG51bGwsICJkYXNoT2Zmc2V0IjogbnVsbCwgImZpbGwiOiB0cnVlLCAiZmlsbENvbG9yIjogIiNGN0JCMkQiLCAiZmlsbE9wYWNpdHkiOiAwLjcsICJmaWxsUnVsZSI6ICJldmVub2RkIiwgImxpbmVDYXAiOiAicm91bmQiLCAibGluZUpvaW4iOiAicm91bmQiLCAib3BhY2l0eSI6IDEuMCwgInJhZGl1cyI6IDUsICJzdHJva2UiOiB0cnVlLCAid2VpZ2h0IjogM30KICAgICAgICAgICAgKS5hZGRUbyhtYXBfZjVmZDliN2ExYmUzNDk2ZDg1MGI4ZmY0MmMyY2ExYTEpOwogICAgICAgIAogICAgCiAgICAgICAgdmFyIHBvcHVwXzU2ZDM3ZDg3N2E2YTQ5YmM5MTE5OWU5M2U4YjVkOGI0ID0gTC5wb3B1cCh7Im1heFdpZHRoIjogIjEwMCUifSk7CgogICAgICAgIAogICAgICAgICAgICB2YXIgaHRtbF85NDFmNjQ5YjU0MjE0N2RhOTgwNmEyOGI2MThlY2E5MCA9ICQoYDxkaXYgaWQ9Imh0bWxfOTQxZjY0OWI1NDIxNDdkYTk4MDZhMjhiNjE4ZWNhOTAiIHN0eWxlPSJ3aWR0aDogMTAwLjAlOyBoZWlnaHQ6IDEwMC4wJTsiPkVhc3QgWW9yaywgTTRIIChUaG9ybmNsaWZmZSBQYXJrKTwvZGl2PmApWzBdOwogICAgICAgICAgICBwb3B1cF81NmQzN2Q4NzdhNmE0OWJjOTExOTllOTNlOGI1ZDhiNC5zZXRDb250ZW50KGh0bWxfOTQxZjY0OWI1NDIxNDdkYTk4MDZhMjhiNjE4ZWNhOTApOwogICAgICAgIAoKICAgICAgICBjaXJjbGVfbWFya2VyXzdkM2JlNGQzMTI5ODRmMjI4MDYyNmVkYTk0ZDBhNTJkLmJpbmRQb3B1cChwb3B1cF81NmQzN2Q4NzdhNmE0OWJjOTExOTllOTNlOGI1ZDhiNCkKICAgICAgICA7CgogICAgICAgIAogICAgCiAgICAKICAgICAgICAgICAgdmFyIGNpcmNsZV9tYXJrZXJfOWQ1YTE4MWQyYzZlNDQwZjkwNjFmNDQyZjlmNzEyODIgPSBMLmNpcmNsZU1hcmtlcigKICAgICAgICAgICAgICAgIFs0My42OCwgLTc5LjM0XSwKICAgICAgICAgICAgICAgIHsiYnViYmxpbmdNb3VzZUV2ZW50cyI6IHRydWUsICJjb2xvciI6ICIjRTk3OTAwIiwgImRhc2hBcnJheSI6IG51bGwsICJkYXNoT2Zmc2V0IjogbnVsbCwgImZpbGwiOiB0cnVlLCAiZmlsbENvbG9yIjogIiNGN0JCMkQiLCAiZmlsbE9wYWNpdHkiOiAwLjcsICJmaWxsUnVsZSI6ICJldmVub2RkIiwgImxpbmVDYXAiOiAicm91bmQiLCAibGluZUpvaW4iOiAicm91bmQiLCAib3BhY2l0eSI6IDEuMCwgInJhZGl1cyI6IDUsICJzdHJva2UiOiB0cnVlLCAid2VpZ2h0IjogM30KICAgICAgICAgICAgKS5hZGRUbyhtYXBfZjVmZDliN2ExYmUzNDk2ZDg1MGI4ZmY0MmMyY2ExYTEpOwogICAgICAgIAogICAgCiAgICAgICAgdmFyIHBvcHVwXzM2MmZiMjM4NTdjZTQxMTdhOWM0MjQwYzgxYTg0NjRiID0gTC5wb3B1cCh7Im1heFdpZHRoIjogIjEwMCUifSk7CgogICAgICAgIAogICAgICAgICAgICB2YXIgaHRtbF9jY2ExNjBmZTM5YzU0NzAzYTU3ZGM0OGZmZjJiZmIzOCA9ICQoYDxkaXYgaWQ9Imh0bWxfY2NhMTYwZmUzOWM1NDcwM2E1N2RjNDhmZmYyYmZiMzgiIHN0eWxlPSJ3aWR0aDogMTAwLjAlOyBoZWlnaHQ6IDEwMC4wJTsiPkVhc3QgWW9yaywgTTRKIChFYXN0IFRvcm9udG8pPC9kaXY+YClbMF07CiAgICAgICAgICAgIHBvcHVwXzM2MmZiMjM4NTdjZTQxMTdhOWM0MjQwYzgxYTg0NjRiLnNldENvbnRlbnQoaHRtbF9jY2ExNjBmZTM5YzU0NzAzYTU3ZGM0OGZmZjJiZmIzOCk7CiAgICAgICAgCgogICAgICAgIGNpcmNsZV9tYXJrZXJfOWQ1YTE4MWQyYzZlNDQwZjkwNjFmNDQyZjlmNzEyODIuYmluZFBvcHVwKHBvcHVwXzM2MmZiMjM4NTdjZTQxMTdhOWM0MjQwYzgxYTg0NjRiKQogICAgICAgIDsKCiAgICAgICAgCiAgICAKICAgIAogICAgICAgICAgICB2YXIgY2lyY2xlX21hcmtlcl8xOTk5MmI2MWEwZTQ0YWU3ODViMTFkNTgzMWY1YzI3MSA9IEwuY2lyY2xlTWFya2VyKAogICAgICAgICAgICAgICAgWzQzLjY4LCAtNzkuMzZdLAogICAgICAgICAgICAgICAgeyJidWJibGluZ01vdXNlRXZlbnRzIjogdHJ1ZSwgImNvbG9yIjogIiNFOTc5MDAiLCAiZGFzaEFycmF5IjogbnVsbCwgImRhc2hPZmZzZXQiOiBudWxsLCAiZmlsbCI6IHRydWUsICJmaWxsQ29sb3IiOiAiI0Y3QkIyRCIsICJmaWxsT3BhY2l0eSI6IDAuNywgImZpbGxSdWxlIjogImV2ZW5vZGQiLCAibGluZUNhcCI6ICJyb3VuZCIsICJsaW5lSm9pbiI6ICJyb3VuZCIsICJvcGFjaXR5IjogMS4wLCAicmFkaXVzIjogNSwgInN0cm9rZSI6IHRydWUsICJ3ZWlnaHQiOiAzfQogICAgICAgICAgICApLmFkZFRvKG1hcF9mNWZkOWI3YTFiZTM0OTZkODUwYjhmZjQyYzJjYTFhMSk7CiAgICAgICAgCiAgICAKICAgICAgICB2YXIgcG9wdXBfOWEwMjcxMTM5NDA1NDJmMzlhOGQ2NDZhMDQzYWEwOGQgPSBMLnBvcHVwKHsibWF4V2lkdGgiOiAiMTAwJSJ9KTsKCiAgICAgICAgCiAgICAgICAgICAgIHZhciBodG1sXzJiOGJhM2M2MDQ1ZTQ0MmQ5YWVkOTlmODI1NjExZjEwID0gJChgPGRpdiBpZD0iaHRtbF8yYjhiYTNjNjA0NWU0NDJkOWFlZDk5ZjgyNTYxMWYxMCIgc3R5bGU9IndpZHRoOiAxMDAuMCU7IGhlaWdodDogMTAwLjAlOyI+RWFzdCBUb3JvbnRvLCBNNEsgKFRoZSBEYW5mb3J0aCBXZXN0LCBSaXZlcmRhbGUpPC9kaXY+YClbMF07CiAgICAgICAgICAgIHBvcHVwXzlhMDI3MTEzOTQwNTQyZjM5YThkNjQ2YTA0M2FhMDhkLnNldENvbnRlbnQoaHRtbF8yYjhiYTNjNjA0NWU0NDJkOWFlZDk5ZjgyNTYxMWYxMCk7CiAgICAgICAgCgogICAgICAgIGNpcmNsZV9tYXJrZXJfMTk5OTJiNjFhMGU0NGFlNzg1YjExZDU4MzFmNWMyNzEuYmluZFBvcHVwKHBvcHVwXzlhMDI3MTEzOTQwNTQyZjM5YThkNjQ2YTA0M2FhMDhkKQogICAgICAgIDsKCiAgICAgICAgCiAgICAKICAgIAogICAgICAgICAgICB2YXIgY2lyY2xlX21hcmtlcl8yYzVkN2NiZDM1NTU0NjQ2ODBjYzk4YzkwOWEzZmM1NiA9IEwuY2lyY2xlTWFya2VyKAogICAgICAgICAgICAgICAgWzQzLjY2MzMyMywgLTc5LjMyMTAwNV0sCiAgICAgICAgICAgICAgICB7ImJ1YmJsaW5nTW91c2VFdmVudHMiOiB0cnVlLCAiY29sb3IiOiAiI0U5NzkwMCIsICJkYXNoQXJyYXkiOiBudWxsLCAiZGFzaE9mZnNldCI6IG51bGwsICJmaWxsIjogdHJ1ZSwgImZpbGxDb2xvciI6ICIjRjdCQjJEIiwgImZpbGxPcGFjaXR5IjogMC43LCAiZmlsbFJ1bGUiOiAiZXZlbm9kZCIsICJsaW5lQ2FwIjogInJvdW5kIiwgImxpbmVKb2luIjogInJvdW5kIiwgIm9wYWNpdHkiOiAxLjAsICJyYWRpdXMiOiA1LCAic3Ryb2tlIjogdHJ1ZSwgIndlaWdodCI6IDN9CiAgICAgICAgICAgICkuYWRkVG8obWFwX2Y1ZmQ5YjdhMWJlMzQ5NmQ4NTBiOGZmNDJjMmNhMWExKTsKICAgICAgICAKICAgIAogICAgICAgIHZhciBwb3B1cF9iZTc1OTVjZDU4ZWQ0NTI4YTZjNjQyNWY3Yjg0ZjkwYSA9IEwucG9wdXAoeyJtYXhXaWR0aCI6ICIxMDAlIn0pOwoKICAgICAgICAKICAgICAgICAgICAgdmFyIGh0bWxfNmUxZWVhZTY2OGVjNGQ4MWJhYWY3ZDBiN2QwMzJmYjkgPSAkKGA8ZGl2IGlkPSJodG1sXzZlMWVlYWU2NjhlYzRkODFiYWFmN2QwYjdkMDMyZmI5IiBzdHlsZT0id2lkdGg6IDEwMC4wJTsgaGVpZ2h0OiAxMDAuMCU7Ij5FYXN0IFRvcm9udG8sIE00TCAoVGhlIEJlYWNoZXMgV2VzdCwgSW5kaWEgQmF6YWFyKTwvZGl2PmApWzBdOwogICAgICAgICAgICBwb3B1cF9iZTc1OTVjZDU4ZWQ0NTI4YTZjNjQyNWY3Yjg0ZjkwYS5zZXRDb250ZW50KGh0bWxfNmUxZWVhZTY2OGVjNGQ4MWJhYWY3ZDBiN2QwMzJmYjkpOwogICAgICAgIAoKICAgICAgICBjaXJjbGVfbWFya2VyXzJjNWQ3Y2JkMzU1NTQ2NDY4MGNjOThjOTA5YTNmYzU2LmJpbmRQb3B1cChwb3B1cF9iZTc1OTVjZDU4ZWQ0NTI4YTZjNjQyNWY3Yjg0ZjkwYSkKICAgICAgICA7CgogICAgICAgIAogICAgCiAgICAKICAgICAgICAgICAgdmFyIGNpcmNsZV9tYXJrZXJfOTNjZWFiZmFhNjljNGQ2YWJiMDgwMDhlNjRkZDMxNTUgPSBMLmNpcmNsZU1hcmtlcigKICAgICAgICAgICAgICAgIFs0My42NiwgLTc5LjM1XSwKICAgICAgICAgICAgICAgIHsiYnViYmxpbmdNb3VzZUV2ZW50cyI6IHRydWUsICJjb2xvciI6ICIjRTk3OTAwIiwgImRhc2hBcnJheSI6IG51bGwsICJkYXNoT2Zmc2V0IjogbnVsbCwgImZpbGwiOiB0cnVlLCAiZmlsbENvbG9yIjogIiNGN0JCMkQiLCAiZmlsbE9wYWNpdHkiOiAwLjcsICJmaWxsUnVsZSI6ICJldmVub2RkIiwgImxpbmVDYXAiOiAicm91bmQiLCAibGluZUpvaW4iOiAicm91bmQiLCAib3BhY2l0eSI6IDEuMCwgInJhZGl1cyI6IDUsICJzdHJva2UiOiB0cnVlLCAid2VpZ2h0IjogM30KICAgICAgICAgICAgKS5hZGRUbyhtYXBfZjVmZDliN2ExYmUzNDk2ZDg1MGI4ZmY0MmMyY2ExYTEpOwogICAgICAgIAogICAgCiAgICAgICAgdmFyIHBvcHVwX2I4NTNlZDYzODA2MjRmNGFiMDEyNWJiZDY0NTNiZGQ3ID0gTC5wb3B1cCh7Im1heFdpZHRoIjogIjEwMCUifSk7CgogICAgICAgIAogICAgICAgICAgICB2YXIgaHRtbF8wY2MxODk0NDUzODQ0MjBmYTcwNGI4ZjNmZTdhNjgyNyA9ICQoYDxkaXYgaWQ9Imh0bWxfMGNjMTg5NDQ1Mzg0NDIwZmE3MDRiOGYzZmU3YTY4MjciIHN0eWxlPSJ3aWR0aDogMTAwLjAlOyBoZWlnaHQ6IDEwMC4wJTsiPkVhc3QgVG9yb250bywgTTRNIChTdHVkaW8gRGlzdHJpY3QpPC9kaXY+YClbMF07CiAgICAgICAgICAgIHBvcHVwX2I4NTNlZDYzODA2MjRmNGFiMDEyNWJiZDY0NTNiZGQ3LnNldENvbnRlbnQoaHRtbF8wY2MxODk0NDUzODQ0MjBmYTcwNGI4ZjNmZTdhNjgyNyk7CiAgICAgICAgCgogICAgICAgIGNpcmNsZV9tYXJrZXJfOTNjZWFiZmFhNjljNGQ2YWJiMDgwMDhlNjRkZDMxNTUuYmluZFBvcHVwKHBvcHVwX2I4NTNlZDYzODA2MjRmNGFiMDEyNWJiZDY0NTNiZGQ3KQogICAgICAgIDsKCiAgICAgICAgCiAgICAKICAgIAogICAgICAgICAgICB2YXIgY2lyY2xlX21hcmtlcl9jNDM4MjIzMjljMjA0Y2Q0OGFkOTQzNDMzOTM2ZThlZCA9IEwuY2lyY2xlTWFya2VyKAogICAgICAgICAgICAgICAgWzQzLjczMjUwMywgLTc5LjQwNDEwNF0sCiAgICAgICAgICAgICAgICB7ImJ1YmJsaW5nTW91c2VFdmVudHMiOiB0cnVlLCAiY29sb3IiOiAiI0U5NzkwMCIsICJkYXNoQXJyYXkiOiBudWxsLCAiZGFzaE9mZnNldCI6IG51bGwsICJmaWxsIjogdHJ1ZSwgImZpbGxDb2xvciI6ICIjRjdCQjJEIiwgImZpbGxPcGFjaXR5IjogMC43LCAiZmlsbFJ1bGUiOiAiZXZlbm9kZCIsICJsaW5lQ2FwIjogInJvdW5kIiwgImxpbmVKb2luIjogInJvdW5kIiwgIm9wYWNpdHkiOiAxLjAsICJyYWRpdXMiOiA1LCAic3Ryb2tlIjogdHJ1ZSwgIndlaWdodCI6IDN9CiAgICAgICAgICAgICkuYWRkVG8obWFwX2Y1ZmQ5YjdhMWJlMzQ5NmQ4NTBiOGZmNDJjMmNhMWExKTsKICAgICAgICAKICAgIAogICAgICAgIHZhciBwb3B1cF8yYWM2YWNiZTE2MGQ0Y2M1YTA1ODRmZWIwNTk1NThjNiA9IEwucG9wdXAoeyJtYXhXaWR0aCI6ICIxMDAlIn0pOwoKICAgICAgICAKICAgICAgICAgICAgdmFyIGh0bWxfM2JkNTMxYmFkOTk5NDNiYzgwNDY5MDc5MGRiMjE1MGIgPSAkKGA8ZGl2IGlkPSJodG1sXzNiZDUzMWJhZDk5OTQzYmM4MDQ2OTA3OTBkYjIxNTBiIiBzdHlsZT0id2lkdGg6IDEwMC4wJTsgaGVpZ2h0OiAxMDAuMCU7Ij5DZW50cmFsIFRvcm9udG8sIE00TiAoTGF3cmVuY2UgUGFyayk8L2Rpdj5gKVswXTsKICAgICAgICAgICAgcG9wdXBfMmFjNmFjYmUxNjBkNGNjNWEwNTg0ZmViMDU5NTU4YzYuc2V0Q29udGVudChodG1sXzNiZDUzMWJhZDk5OTQzYmM4MDQ2OTA3OTBkYjIxNTBiKTsKICAgICAgICAKCiAgICAgICAgY2lyY2xlX21hcmtlcl9jNDM4MjIzMjljMjA0Y2Q0OGFkOTQzNDMzOTM2ZThlZC5iaW5kUG9wdXAocG9wdXBfMmFjNmFjYmUxNjBkNGNjNWEwNTg0ZmViMDU5NTU4YzYpCiAgICAgICAgOwoKICAgICAgICAKICAgIAogICAgCiAgICAgICAgICAgIHZhciBjaXJjbGVfbWFya2VyX2I4ZjBjNTI0OTQzZDQ0ZDliMzNkYzMxNGNkZWJmMDYyID0gTC5jaXJjbGVNYXJrZXIoCiAgICAgICAgICAgICAgICBbNDMuNzEsIC03OS4zOV0sCiAgICAgICAgICAgICAgICB7ImJ1YmJsaW5nTW91c2VFdmVudHMiOiB0cnVlLCAiY29sb3IiOiAiI0U5NzkwMCIsICJkYXNoQXJyYXkiOiBudWxsLCAiZGFzaE9mZnNldCI6IG51bGwsICJmaWxsIjogdHJ1ZSwgImZpbGxDb2xvciI6ICIjRjdCQjJEIiwgImZpbGxPcGFjaXR5IjogMC43LCAiZmlsbFJ1bGUiOiAiZXZlbm9kZCIsICJsaW5lQ2FwIjogInJvdW5kIiwgImxpbmVKb2luIjogInJvdW5kIiwgIm9wYWNpdHkiOiAxLjAsICJyYWRpdXMiOiA1LCAic3Ryb2tlIjogdHJ1ZSwgIndlaWdodCI6IDN9CiAgICAgICAgICAgICkuYWRkVG8obWFwX2Y1ZmQ5YjdhMWJlMzQ5NmQ4NTBiOGZmNDJjMmNhMWExKTsKICAgICAgICAKICAgIAogICAgICAgIHZhciBwb3B1cF9jODA1OTg2NmQ3YzY0MWZjYjM5ODdiM2E0ZTk1NWFlZCA9IEwucG9wdXAoeyJtYXhXaWR0aCI6ICIxMDAlIn0pOwoKICAgICAgICAKICAgICAgICAgICAgdmFyIGh0bWxfMDYxZTE5ZjA4YTk3NGNmOGExM2RlMTAwOTg4ZWI0YTggPSAkKGA8ZGl2IGlkPSJodG1sXzA2MWUxOWYwOGE5NzRjZjhhMTNkZTEwMDk4OGViNGE4IiBzdHlsZT0id2lkdGg6IDEwMC4wJTsgaGVpZ2h0OiAxMDAuMCU7Ij5DZW50cmFsIFRvcm9udG8sIE00UCAoRGF2aXN2aWxsZSBOb3J0aCk8L2Rpdj5gKVswXTsKICAgICAgICAgICAgcG9wdXBfYzgwNTk4NjZkN2M2NDFmY2IzOTg3YjNhNGU5NTVhZWQuc2V0Q29udGVudChodG1sXzA2MWUxOWYwOGE5NzRjZjhhMTNkZTEwMDk4OGViNGE4KTsKICAgICAgICAKCiAgICAgICAgY2lyY2xlX21hcmtlcl9iOGYwYzUyNDk0M2Q0NGQ5YjMzZGMzMTRjZGViZjA2Mi5iaW5kUG9wdXAocG9wdXBfYzgwNTk4NjZkN2M2NDFmY2IzOTg3YjNhNGU5NTVhZWQpCiAgICAgICAgOwoKICAgICAgICAKICAgIAogICAgCiAgICAgICAgICAgIHZhciBjaXJjbGVfbWFya2VyX2Q1Njc2Y2I1YzQ3MzQxNmE5MWM1MTQzMTBhODk0NTYzID0gTC5jaXJjbGVNYXJrZXIoCiAgICAgICAgICAgICAgICBbNDMuNzEsIC03OS40XSwKICAgICAgICAgICAgICAgIHsiYnViYmxpbmdNb3VzZUV2ZW50cyI6IHRydWUsICJjb2xvciI6ICIjRTk3OTAwIiwgImRhc2hBcnJheSI6IG51bGwsICJkYXNoT2Zmc2V0IjogbnVsbCwgImZpbGwiOiB0cnVlLCAiZmlsbENvbG9yIjogIiNGN0JCMkQiLCAiZmlsbE9wYWNpdHkiOiAwLjcsICJmaWxsUnVsZSI6ICJldmVub2RkIiwgImxpbmVDYXAiOiAicm91bmQiLCAibGluZUpvaW4iOiAicm91bmQiLCAib3BhY2l0eSI6IDEuMCwgInJhZGl1cyI6IDUsICJzdHJva2UiOiB0cnVlLCAid2VpZ2h0IjogM30KICAgICAgICAgICAgKS5hZGRUbyhtYXBfZjVmZDliN2ExYmUzNDk2ZDg1MGI4ZmY0MmMyY2ExYTEpOwogICAgICAgIAogICAgCiAgICAgICAgdmFyIHBvcHVwXzdjNzdkZThkYWZhZDQ4ZjM5YmQ0NWMzYzJmZmMwMjM1ID0gTC5wb3B1cCh7Im1heFdpZHRoIjogIjEwMCUifSk7CgogICAgICAgIAogICAgICAgICAgICB2YXIgaHRtbF85MzM3OTBhODY1ODk0NDk4ODdjNmI4OTRhYjQ4ZjE3YSA9ICQoYDxkaXYgaWQ9Imh0bWxfOTMzNzkwYTg2NTg5NDQ5ODg3YzZiODk0YWI0OGYxN2EiIHN0eWxlPSJ3aWR0aDogMTAwLjAlOyBoZWlnaHQ6IDEwMC4wJTsiPkNlbnRyYWwgVG9yb250bywgTTRSIChOb3J0aCBUb3JvbnRvIFdlc3QpPC9kaXY+YClbMF07CiAgICAgICAgICAgIHBvcHVwXzdjNzdkZThkYWZhZDQ4ZjM5YmQ0NWMzYzJmZmMwMjM1LnNldENvbnRlbnQoaHRtbF85MzM3OTBhODY1ODk0NDk4ODdjNmI4OTRhYjQ4ZjE3YSk7CiAgICAgICAgCgogICAgICAgIGNpcmNsZV9tYXJrZXJfZDU2NzZjYjVjNDczNDE2YTkxYzUxNDMxMGE4OTQ1NjMuYmluZFBvcHVwKHBvcHVwXzdjNzdkZThkYWZhZDQ4ZjM5YmQ0NWMzYzJmZmMwMjM1KQogICAgICAgIDsKCiAgICAgICAgCiAgICAKICAgIAogICAgICAgICAgICB2YXIgY2lyY2xlX21hcmtlcl81NTEyNDZmYzI5Njg0ZTYwOWU3MWRkMGU5OTI0Mzg2OCA9IEwuY2lyY2xlTWFya2VyKAogICAgICAgICAgICAgICAgWzQzLjcsIC03OS4zOV0sCiAgICAgICAgICAgICAgICB7ImJ1YmJsaW5nTW91c2VFdmVudHMiOiB0cnVlLCAiY29sb3IiOiAiI0U5NzkwMCIsICJkYXNoQXJyYXkiOiBudWxsLCAiZGFzaE9mZnNldCI6IG51bGwsICJmaWxsIjogdHJ1ZSwgImZpbGxDb2xvciI6ICIjRjdCQjJEIiwgImZpbGxPcGFjaXR5IjogMC43LCAiZmlsbFJ1bGUiOiAiZXZlbm9kZCIsICJsaW5lQ2FwIjogInJvdW5kIiwgImxpbmVKb2luIjogInJvdW5kIiwgIm9wYWNpdHkiOiAxLjAsICJyYWRpdXMiOiA1LCAic3Ryb2tlIjogdHJ1ZSwgIndlaWdodCI6IDN9CiAgICAgICAgICAgICkuYWRkVG8obWFwX2Y1ZmQ5YjdhMWJlMzQ5NmQ4NTBiOGZmNDJjMmNhMWExKTsKICAgICAgICAKICAgIAogICAgICAgIHZhciBwb3B1cF84N2RlYjEyZmI0NGE0ZjFmOTNmZGFiNjU3OTYwODRiNCA9IEwucG9wdXAoeyJtYXhXaWR0aCI6ICIxMDAlIn0pOwoKICAgICAgICAKICAgICAgICAgICAgdmFyIGh0bWxfYmM2MjNjZWEwNjUwNGZlMDhiMzY3MDc4YWExMDE4MDcgPSAkKGA8ZGl2IGlkPSJodG1sX2JjNjIzY2VhMDY1MDRmZTA4YjM2NzA3OGFhMTAxODA3IiBzdHlsZT0id2lkdGg6IDEwMC4wJTsgaGVpZ2h0OiAxMDAuMCU7Ij5DZW50cmFsIFRvcm9udG8sIE00UyAoRGF2aXN2aWxsZSk8L2Rpdj5gKVswXTsKICAgICAgICAgICAgcG9wdXBfODdkZWIxMmZiNDRhNGYxZjkzZmRhYjY1Nzk2MDg0YjQuc2V0Q29udGVudChodG1sX2JjNjIzY2VhMDY1MDRmZTA4YjM2NzA3OGFhMTAxODA3KTsKICAgICAgICAKCiAgICAgICAgY2lyY2xlX21hcmtlcl81NTEyNDZmYzI5Njg0ZTYwOWU3MWRkMGU5OTI0Mzg2OC5iaW5kUG9wdXAocG9wdXBfODdkZWIxMmZiNDRhNGYxZjkzZmRhYjY1Nzk2MDg0YjQpCiAgICAgICAgOwoKICAgICAgICAKICAgIAogICAgCiAgICAgICAgICAgIHZhciBjaXJjbGVfbWFya2VyXzY1NThlYzZhNmM3MDQyNDI5ZjJhMGI0YjQxYjk1NzNmID0gTC5jaXJjbGVNYXJrZXIoCiAgICAgICAgICAgICAgICBbNDMuNjksIC03OS4zOV0sCiAgICAgICAgICAgICAgICB7ImJ1YmJsaW5nTW91c2VFdmVudHMiOiB0cnVlLCAiY29sb3IiOiAiI0U5NzkwMCIsICJkYXNoQXJyYXkiOiBudWxsLCAiZGFzaE9mZnNldCI6IG51bGwsICJmaWxsIjogdHJ1ZSwgImZpbGxDb2xvciI6ICIjRjdCQjJEIiwgImZpbGxPcGFjaXR5IjogMC43LCAiZmlsbFJ1bGUiOiAiZXZlbm9kZCIsICJsaW5lQ2FwIjogInJvdW5kIiwgImxpbmVKb2luIjogInJvdW5kIiwgIm9wYWNpdHkiOiAxLjAsICJyYWRpdXMiOiA1LCAic3Ryb2tlIjogdHJ1ZSwgIndlaWdodCI6IDN9CiAgICAgICAgICAgICkuYWRkVG8obWFwX2Y1ZmQ5YjdhMWJlMzQ5NmQ4NTBiOGZmNDJjMmNhMWExKTsKICAgICAgICAKICAgIAogICAgICAgIHZhciBwb3B1cF85N2FmNDAyZTNkYWI0ZDQ1ODllNDVhZmMzZDI1NTNjOSA9IEwucG9wdXAoeyJtYXhXaWR0aCI6ICIxMDAlIn0pOwoKICAgICAgICAKICAgICAgICAgICAgdmFyIGh0bWxfOTBhZmEzODM5Y2ZjNDFjMTkyZjMwNmJhOTQ1NWIwNmEgPSAkKGA8ZGl2IGlkPSJodG1sXzkwYWZhMzgzOWNmYzQxYzE5MmYzMDZiYTk0NTViMDZhIiBzdHlsZT0id2lkdGg6IDEwMC4wJTsgaGVpZ2h0OiAxMDAuMCU7Ij5DZW50cmFsIFRvcm9udG8sIE00VCAoTW9vcmUgUGFyaywgU3VtbWVyaGlsbCBFYXN0KTwvZGl2PmApWzBdOwogICAgICAgICAgICBwb3B1cF85N2FmNDAyZTNkYWI0ZDQ1ODllNDVhZmMzZDI1NTNjOS5zZXRDb250ZW50KGh0bWxfOTBhZmEzODM5Y2ZjNDFjMTkyZjMwNmJhOTQ1NWIwNmEpOwogICAgICAgIAoKICAgICAgICBjaXJjbGVfbWFya2VyXzY1NThlYzZhNmM3MDQyNDI5ZjJhMGI0YjQxYjk1NzNmLmJpbmRQb3B1cChwb3B1cF85N2FmNDAyZTNkYWI0ZDQ1ODllNDVhZmMzZDI1NTNjOSkKICAgICAgICA7CgogICAgICAgIAogICAgCiAgICAKICAgICAgICAgICAgdmFyIGNpcmNsZV9tYXJrZXJfMGE2OTQxMTdmNzk4NDg0M2E5ZjI3YmFjNWQ4ZjUwMTcgPSBMLmNpcmNsZU1hcmtlcigKICAgICAgICAgICAgICAgIFs0My42OSwgLTc5LjRdLAogICAgICAgICAgICAgICAgeyJidWJibGluZ01vdXNlRXZlbnRzIjogdHJ1ZSwgImNvbG9yIjogIiNFOTc5MDAiLCAiZGFzaEFycmF5IjogbnVsbCwgImRhc2hPZmZzZXQiOiBudWxsLCAiZmlsbCI6IHRydWUsICJmaWxsQ29sb3IiOiAiI0Y3QkIyRCIsICJmaWxsT3BhY2l0eSI6IDAuNywgImZpbGxSdWxlIjogImV2ZW5vZGQiLCAibGluZUNhcCI6ICJyb3VuZCIsICJsaW5lSm9pbiI6ICJyb3VuZCIsICJvcGFjaXR5IjogMS4wLCAicmFkaXVzIjogNSwgInN0cm9rZSI6IHRydWUsICJ3ZWlnaHQiOiAzfQogICAgICAgICAgICApLmFkZFRvKG1hcF9mNWZkOWI3YTFiZTM0OTZkODUwYjhmZjQyYzJjYTFhMSk7CiAgICAgICAgCiAgICAKICAgICAgICB2YXIgcG9wdXBfNWQ3ZmU3MGE0NzhjNDFiYzk1YzU4ZmQyNzA5ODQxNGIgPSBMLnBvcHVwKHsibWF4V2lkdGgiOiAiMTAwJSJ9KTsKCiAgICAgICAgCiAgICAgICAgICAgIHZhciBodG1sXzBkMGVlMmJhMGRhMzQwMzBiNjI1YzM4MDcwOWFkYTlkID0gJChgPGRpdiBpZD0iaHRtbF8wZDBlZTJiYTBkYTM0MDMwYjYyNWMzODA3MDlhZGE5ZCIgc3R5bGU9IndpZHRoOiAxMDAuMCU7IGhlaWdodDogMTAwLjAlOyI+Q2VudHJhbCBUb3JvbnRvLCBNNFYgKERlZXIgUGFyaywgRm9yZXN0IEhpbGwgU0UsIFJhdGhuZWxseSwgU291dGggSGlsbCwgU3VtbWVyaGlsbCBXZXN0KTwvZGl2PmApWzBdOwogICAgICAgICAgICBwb3B1cF81ZDdmZTcwYTQ3OGM0MWJjOTVjNThmZDI3MDk4NDE0Yi5zZXRDb250ZW50KGh0bWxfMGQwZWUyYmEwZGEzNDAzMGI2MjVjMzgwNzA5YWRhOWQpOwogICAgICAgIAoKICAgICAgICBjaXJjbGVfbWFya2VyXzBhNjk0MTE3Zjc5ODQ4NDNhOWYyN2JhYzVkOGY1MDE3LmJpbmRQb3B1cChwb3B1cF81ZDdmZTcwYTQ3OGM0MWJjOTVjNThmZDI3MDk4NDE0YikKICAgICAgICA7CgogICAgICAgIAogICAgCiAgICAKICAgICAgICAgICAgdmFyIGNpcmNsZV9tYXJrZXJfN2VkMzE5ZGFiYTFlNDUyZDkzNmViODhiNzJhMzk2OWYgPSBMLmNpcmNsZU1hcmtlcigKICAgICAgICAgICAgICAgIFs0My43MywgLTc5LjQzXSwKICAgICAgICAgICAgICAgIHsiYnViYmxpbmdNb3VzZUV2ZW50cyI6IHRydWUsICJjb2xvciI6ICIjRTk3OTAwIiwgImRhc2hBcnJheSI6IG51bGwsICJkYXNoT2Zmc2V0IjogbnVsbCwgImZpbGwiOiB0cnVlLCAiZmlsbENvbG9yIjogIiNGN0JCMkQiLCAiZmlsbE9wYWNpdHkiOiAwLjcsICJmaWxsUnVsZSI6ICJldmVub2RkIiwgImxpbmVDYXAiOiAicm91bmQiLCAibGluZUpvaW4iOiAicm91bmQiLCAib3BhY2l0eSI6IDEuMCwgInJhZGl1cyI6IDUsICJzdHJva2UiOiB0cnVlLCAid2VpZ2h0IjogM30KICAgICAgICAgICAgKS5hZGRUbyhtYXBfZjVmZDliN2ExYmUzNDk2ZDg1MGI4ZmY0MmMyY2ExYTEpOwogICAgICAgIAogICAgCiAgICAgICAgdmFyIHBvcHVwXzVlMGU2YzRhYjc0YTQwYzA5OTBmYjg2YTliNTAxYmU4ID0gTC5wb3B1cCh7Im1heFdpZHRoIjogIjEwMCUifSk7CgogICAgICAgIAogICAgICAgICAgICB2YXIgaHRtbF83N2U0NDBiODY1MDk0NmU3Yjc3N2Y4ZDdkN2Y2ZWZmNCA9ICQoYDxkaXYgaWQ9Imh0bWxfNzdlNDQwYjg2NTA5NDZlN2I3NzdmOGQ3ZDdmNmVmZjQiIHN0eWxlPSJ3aWR0aDogMTAwLjAlOyBoZWlnaHQ6IDEwMC4wJTsiPk5vcnRoIFlvcmssIE01TSAoQmVkZm9yZCBQYXJrLCBMYXdyZW5jZSBNYW5vciBFYXN0KTwvZGl2PmApWzBdOwogICAgICAgICAgICBwb3B1cF81ZTBlNmM0YWI3NGE0MGMwOTkwZmI4NmE5YjUwMWJlOC5zZXRDb250ZW50KGh0bWxfNzdlNDQwYjg2NTA5NDZlN2I3NzdmOGQ3ZDdmNmVmZjQpOwogICAgICAgIAoKICAgICAgICBjaXJjbGVfbWFya2VyXzdlZDMxOWRhYmExZTQ1MmQ5MzZlYjg4YjcyYTM5NjlmLmJpbmRQb3B1cChwb3B1cF81ZTBlNmM0YWI3NGE0MGMwOTkwZmI4NmE5YjUwMWJlOCkKICAgICAgICA7CgogICAgICAgIAogICAgCiAgICAKICAgICAgICAgICAgdmFyIGNpcmNsZV9tYXJrZXJfMGVjYWUzNTJkZGM5NDA5NTk1OTdiMGY1MDY5ZjdhMWQgPSBMLmNpcmNsZU1hcmtlcigKICAgICAgICAgICAgICAgIFs0My43MSwgLTc5LjQyXSwKICAgICAgICAgICAgICAgIHsiYnViYmxpbmdNb3VzZUV2ZW50cyI6IHRydWUsICJjb2xvciI6ICIjRTk3OTAwIiwgImRhc2hBcnJheSI6IG51bGwsICJkYXNoT2Zmc2V0IjogbnVsbCwgImZpbGwiOiB0cnVlLCAiZmlsbENvbG9yIjogIiNGN0JCMkQiLCAiZmlsbE9wYWNpdHkiOiAwLjcsICJmaWxsUnVsZSI6ICJldmVub2RkIiwgImxpbmVDYXAiOiAicm91bmQiLCAibGluZUpvaW4iOiAicm91bmQiLCAib3BhY2l0eSI6IDEuMCwgInJhZGl1cyI6IDUsICJzdHJva2UiOiB0cnVlLCAid2VpZ2h0IjogM30KICAgICAgICAgICAgKS5hZGRUbyhtYXBfZjVmZDliN2ExYmUzNDk2ZDg1MGI4ZmY0MmMyY2ExYTEpOwogICAgICAgIAogICAgCiAgICAgICAgdmFyIHBvcHVwXzM4MmM4MzE5NjY1ZjRjNzFhZTJmMGM3OGU2MzczZjUxID0gTC5wb3B1cCh7Im1heFdpZHRoIjogIjEwMCUifSk7CgogICAgICAgIAogICAgICAgICAgICB2YXIgaHRtbF80MWE4MjVhNjg3OWI0YzlmOWFkZWRhZDMxNWMyNWViYyA9ICQoYDxkaXYgaWQ9Imh0bWxfNDFhODI1YTY4NzliNGM5ZjlhZGVkYWQzMTVjMjVlYmMiIHN0eWxlPSJ3aWR0aDogMTAwLjAlOyBoZWlnaHQ6IDEwMC4wJTsiPkNlbnRyYWwgVG9yb250bywgTTVOIChSb3NlbGF3bik8L2Rpdj5gKVswXTsKICAgICAgICAgICAgcG9wdXBfMzgyYzgzMTk2NjVmNGM3MWFlMmYwYzc4ZTYzNzNmNTEuc2V0Q29udGVudChodG1sXzQxYTgyNWE2ODc5YjRjOWY5YWRlZGFkMzE1YzI1ZWJjKTsKICAgICAgICAKCiAgICAgICAgY2lyY2xlX21hcmtlcl8wZWNhZTM1MmRkYzk0MDk1OTU5N2IwZjUwNjlmN2ExZC5iaW5kUG9wdXAocG9wdXBfMzgyYzgzMTk2NjVmNGM3MWFlMmYwYzc4ZTYzNzNmNTEpCiAgICAgICAgOwoKICAgICAgICAKICAgIAogICAgCiAgICAgICAgICAgIHZhciBjaXJjbGVfbWFya2VyX2Y1YzU2YTQwYzZkYzRhMTNiMGM0YTdkOTQ5NWYxNGI0ID0gTC5jaXJjbGVNYXJrZXIoCiAgICAgICAgICAgICAgICBbNDMuNywgLTc5LjRdLAogICAgICAgICAgICAgICAgeyJidWJibGluZ01vdXNlRXZlbnRzIjogdHJ1ZSwgImNvbG9yIjogIiNFOTc5MDAiLCAiZGFzaEFycmF5IjogbnVsbCwgImRhc2hPZmZzZXQiOiBudWxsLCAiZmlsbCI6IHRydWUsICJmaWxsQ29sb3IiOiAiI0Y3QkIyRCIsICJmaWxsT3BhY2l0eSI6IDAuNywgImZpbGxSdWxlIjogImV2ZW5vZGQiLCAibGluZUNhcCI6ICJyb3VuZCIsICJsaW5lSm9pbiI6ICJyb3VuZCIsICJvcGFjaXR5IjogMS4wLCAicmFkaXVzIjogNSwgInN0cm9rZSI6IHRydWUsICJ3ZWlnaHQiOiAzfQogICAgICAgICAgICApLmFkZFRvKG1hcF9mNWZkOWI3YTFiZTM0OTZkODUwYjhmZjQyYzJjYTFhMSk7CiAgICAgICAgCiAgICAKICAgICAgICB2YXIgcG9wdXBfZjdkOGE1NWZiNGNlNDI2YWFiMTU3NDdlY2JkZDYzMjMgPSBMLnBvcHVwKHsibWF4V2lkdGgiOiAiMTAwJSJ9KTsKCiAgICAgICAgCiAgICAgICAgICAgIHZhciBodG1sXzViNjIwNDRlZmY1NDRkZTU5OTgwYmNjZTQ1MjhlMDk2ID0gJChgPGRpdiBpZD0iaHRtbF81YjYyMDQ0ZWZmNTQ0ZGU1OTk4MGJjY2U0NTI4ZTA5NiIgc3R5bGU9IndpZHRoOiAxMDAuMCU7IGhlaWdodDogMTAwLjAlOyI+Q2VudHJhbCBUb3JvbnRvLCBNNVAgKEZvcmVzdCBIaWxsIE5vcnRoLCBGb3Jlc3QgSGlsbCBXZXN0KTwvZGl2PmApWzBdOwogICAgICAgICAgICBwb3B1cF9mN2Q4YTU1ZmI0Y2U0MjZhYWIxNTc0N2VjYmRkNjMyMy5zZXRDb250ZW50KGh0bWxfNWI2MjA0NGVmZjU0NGRlNTk5ODBiY2NlNDUyOGUwOTYpOwogICAgICAgIAoKICAgICAgICBjaXJjbGVfbWFya2VyX2Y1YzU2YTQwYzZkYzRhMTNiMGM0YTdkOTQ5NWYxNGI0LmJpbmRQb3B1cChwb3B1cF9mN2Q4YTU1ZmI0Y2U0MjZhYWIxNTc0N2VjYmRkNjMyMykKICAgICAgICA7CgogICAgICAgIAogICAgCiAgICAKICAgICAgICAgICAgdmFyIGNpcmNsZV9tYXJrZXJfMDI3YWY5ZmM0NGNkNDBmMWIzYWE5ZmMyZmY1NDI1ZjkgPSBMLmNpcmNsZU1hcmtlcigKICAgICAgICAgICAgICAgIFs0My42NywgLTc5LjM5XSwKICAgICAgICAgICAgICAgIHsiYnViYmxpbmdNb3VzZUV2ZW50cyI6IHRydWUsICJjb2xvciI6ICIjRTk3OTAwIiwgImRhc2hBcnJheSI6IG51bGwsICJkYXNoT2Zmc2V0IjogbnVsbCwgImZpbGwiOiB0cnVlLCAiZmlsbENvbG9yIjogIiNGN0JCMkQiLCAiZmlsbE9wYWNpdHkiOiAwLjcsICJmaWxsUnVsZSI6ICJldmVub2RkIiwgImxpbmVDYXAiOiAicm91bmQiLCAibGluZUpvaW4iOiAicm91bmQiLCAib3BhY2l0eSI6IDEuMCwgInJhZGl1cyI6IDUsICJzdHJva2UiOiB0cnVlLCAid2VpZ2h0IjogM30KICAgICAgICAgICAgKS5hZGRUbyhtYXBfZjVmZDliN2ExYmUzNDk2ZDg1MGI4ZmY0MmMyY2ExYTEpOwogICAgICAgIAogICAgCiAgICAgICAgdmFyIHBvcHVwXzBiY2VlNmJhZjk5ODQ2MGE4NWU2NDJkY2UyZDAyYmNjID0gTC5wb3B1cCh7Im1heFdpZHRoIjogIjEwMCUifSk7CgogICAgICAgIAogICAgICAgICAgICB2YXIgaHRtbF9hNTk4NTFlMjQ0ZDg0MDY3YjJmYWZhNTM2MThmNmVlMSA9ICQoYDxkaXYgaWQ9Imh0bWxfYTU5ODUxZTI0NGQ4NDA2N2IyZmFmYTUzNjE4ZjZlZTEiIHN0eWxlPSJ3aWR0aDogMTAwLjAlOyBoZWlnaHQ6IDEwMC4wJTsiPkNlbnRyYWwgVG9yb250bywgTTVSIChUaGUgQW5uZXgsIE5vcnRoIE1pZHRvd24sIFlvcmt2aWxsZSk8L2Rpdj5gKVswXTsKICAgICAgICAgICAgcG9wdXBfMGJjZWU2YmFmOTk4NDYwYTg1ZTY0MmRjZTJkMDJiY2Muc2V0Q29udGVudChodG1sX2E1OTg1MWUyNDRkODQwNjdiMmZhZmE1MzYxOGY2ZWUxKTsKICAgICAgICAKCiAgICAgICAgY2lyY2xlX21hcmtlcl8wMjdhZjlmYzQ0Y2Q0MGYxYjNhYTlmYzJmZjU0MjVmOS5iaW5kUG9wdXAocG9wdXBfMGJjZWU2YmFmOTk4NDYwYTg1ZTY0MmRjZTJkMDJiY2MpCiAgICAgICAgOwoKICAgICAgICAKICAgIAogICAgCiAgICAgICAgICAgIHZhciBjaXJjbGVfbWFya2VyX2QxNzY2YTE1MjNkZTQ0NzI4ZGNmZDA0MWEwZjEwZjk4ID0gTC5jaXJjbGVNYXJrZXIoCiAgICAgICAgICAgICAgICBbNDMuNzI1Nzc3LCAtNzkuNDQ5Nzc3XSwKICAgICAgICAgICAgICAgIHsiYnViYmxpbmdNb3VzZUV2ZW50cyI6IHRydWUsICJjb2xvciI6ICIjRTk3OTAwIiwgImRhc2hBcnJheSI6IG51bGwsICJkYXNoT2Zmc2V0IjogbnVsbCwgImZpbGwiOiB0cnVlLCAiZmlsbENvbG9yIjogIiNGN0JCMkQiLCAiZmlsbE9wYWNpdHkiOiAwLjcsICJmaWxsUnVsZSI6ICJldmVub2RkIiwgImxpbmVDYXAiOiAicm91bmQiLCAibGluZUpvaW4iOiAicm91bmQiLCAib3BhY2l0eSI6IDEuMCwgInJhZGl1cyI6IDUsICJzdHJva2UiOiB0cnVlLCAid2VpZ2h0IjogM30KICAgICAgICAgICAgKS5hZGRUbyhtYXBfZjVmZDliN2ExYmUzNDk2ZDg1MGI4ZmY0MmMyY2ExYTEpOwogICAgICAgIAogICAgCiAgICAgICAgdmFyIHBvcHVwXzRlMTk0Yjk4NDdjMjRjODM4NGRmMTYyMGFlMzMwZDAxID0gTC5wb3B1cCh7Im1heFdpZHRoIjogIjEwMCUifSk7CgogICAgICAgIAogICAgICAgICAgICB2YXIgaHRtbF80NDY4NTIwNGU2MTU0YzEzOWQ3YWM4MGM1ZTc3NzBkOSA9ICQoYDxkaXYgaWQ9Imh0bWxfNDQ2ODUyMDRlNjE1NGMxMzlkN2FjODBjNWU3NzcwZDkiIHN0eWxlPSJ3aWR0aDogMTAwLjAlOyBoZWlnaHQ6IDEwMC4wJTsiPk5vcnRoIFlvcmssIE02QSAoTGF3cmVuY2UgSGVpZ2h0cywgTGF3cmVuY2UgTWFub3IpPC9kaXY+YClbMF07CiAgICAgICAgICAgIHBvcHVwXzRlMTk0Yjk4NDdjMjRjODM4NGRmMTYyMGFlMzMwZDAxLnNldENvbnRlbnQoaHRtbF80NDY4NTIwNGU2MTU0YzEzOWQ3YWM4MGM1ZTc3NzBkOSk7CiAgICAgICAgCgogICAgICAgIGNpcmNsZV9tYXJrZXJfZDE3NjZhMTUyM2RlNDQ3MjhkY2ZkMDQxYTBmMTBmOTguYmluZFBvcHVwKHBvcHVwXzRlMTk0Yjk4NDdjMjRjODM4NGRmMTYyMGFlMzMwZDAxKQogICAgICAgIDsKCiAgICAgICAgCiAgICAKICAgIAogICAgICAgICAgICB2YXIgY2lyY2xlX21hcmtlcl9hMTMyYmJmZTU4NjU0ZDdiOWM5OTg2OTg5ZDYxN2Y3ZSA9IEwuY2lyY2xlTWFya2VyKAogICAgICAgICAgICAgICAgWzQzLjcsIC03OS40NV0sCiAgICAgICAgICAgICAgICB7ImJ1YmJsaW5nTW91c2VFdmVudHMiOiB0cnVlLCAiY29sb3IiOiAiI0U5NzkwMCIsICJkYXNoQXJyYXkiOiBudWxsLCAiZGFzaE9mZnNldCI6IG51bGwsICJmaWxsIjogdHJ1ZSwgImZpbGxDb2xvciI6ICIjRjdCQjJEIiwgImZpbGxPcGFjaXR5IjogMC43LCAiZmlsbFJ1bGUiOiAiZXZlbm9kZCIsICJsaW5lQ2FwIjogInJvdW5kIiwgImxpbmVKb2luIjogInJvdW5kIiwgIm9wYWNpdHkiOiAxLjAsICJyYWRpdXMiOiA1LCAic3Ryb2tlIjogdHJ1ZSwgIndlaWdodCI6IDN9CiAgICAgICAgICAgICkuYWRkVG8obWFwX2Y1ZmQ5YjdhMWJlMzQ5NmQ4NTBiOGZmNDJjMmNhMWExKTsKICAgICAgICAKICAgIAogICAgICAgIHZhciBwb3B1cF81ZGY2NDE2ZGZlZGE0NmI3YmU2MTg1N2EzY2JkYTNhYyA9IEwucG9wdXAoeyJtYXhXaWR0aCI6ICIxMDAlIn0pOwoKICAgICAgICAKICAgICAgICAgICAgdmFyIGh0bWxfYjcyM2VlYzgzY2Y4NGQxOWI1MjIwZWI0MGMzYmY2MjIgPSAkKGA8ZGl2IGlkPSJodG1sX2I3MjNlZWM4M2NmODRkMTliNTIyMGViNDBjM2JmNjIyIiBzdHlsZT0id2lkdGg6IDEwMC4wJTsgaGVpZ2h0OiAxMDAuMCU7Ij5Ob3J0aCBZb3JrLCBNNkIgKEdsZW5jYWlybik8L2Rpdj5gKVswXTsKICAgICAgICAgICAgcG9wdXBfNWRmNjQxNmRmZWRhNDZiN2JlNjE4NTdhM2NiZGEzYWMuc2V0Q29udGVudChodG1sX2I3MjNlZWM4M2NmODRkMTliNTIyMGViNDBjM2JmNjIyKTsKICAgICAgICAKCiAgICAgICAgY2lyY2xlX21hcmtlcl9hMTMyYmJmZTU4NjU0ZDdiOWM5OTg2OTg5ZDYxN2Y3ZS5iaW5kUG9wdXAocG9wdXBfNWRmNjQxNmRmZWRhNDZiN2JlNjE4NTdhM2NiZGEzYWMpCiAgICAgICAgOwoKICAgICAgICAKICAgIAogICAgCiAgICAgICAgICAgIHZhciBjaXJjbGVfbWFya2VyX2QyOTAwMWRmNWE0OTQ4ZjA5ZGMzYjU4ODFhMDU0YjQ2ID0gTC5jaXJjbGVNYXJrZXIoCiAgICAgICAgICAgICAgICBbNDMuNywgLTc5LjQzXSwKICAgICAgICAgICAgICAgIHsiYnViYmxpbmdNb3VzZUV2ZW50cyI6IHRydWUsICJjb2xvciI6ICIjRTk3OTAwIiwgImRhc2hBcnJheSI6IG51bGwsICJkYXNoT2Zmc2V0IjogbnVsbCwgImZpbGwiOiB0cnVlLCAiZmlsbENvbG9yIjogIiNGN0JCMkQiLCAiZmlsbE9wYWNpdHkiOiAwLjcsICJmaWxsUnVsZSI6ICJldmVub2RkIiwgImxpbmVDYXAiOiAicm91bmQiLCAibGluZUpvaW4iOiAicm91bmQiLCAib3BhY2l0eSI6IDEuMCwgInJhZGl1cyI6IDUsICJzdHJva2UiOiB0cnVlLCAid2VpZ2h0IjogM30KICAgICAgICAgICAgKS5hZGRUbyhtYXBfZjVmZDliN2ExYmUzNDk2ZDg1MGI4ZmY0MmMyY2ExYTEpOwogICAgICAgIAogICAgCiAgICAgICAgdmFyIHBvcHVwX2NjZDU3NjUxMGU4OTQ5MmJiYjRhM2JkMDI0YzZlNmE1ID0gTC5wb3B1cCh7Im1heFdpZHRoIjogIjEwMCUifSk7CgogICAgICAgIAogICAgICAgICAgICB2YXIgaHRtbF9jZTcyZjRmNGFhZWU0ZGNiODRlODcxZGYwNTQ3ODExNyA9ICQoYDxkaXYgaWQ9Imh0bWxfY2U3MmY0ZjRhYWVlNGRjYjg0ZTg3MWRmMDU0NzgxMTciIHN0eWxlPSJ3aWR0aDogMTAwLjAlOyBoZWlnaHQ6IDEwMC4wJTsiPllvcmssIE02QyAoSHVtZXdvb2QtQ2VkYXJ2YWxlKTwvZGl2PmApWzBdOwogICAgICAgICAgICBwb3B1cF9jY2Q1NzY1MTBlODk0OTJiYmI0YTNiZDAyNGM2ZTZhNS5zZXRDb250ZW50KGh0bWxfY2U3MmY0ZjRhYWVlNGRjYjg0ZTg3MWRmMDU0NzgxMTcpOwogICAgICAgIAoKICAgICAgICBjaXJjbGVfbWFya2VyX2QyOTAwMWRmNWE0OTQ4ZjA5ZGMzYjU4ODFhMDU0YjQ2LmJpbmRQb3B1cChwb3B1cF9jY2Q1NzY1MTBlODk0OTJiYmI0YTNiZDAyNGM2ZTZhNSkKICAgICAgICA7CgogICAgICAgIAogICAgCiAgICAKICAgICAgICAgICAgdmFyIGNpcmNsZV9tYXJrZXJfYTE3ZjhmNDk1ZDYyNGUwMWI1ZDUyNzA3N2Y1ZmEwYzYgPSBMLmNpcmNsZU1hcmtlcigKICAgICAgICAgICAgICAgIFs0My42OTUwMTksIC03OS40NjM4OTVdLAogICAgICAgICAgICAgICAgeyJidWJibGluZ01vdXNlRXZlbnRzIjogdHJ1ZSwgImNvbG9yIjogIiNFOTc5MDAiLCAiZGFzaEFycmF5IjogbnVsbCwgImRhc2hPZmZzZXQiOiBudWxsLCAiZmlsbCI6IHRydWUsICJmaWxsQ29sb3IiOiAiI0Y3QkIyRCIsICJmaWxsT3BhY2l0eSI6IDAuNywgImZpbGxSdWxlIjogImV2ZW5vZGQiLCAibGluZUNhcCI6ICJyb3VuZCIsICJsaW5lSm9pbiI6ICJyb3VuZCIsICJvcGFjaXR5IjogMS4wLCAicmFkaXVzIjogNSwgInN0cm9rZSI6IHRydWUsICJ3ZWlnaHQiOiAzfQogICAgICAgICAgICApLmFkZFRvKG1hcF9mNWZkOWI3YTFiZTM0OTZkODUwYjhmZjQyYzJjYTFhMSk7CiAgICAgICAgCiAgICAKICAgICAgICB2YXIgcG9wdXBfNjE2NjIzMmRmNDQwNGFiYzg4YzAwNDIwOGMwNzRhYTEgPSBMLnBvcHVwKHsibWF4V2lkdGgiOiAiMTAwJSJ9KTsKCiAgICAgICAgCiAgICAgICAgICAgIHZhciBodG1sXzQ4ZGM1ZWFmNTZmYzQ1ODQ5NTM5NTBiNzFiY2QzYTVmID0gJChgPGRpdiBpZD0iaHRtbF80OGRjNWVhZjU2ZmM0NTg0OTUzOTUwYjcxYmNkM2E1ZiIgc3R5bGU9IndpZHRoOiAxMDAuMCU7IGhlaWdodDogMTAwLjAlOyI+WW9yaywgTTZFIChDYWxlZG9uaWEtRmFpcmJhbmtzKTwvZGl2PmApWzBdOwogICAgICAgICAgICBwb3B1cF82MTY2MjMyZGY0NDA0YWJjODhjMDA0MjA4YzA3NGFhMS5zZXRDb250ZW50KGh0bWxfNDhkYzVlYWY1NmZjNDU4NDk1Mzk1MGI3MWJjZDNhNWYpOwogICAgICAgIAoKICAgICAgICBjaXJjbGVfbWFya2VyX2ExN2Y4ZjQ5NWQ2MjRlMDFiNWQ1MjcwNzdmNWZhMGM2LmJpbmRQb3B1cChwb3B1cF82MTY2MjMyZGY0NDA0YWJjODhjMDA0MjA4YzA3NGFhMSkKICAgICAgICA7CgogICAgICAgIAogICAgCiAgICAKICAgICAgICAgICAgdmFyIGNpcmNsZV9tYXJrZXJfOTNiOWU4NGUwODk3NGUwOTk4YWJhMDEzYjIzOGVmZjEgPSBMLmNpcmNsZU1hcmtlcigKICAgICAgICAgICAgICAgIFs0My42NiwgLTc5LjQzXSwKICAgICAgICAgICAgICAgIHsiYnViYmxpbmdNb3VzZUV2ZW50cyI6IHRydWUsICJjb2xvciI6ICIjRTk3OTAwIiwgImRhc2hBcnJheSI6IG51bGwsICJkYXNoT2Zmc2V0IjogbnVsbCwgImZpbGwiOiB0cnVlLCAiZmlsbENvbG9yIjogIiNGN0JCMkQiLCAiZmlsbE9wYWNpdHkiOiAwLjcsICJmaWxsUnVsZSI6ICJldmVub2RkIiwgImxpbmVDYXAiOiAicm91bmQiLCAibGluZUpvaW4iOiAicm91bmQiLCAib3BhY2l0eSI6IDEuMCwgInJhZGl1cyI6IDUsICJzdHJva2UiOiB0cnVlLCAid2VpZ2h0IjogM30KICAgICAgICAgICAgKS5hZGRUbyhtYXBfZjVmZDliN2ExYmUzNDk2ZDg1MGI4ZmY0MmMyY2ExYTEpOwogICAgICAgIAogICAgCiAgICAgICAgdmFyIHBvcHVwX2E5YThkYTc4NDg0ZTQzZjBiYTkyMzk5ZjMxZDM3NTUyID0gTC5wb3B1cCh7Im1heFdpZHRoIjogIjEwMCUifSk7CgogICAgICAgIAogICAgICAgICAgICB2YXIgaHRtbF9jNTA0MmM1ZjYwYzc0NjM5OGY0ODViZDc2ZjU1ZDc0NiA9ICQoYDxkaXYgaWQ9Imh0bWxfYzUwNDJjNWY2MGM3NDYzOThmNDg1YmQ3NmY1NWQ3NDYiIHN0eWxlPSJ3aWR0aDogMTAwLjAlOyBoZWlnaHQ6IDEwMC4wJTsiPldlc3QgVG9yb250bywgTTZIIChEb3ZlcmNvdXJ0IFZpbGxhZ2UsIER1ZmZlcmluKTwvZGl2PmApWzBdOwogICAgICAgICAgICBwb3B1cF9hOWE4ZGE3ODQ4NGU0M2YwYmE5MjM5OWYzMWQzNzU1Mi5zZXRDb250ZW50KGh0bWxfYzUwNDJjNWY2MGM3NDYzOThmNDg1YmQ3NmY1NWQ3NDYpOwogICAgICAgIAoKICAgICAgICBjaXJjbGVfbWFya2VyXzkzYjllODRlMDg5NzRlMDk5OGFiYTAxM2IyMzhlZmYxLmJpbmRQb3B1cChwb3B1cF9hOWE4ZGE3ODQ4NGU0M2YwYmE5MjM5OWYzMWQzNzU1MikKICAgICAgICA7CgogICAgICAgIAogICAgCiAgICAKICAgICAgICAgICAgdmFyIGNpcmNsZV9tYXJrZXJfZTQ1M2M3MmFhOTdkNGEzY2E3ODBhZWM2ZjY4ZjFmYTYgPSBMLmNpcmNsZU1hcmtlcigKICAgICAgICAgICAgICAgIFs0My42NDMxMjEsIC03OS40MTExMDddLAogICAgICAgICAgICAgICAgeyJidWJibGluZ01vdXNlRXZlbnRzIjogdHJ1ZSwgImNvbG9yIjogIiNFOTc5MDAiLCAiZGFzaEFycmF5IjogbnVsbCwgImRhc2hPZmZzZXQiOiBudWxsLCAiZmlsbCI6IHRydWUsICJmaWxsQ29sb3IiOiAiI0Y3QkIyRCIsICJmaWxsT3BhY2l0eSI6IDAuNywgImZpbGxSdWxlIjogImV2ZW5vZGQiLCAibGluZUNhcCI6ICJyb3VuZCIsICJsaW5lSm9pbiI6ICJyb3VuZCIsICJvcGFjaXR5IjogMS4wLCAicmFkaXVzIjogNSwgInN0cm9rZSI6IHRydWUsICJ3ZWlnaHQiOiAzfQogICAgICAgICAgICApLmFkZFRvKG1hcF9mNWZkOWI3YTFiZTM0OTZkODUwYjhmZjQyYzJjYTFhMSk7CiAgICAgICAgCiAgICAKICAgICAgICB2YXIgcG9wdXBfZjczNDczMDU1MDUwNDQwNWFiNTRmOTVhYWE3MmQ1NzcgPSBMLnBvcHVwKHsibWF4V2lkdGgiOiAiMTAwJSJ9KTsKCiAgICAgICAgCiAgICAgICAgICAgIHZhciBodG1sXzM5Yjg1M2VhYjY3ZDQyYzVhOWExNTg3NmZhNTI0YWVmID0gJChgPGRpdiBpZD0iaHRtbF8zOWI4NTNlYWI2N2Q0MmM1YTlhMTU4NzZmYTUyNGFlZiIgc3R5bGU9IndpZHRoOiAxMDAuMCU7IGhlaWdodDogMTAwLjAlOyI+V2VzdCBUb3JvbnRvLCBNNkogKExpdHRsZSBQb3J0dWdhbCwgVHJpbml0eSk8L2Rpdj5gKVswXTsKICAgICAgICAgICAgcG9wdXBfZjczNDczMDU1MDUwNDQwNWFiNTRmOTVhYWE3MmQ1Nzcuc2V0Q29udGVudChodG1sXzM5Yjg1M2VhYjY3ZDQyYzVhOWExNTg3NmZhNTI0YWVmKTsKICAgICAgICAKCiAgICAgICAgY2lyY2xlX21hcmtlcl9lNDUzYzcyYWE5N2Q0YTNjYTc4MGFlYzZmNjhmMWZhNi5iaW5kUG9wdXAocG9wdXBfZjczNDczMDU1MDUwNDQwNWFiNTRmOTVhYWE3MmQ1NzcpCiAgICAgICAgOwoKICAgICAgICAKICAgIAogICAgCiAgICAgICAgICAgIHZhciBjaXJjbGVfbWFya2VyXzU0ZWVjMDVmNjYyODQ5OGViMjBiY2Q4YTIxM2NjY2MyID0gTC5jaXJjbGVNYXJrZXIoCiAgICAgICAgICAgICAgICBbNDMuNjQsIC03OS40Ml0sCiAgICAgICAgICAgICAgICB7ImJ1YmJsaW5nTW91c2VFdmVudHMiOiB0cnVlLCAiY29sb3IiOiAiI0U5NzkwMCIsICJkYXNoQXJyYXkiOiBudWxsLCAiZGFzaE9mZnNldCI6IG51bGwsICJmaWxsIjogdHJ1ZSwgImZpbGxDb2xvciI6ICIjRjdCQjJEIiwgImZpbGxPcGFjaXR5IjogMC43LCAiZmlsbFJ1bGUiOiAiZXZlbm9kZCIsICJsaW5lQ2FwIjogInJvdW5kIiwgImxpbmVKb2luIjogInJvdW5kIiwgIm9wYWNpdHkiOiAxLjAsICJyYWRpdXMiOiA1LCAic3Ryb2tlIjogdHJ1ZSwgIndlaWdodCI6IDN9CiAgICAgICAgICAgICkuYWRkVG8obWFwX2Y1ZmQ5YjdhMWJlMzQ5NmQ4NTBiOGZmNDJjMmNhMWExKTsKICAgICAgICAKICAgIAogICAgICAgIHZhciBwb3B1cF9jZjQxZDE2NThjN2I0YzBkOWM4YzVhNjI4NDczNjNiMyA9IEwucG9wdXAoeyJtYXhXaWR0aCI6ICIxMDAlIn0pOwoKICAgICAgICAKICAgICAgICAgICAgdmFyIGh0bWxfOGQ0MWM3YmE3MGE0NGEwNmEzNzc1NWM5ZDQ5YTkyZWQgPSAkKGA8ZGl2IGlkPSJodG1sXzhkNDFjN2JhNzBhNDRhMDZhMzc3NTVjOWQ0OWE5MmVkIiBzdHlsZT0id2lkdGg6IDEwMC4wJTsgaGVpZ2h0OiAxMDAuMCU7Ij5XZXN0IFRvcm9udG8sIE02SyAoQnJvY2t0b24sIEV4aGliaXRpb24gUGxhY2UsIFBhcmtkYWxlIFZpbGxhZ2UpPC9kaXY+YClbMF07CiAgICAgICAgICAgIHBvcHVwX2NmNDFkMTY1OGM3YjRjMGQ5YzhjNWE2Mjg0NzM2M2IzLnNldENvbnRlbnQoaHRtbF84ZDQxYzdiYTcwYTQ0YTA2YTM3NzU1YzlkNDlhOTJlZCk7CiAgICAgICAgCgogICAgICAgIGNpcmNsZV9tYXJrZXJfNTRlZWMwNWY2NjI4NDk4ZWIyMGJjZDhhMjEzY2NjYzIuYmluZFBvcHVwKHBvcHVwX2NmNDFkMTY1OGM3YjRjMGQ5YzhjNWE2Mjg0NzM2M2IzKQogICAgICAgIDsKCiAgICAgICAgCiAgICAKICAgIAogICAgICAgICAgICB2YXIgY2lyY2xlX21hcmtlcl9hYjgwYzgwZWI2NDY0ODE1YmU1Zjc0NzBlNTJhYzAzMiA9IEwuY2lyY2xlTWFya2VyKAogICAgICAgICAgICAgICAgWzQzLjcxLCAtNzkuNDhdLAogICAgICAgICAgICAgICAgeyJidWJibGluZ01vdXNlRXZlbnRzIjogdHJ1ZSwgImNvbG9yIjogIiNFOTc5MDAiLCAiZGFzaEFycmF5IjogbnVsbCwgImRhc2hPZmZzZXQiOiBudWxsLCAiZmlsbCI6IHRydWUsICJmaWxsQ29sb3IiOiAiI0Y3QkIyRCIsICJmaWxsT3BhY2l0eSI6IDAuNywgImZpbGxSdWxlIjogImV2ZW5vZGQiLCAibGluZUNhcCI6ICJyb3VuZCIsICJsaW5lSm9pbiI6ICJyb3VuZCIsICJvcGFjaXR5IjogMS4wLCAicmFkaXVzIjogNSwgInN0cm9rZSI6IHRydWUsICJ3ZWlnaHQiOiAzfQogICAgICAgICAgICApLmFkZFRvKG1hcF9mNWZkOWI3YTFiZTM0OTZkODUwYjhmZjQyYzJjYTFhMSk7CiAgICAgICAgCiAgICAKICAgICAgICB2YXIgcG9wdXBfNmI2NzMwN2Q0MTA3NGJhN2JjYjdkYzM4ZWQ4NjgzNmIgPSBMLnBvcHVwKHsibWF4V2lkdGgiOiAiMTAwJSJ9KTsKCiAgICAgICAgCiAgICAgICAgICAgIHZhciBodG1sXzZmNWE2NzRkODFlYTRjYjg5NzE5ZTZlMGJmMmYzZDc0ID0gJChgPGRpdiBpZD0iaHRtbF82ZjVhNjc0ZDgxZWE0Y2I4OTcxOWU2ZTBiZjJmM2Q3NCIgc3R5bGU9IndpZHRoOiAxMDAuMCU7IGhlaWdodDogMTAwLjAlOyI+Tm9ydGggWW9yaywgTTZMIChEb3duc3ZpZXcsIE5vcnRoIFBhcmssIFVwd29vZCBQYXJrKTwvZGl2PmApWzBdOwogICAgICAgICAgICBwb3B1cF82YjY3MzA3ZDQxMDc0YmE3YmNiN2RjMzhlZDg2ODM2Yi5zZXRDb250ZW50KGh0bWxfNmY1YTY3NGQ4MWVhNGNiODk3MTllNmUwYmYyZjNkNzQpOwogICAgICAgIAoKICAgICAgICBjaXJjbGVfbWFya2VyX2FiODBjODBlYjY0NjQ4MTViZTVmNzQ3MGU1MmFjMDMyLmJpbmRQb3B1cChwb3B1cF82YjY3MzA3ZDQxMDc0YmE3YmNiN2RjMzhlZDg2ODM2YikKICAgICAgICA7CgogICAgICAgIAogICAgCiAgICAKICAgICAgICAgICAgdmFyIGNpcmNsZV9tYXJrZXJfZWFiNTQzODQ4ODg5NDJlY2I4OWU1ZGFjYWVlZDY3YzkgPSBMLmNpcmNsZU1hcmtlcigKICAgICAgICAgICAgICAgIFs0My42OTE1MDIsIC03OS40OTIzNjVdLAogICAgICAgICAgICAgICAgeyJidWJibGluZ01vdXNlRXZlbnRzIjogdHJ1ZSwgImNvbG9yIjogIiNFOTc5MDAiLCAiZGFzaEFycmF5IjogbnVsbCwgImRhc2hPZmZzZXQiOiBudWxsLCAiZmlsbCI6IHRydWUsICJmaWxsQ29sb3IiOiAiI0Y3QkIyRCIsICJmaWxsT3BhY2l0eSI6IDAuNywgImZpbGxSdWxlIjogImV2ZW5vZGQiLCAibGluZUNhcCI6ICJyb3VuZCIsICJsaW5lSm9pbiI6ICJyb3VuZCIsICJvcGFjaXR5IjogMS4wLCAicmFkaXVzIjogNSwgInN0cm9rZSI6IHRydWUsICJ3ZWlnaHQiOiAzfQogICAgICAgICAgICApLmFkZFRvKG1hcF9mNWZkOWI3YTFiZTM0OTZkODUwYjhmZjQyYzJjYTFhMSk7CiAgICAgICAgCiAgICAKICAgICAgICB2YXIgcG9wdXBfMjRhZTBkZTE1MDUwNDQ2M2FmZWVjNjk4ZmQxMzA3YmIgPSBMLnBvcHVwKHsibWF4V2lkdGgiOiAiMTAwJSJ9KTsKCiAgICAgICAgCiAgICAgICAgICAgIHZhciBodG1sX2EzYzZmNDI3YmJmMTQ2OTBhZWQ0OTg0MmExZmQ2ZDI4ID0gJChgPGRpdiBpZD0iaHRtbF9hM2M2ZjQyN2JiZjE0NjkwYWVkNDk4NDJhMWZkNmQyOCIgc3R5bGU9IndpZHRoOiAxMDAuMCU7IGhlaWdodDogMTAwLjAlOyI+WW9yaywgTTZNIChEZWwgUmF5LCBLZWVsZXNkYWxlLCBNb3VudCBEZW5uaXMsIFNpbHZlcnRob3JuKTwvZGl2PmApWzBdOwogICAgICAgICAgICBwb3B1cF8yNGFlMGRlMTUwNTA0NDYzYWZlZWM2OThmZDEzMDdiYi5zZXRDb250ZW50KGh0bWxfYTNjNmY0MjdiYmYxNDY5MGFlZDQ5ODQyYTFmZDZkMjgpOwogICAgICAgIAoKICAgICAgICBjaXJjbGVfbWFya2VyX2VhYjU0Mzg0ODg4OTQyZWNiODllNWRhY2FlZWQ2N2M5LmJpbmRQb3B1cChwb3B1cF8yNGFlMGRlMTUwNTA0NDYzYWZlZWM2OThmZDEzMDdiYikKICAgICAgICA7CgogICAgICAgIAogICAgCiAgICAKICAgICAgICAgICAgdmFyIGNpcmNsZV9tYXJrZXJfMWFiM2I2N2E4OWZhNDJjNjg0M2U5ZjRhYzFiOWUzMDUgPSBMLmNpcmNsZU1hcmtlcigKICAgICAgICAgICAgICAgIFs0My42NzcwMzYsIC03OS40OTQ3NjFdLAogICAgICAgICAgICAgICAgeyJidWJibGluZ01vdXNlRXZlbnRzIjogdHJ1ZSwgImNvbG9yIjogIiNFOTc5MDAiLCAiZGFzaEFycmF5IjogbnVsbCwgImRhc2hPZmZzZXQiOiBudWxsLCAiZmlsbCI6IHRydWUsICJmaWxsQ29sb3IiOiAiI0Y3QkIyRCIsICJmaWxsT3BhY2l0eSI6IDAuNywgImZpbGxSdWxlIjogImV2ZW5vZGQiLCAibGluZUNhcCI6ICJyb3VuZCIsICJsaW5lSm9pbiI6ICJyb3VuZCIsICJvcGFjaXR5IjogMS4wLCAicmFkaXVzIjogNSwgInN0cm9rZSI6IHRydWUsICJ3ZWlnaHQiOiAzfQogICAgICAgICAgICApLmFkZFRvKG1hcF9mNWZkOWI3YTFiZTM0OTZkODUwYjhmZjQyYzJjYTFhMSk7CiAgICAgICAgCiAgICAKICAgICAgICB2YXIgcG9wdXBfZTdjYTE0YzgzNzAwNGQxZDk2NGU5Y2E3NDFkOTRmZWQgPSBMLnBvcHVwKHsibWF4V2lkdGgiOiAiMTAwJSJ9KTsKCiAgICAgICAgCiAgICAgICAgICAgIHZhciBodG1sX2E4NTI4NWI2YjFjMTQ3MWRiMzk1ZGU0YzJmM2IyNjVmID0gJChgPGRpdiBpZD0iaHRtbF9hODUyODViNmIxYzE0NzFkYjM5NWRlNGMyZjNiMjY1ZiIgc3R5bGU9IndpZHRoOiAxMDAuMCU7IGhlaWdodDogMTAwLjAlOyI+WW9yaywgTTZOIChUaGUgSnVuY3Rpb24gTm9ydGgsIFJ1bm55bWVkZSk8L2Rpdj5gKVswXTsKICAgICAgICAgICAgcG9wdXBfZTdjYTE0YzgzNzAwNGQxZDk2NGU5Y2E3NDFkOTRmZWQuc2V0Q29udGVudChodG1sX2E4NTI4NWI2YjFjMTQ3MWRiMzk1ZGU0YzJmM2IyNjVmKTsKICAgICAgICAKCiAgICAgICAgY2lyY2xlX21hcmtlcl8xYWIzYjY3YTg5ZmE0MmM2ODQzZTlmNGFjMWI5ZTMwNS5iaW5kUG9wdXAocG9wdXBfZTdjYTE0YzgzNzAwNGQxZDk2NGU5Y2E3NDFkOTRmZWQpCiAgICAgICAgOwoKICAgICAgICAKICAgIAogICAgCiAgICAgICAgICAgIHZhciBjaXJjbGVfbWFya2VyX2ZjNDA3MzU3ODY1ODQ1Mjg5Nzc2NWM1OWRkODhhZDI0ID0gTC5jaXJjbGVNYXJrZXIoCiAgICAgICAgICAgICAgICBbNDMuNjYsIC03OS40NV0sCiAgICAgICAgICAgICAgICB7ImJ1YmJsaW5nTW91c2VFdmVudHMiOiB0cnVlLCAiY29sb3IiOiAiI0U5NzkwMCIsICJkYXNoQXJyYXkiOiBudWxsLCAiZGFzaE9mZnNldCI6IG51bGwsICJmaWxsIjogdHJ1ZSwgImZpbGxDb2xvciI6ICIjRjdCQjJEIiwgImZpbGxPcGFjaXR5IjogMC43LCAiZmlsbFJ1bGUiOiAiZXZlbm9kZCIsICJsaW5lQ2FwIjogInJvdW5kIiwgImxpbmVKb2luIjogInJvdW5kIiwgIm9wYWNpdHkiOiAxLjAsICJyYWRpdXMiOiA1LCAic3Ryb2tlIjogdHJ1ZSwgIndlaWdodCI6IDN9CiAgICAgICAgICAgICkuYWRkVG8obWFwX2Y1ZmQ5YjdhMWJlMzQ5NmQ4NTBiOGZmNDJjMmNhMWExKTsKICAgICAgICAKICAgIAogICAgICAgIHZhciBwb3B1cF82NjllZTI2MDA2ZmI0YzYwYjMzNDRlMTdiYWU5NjFkYiA9IEwucG9wdXAoeyJtYXhXaWR0aCI6ICIxMDAlIn0pOwoKICAgICAgICAKICAgICAgICAgICAgdmFyIGh0bWxfYWVkMjQzMjUwZGJkNGFmZmI1MjBiNTMzMGMwNGExNjggPSAkKGA8ZGl2IGlkPSJodG1sX2FlZDI0MzI1MGRiZDRhZmZiNTIwYjUzMzBjMDRhMTY4IiBzdHlsZT0id2lkdGg6IDEwMC4wJTsgaGVpZ2h0OiAxMDAuMCU7Ij5XZXN0IFRvcm9udG8sIE02UCAoSGlnaCBQYXJrLCBUaGUgSnVuY3Rpb24gU291dGgpPC9kaXY+YClbMF07CiAgICAgICAgICAgIHBvcHVwXzY2OWVlMjYwMDZmYjRjNjBiMzM0NGUxN2JhZTk2MWRiLnNldENvbnRlbnQoaHRtbF9hZWQyNDMyNTBkYmQ0YWZmYjUyMGI1MzMwYzA0YTE2OCk7CiAgICAgICAgCgogICAgICAgIGNpcmNsZV9tYXJrZXJfZmM0MDczNTc4NjU4NDUyODk3NzY1YzU5ZGQ4OGFkMjQuYmluZFBvcHVwKHBvcHVwXzY2OWVlMjYwMDZmYjRjNjBiMzM0NGUxN2JhZTk2MWRiKQogICAgICAgIDsKCiAgICAgICAgCiAgICAKICAgIAogICAgICAgICAgICB2YXIgY2lyY2xlX21hcmtlcl8wOWVkZmI1NGQ3MTI0ZTBiOWU3MGZhODZmYTg5MjQ0NiA9IEwuY2lyY2xlTWFya2VyKAogICAgICAgICAgICAgICAgWzQzLjY0LCAtNzkuNDRdLAogICAgICAgICAgICAgICAgeyJidWJibGluZ01vdXNlRXZlbnRzIjogdHJ1ZSwgImNvbG9yIjogIiNFOTc5MDAiLCAiZGFzaEFycmF5IjogbnVsbCwgImRhc2hPZmZzZXQiOiBudWxsLCAiZmlsbCI6IHRydWUsICJmaWxsQ29sb3IiOiAiI0Y3QkIyRCIsICJmaWxsT3BhY2l0eSI6IDAuNywgImZpbGxSdWxlIjogImV2ZW5vZGQiLCAibGluZUNhcCI6ICJyb3VuZCIsICJsaW5lSm9pbiI6ICJyb3VuZCIsICJvcGFjaXR5IjogMS4wLCAicmFkaXVzIjogNSwgInN0cm9rZSI6IHRydWUsICJ3ZWlnaHQiOiAzfQogICAgICAgICAgICApLmFkZFRvKG1hcF9mNWZkOWI3YTFiZTM0OTZkODUwYjhmZjQyYzJjYTFhMSk7CiAgICAgICAgCiAgICAKICAgICAgICB2YXIgcG9wdXBfMjc5YmVjNWI5YjU0NDg4ZjhiOTI2MDUyNGYyYzVmNWUgPSBMLnBvcHVwKHsibWF4V2lkdGgiOiAiMTAwJSJ9KTsKCiAgICAgICAgCiAgICAgICAgICAgIHZhciBodG1sXzYyNWY3OGE5NDI4YzQ5NzRhOGY0Nzc5NmQ5NjQwNDQ3ID0gJChgPGRpdiBpZD0iaHRtbF82MjVmNzhhOTQyOGM0OTc0YThmNDc3OTZkOTY0MDQ0NyIgc3R5bGU9IndpZHRoOiAxMDAuMCU7IGhlaWdodDogMTAwLjAlOyI+V2VzdCBUb3JvbnRvLCBNNlIgKFBhcmtkYWxlLCBSb25jZXN2YWxsZXMpPC9kaXY+YClbMF07CiAgICAgICAgICAgIHBvcHVwXzI3OWJlYzViOWI1NDQ4OGY4YjkyNjA1MjRmMmM1ZjVlLnNldENvbnRlbnQoaHRtbF82MjVmNzhhOTQyOGM0OTc0YThmNDc3OTZkOTY0MDQ0Nyk7CiAgICAgICAgCgogICAgICAgIGNpcmNsZV9tYXJrZXJfMDllZGZiNTRkNzEyNGUwYjllNzBmYTg2ZmE4OTI0NDYuYmluZFBvcHVwKHBvcHVwXzI3OWJlYzViOWI1NDQ4OGY4YjkyNjA1MjRmMmM1ZjVlKQogICAgICAgIDsKCiAgICAgICAgCiAgICAKICAgIAogICAgICAgICAgICB2YXIgY2lyY2xlX21hcmtlcl8zODY0OWQyNmQ3YmE0M2Q5OTI2YWZlYTU1OTZkMzdiYyA9IEwuY2lyY2xlTWFya2VyKAogICAgICAgICAgICAgICAgWzQzLjY1MDI4LCAtNzkuNDgwNzg0XSwKICAgICAgICAgICAgICAgIHsiYnViYmxpbmdNb3VzZUV2ZW50cyI6IHRydWUsICJjb2xvciI6ICIjRTk3OTAwIiwgImRhc2hBcnJheSI6IG51bGwsICJkYXNoT2Zmc2V0IjogbnVsbCwgImZpbGwiOiB0cnVlLCAiZmlsbENvbG9yIjogIiNGN0JCMkQiLCAiZmlsbE9wYWNpdHkiOiAwLjcsICJmaWxsUnVsZSI6ICJldmVub2RkIiwgImxpbmVDYXAiOiAicm91bmQiLCAibGluZUpvaW4iOiAicm91bmQiLCAib3BhY2l0eSI6IDEuMCwgInJhZGl1cyI6IDUsICJzdHJva2UiOiB0cnVlLCAid2VpZ2h0IjogM30KICAgICAgICAgICAgKS5hZGRUbyhtYXBfZjVmZDliN2ExYmUzNDk2ZDg1MGI4ZmY0MmMyY2ExYTEpOwogICAgICAgIAogICAgCiAgICAgICAgdmFyIHBvcHVwXzRjYTM5ZTZmNTMxZDQzZWM5NjRjMTNmNTVmNWI2MzEwID0gTC5wb3B1cCh7Im1heFdpZHRoIjogIjEwMCUifSk7CgogICAgICAgIAogICAgICAgICAgICB2YXIgaHRtbF9kNmZkZTkyNDI0Yjc0NjFjYmQ2NjVmMzBiNGQ4MTc3MSA9ICQoYDxkaXYgaWQ9Imh0bWxfZDZmZGU5MjQyNGI3NDYxY2JkNjY1ZjMwYjRkODE3NzEiIHN0eWxlPSJ3aWR0aDogMTAwLjAlOyBoZWlnaHQ6IDEwMC4wJTsiPldlc3QgVG9yb250bywgTTZTIChSdW5ueW1lZGUsIFN3YW5zZWEpPC9kaXY+YClbMF07CiAgICAgICAgICAgIHBvcHVwXzRjYTM5ZTZmNTMxZDQzZWM5NjRjMTNmNTVmNWI2MzEwLnNldENvbnRlbnQoaHRtbF9kNmZkZTkyNDI0Yjc0NjFjYmQ2NjVmMzBiNGQ4MTc3MSk7CiAgICAgICAgCgogICAgICAgIGNpcmNsZV9tYXJrZXJfMzg2NDlkMjZkN2JhNDNkOTkyNmFmZWE1NTk2ZDM3YmMuYmluZFBvcHVwKHBvcHVwXzRjYTM5ZTZmNTMxZDQzZWM5NjRjMTNmNTVmNWI2MzEwKQogICAgICAgIDsKCiAgICAgICAgCiAgICAKICAgIAogICAgICAgICAgICB2YXIgY2lyY2xlX21hcmtlcl9jZWRlNzI3MzhlZmQ0MDE4OWQzY2Q2ODI1NDYxNjE3ZSA9IEwuY2lyY2xlTWFya2VyKAogICAgICAgICAgICAgICAgWzQzLjY1MjksIC03OS4zODQ5XSwKICAgICAgICAgICAgICAgIHsiYnViYmxpbmdNb3VzZUV2ZW50cyI6IHRydWUsICJjb2xvciI6ICIjRTk3OTAwIiwgImRhc2hBcnJheSI6IG51bGwsICJkYXNoT2Zmc2V0IjogbnVsbCwgImZpbGwiOiB0cnVlLCAiZmlsbENvbG9yIjogIiNGN0JCMkQiLCAiZmlsbE9wYWNpdHkiOiAwLjcsICJmaWxsUnVsZSI6ICJldmVub2RkIiwgImxpbmVDYXAiOiAicm91bmQiLCAibGluZUpvaW4iOiAicm91bmQiLCAib3BhY2l0eSI6IDEuMCwgInJhZGl1cyI6IDUsICJzdHJva2UiOiB0cnVlLCAid2VpZ2h0IjogM30KICAgICAgICAgICAgKS5hZGRUbyhtYXBfZjVmZDliN2ExYmUzNDk2ZDg1MGI4ZmY0MmMyY2ExYTEpOwogICAgICAgIAogICAgCiAgICAgICAgdmFyIHBvcHVwXzA4Y2E3ZDljMWUyMzRjNWZhMTMzNmNhMTc4MjE0MmY2ID0gTC5wb3B1cCh7Im1heFdpZHRoIjogIjEwMCUifSk7CgogICAgICAgIAogICAgICAgICAgICB2YXIgaHRtbF9kMDRlNzViY2I2Yjk0NzAwOGJkNDk5NjQyYTRmMWNmNSA9ICQoYDxkaXYgaWQ9Imh0bWxfZDA0ZTc1YmNiNmI5NDcwMDhiZDQ5OTY0MmE0ZjFjZjUiIHN0eWxlPSJ3aWR0aDogMTAwLjAlOyBoZWlnaHQ6IDEwMC4wJTsiPk1pc3Npc3NhdWdhLCBNN1IgKENhbmFkYSBQb3N0IEdhdGV3YXkgUHJvY2Vzc2luZyBDZW50cmUpPC9kaXY+YClbMF07CiAgICAgICAgICAgIHBvcHVwXzA4Y2E3ZDljMWUyMzRjNWZhMTMzNmNhMTc4MjE0MmY2LnNldENvbnRlbnQoaHRtbF9kMDRlNzViY2I2Yjk0NzAwOGJkNDk5NjQyYTRmMWNmNSk7CiAgICAgICAgCgogICAgICAgIGNpcmNsZV9tYXJrZXJfY2VkZTcyNzM4ZWZkNDAxODlkM2NkNjgyNTQ2MTYxN2UuYmluZFBvcHVwKHBvcHVwXzA4Y2E3ZDljMWUyMzRjNWZhMTMzNmNhMTc4MjE0MmY2KQogICAgICAgIDsKCiAgICAgICAgCiAgICAKICAgIAogICAgICAgICAgICB2YXIgY2lyY2xlX21hcmtlcl8xNzI2YTI2OWIyNTU0MGFkYWQ0N2I4NjkwMWMzM2UxNCA9IEwuY2lyY2xlTWFya2VyKAogICAgICAgICAgICAgICAgWzQzLjY2NDUwODAwMDAwMDAwNSwgLTc5LjMxNTI0Mzk5OTk5OTk5XSwKICAgICAgICAgICAgICAgIHsiYnViYmxpbmdNb3VzZUV2ZW50cyI6IHRydWUsICJjb2xvciI6ICIjRTk3OTAwIiwgImRhc2hBcnJheSI6IG51bGwsICJkYXNoT2Zmc2V0IjogbnVsbCwgImZpbGwiOiB0cnVlLCAiZmlsbENvbG9yIjogIiNGN0JCMkQiLCAiZmlsbE9wYWNpdHkiOiAwLjcsICJmaWxsUnVsZSI6ICJldmVub2RkIiwgImxpbmVDYXAiOiAicm91bmQiLCAibGluZUpvaW4iOiAicm91bmQiLCAib3BhY2l0eSI6IDEuMCwgInJhZGl1cyI6IDUsICJzdHJva2UiOiB0cnVlLCAid2VpZ2h0IjogM30KICAgICAgICAgICAgKS5hZGRUbyhtYXBfZjVmZDliN2ExYmUzNDk2ZDg1MGI4ZmY0MmMyY2ExYTEpOwogICAgICAgIAogICAgCiAgICAgICAgdmFyIHBvcHVwXzFhMzZjMTQwNjJjYTRjNzhhMzgzMjZkNTc1MzIwODFhID0gTC5wb3B1cCh7Im1heFdpZHRoIjogIjEwMCUifSk7CgogICAgICAgIAogICAgICAgICAgICB2YXIgaHRtbF9lNWFmMjI5NjZkZmU0YzA4YTE3M2IwNTJhMGMwNmNhMyA9ICQoYDxkaXYgaWQ9Imh0bWxfZTVhZjIyOTY2ZGZlNGMwOGExNzNiMDUyYTBjMDZjYTMiIHN0eWxlPSJ3aWR0aDogMTAwLjAlOyBoZWlnaHQ6IDEwMC4wJTsiPkVhc3QgVG9yb250bywgTTdZIChCdXNpbmVzcyBSZXBseSBNYWlsIFByb2Nlc3NpbmcgQ2VudHJlIDk2OSBFYXN0ZXJuKTwvZGl2PmApWzBdOwogICAgICAgICAgICBwb3B1cF8xYTM2YzE0MDYyY2E0Yzc4YTM4MzI2ZDU3NTMyMDgxYS5zZXRDb250ZW50KGh0bWxfZTVhZjIyOTY2ZGZlNGMwOGExNzNiMDUyYTBjMDZjYTMpOwogICAgICAgIAoKICAgICAgICBjaXJjbGVfbWFya2VyXzE3MjZhMjY5YjI1NTQwYWRhZDQ3Yjg2OTAxYzMzZTE0LmJpbmRQb3B1cChwb3B1cF8xYTM2YzE0MDYyY2E0Yzc4YTM4MzI2ZDU3NTMyMDgxYSkKICAgICAgICA7CgogICAgICAgIAogICAgCiAgICAKICAgICAgICAgICAgdmFyIGNpcmNsZV9tYXJrZXJfZWRkNGRiNGIwZjg2NDg4M2FjMDRmZDAyODA3ODM4MmEgPSBMLmNpcmNsZU1hcmtlcigKICAgICAgICAgICAgICAgIFs0My42LCAtNzkuNTJdLAogICAgICAgICAgICAgICAgeyJidWJibGluZ01vdXNlRXZlbnRzIjogdHJ1ZSwgImNvbG9yIjogIiNFOTc5MDAiLCAiZGFzaEFycmF5IjogbnVsbCwgImRhc2hPZmZzZXQiOiBudWxsLCAiZmlsbCI6IHRydWUsICJmaWxsQ29sb3IiOiAiI0Y3QkIyRCIsICJmaWxsT3BhY2l0eSI6IDAuNywgImZpbGxSdWxlIjogImV2ZW5vZGQiLCAibGluZUNhcCI6ICJyb3VuZCIsICJsaW5lSm9pbiI6ICJyb3VuZCIsICJvcGFjaXR5IjogMS4wLCAicmFkaXVzIjogNSwgInN0cm9rZSI6IHRydWUsICJ3ZWlnaHQiOiAzfQogICAgICAgICAgICApLmFkZFRvKG1hcF9mNWZkOWI3YTFiZTM0OTZkODUwYjhmZjQyYzJjYTFhMSk7CiAgICAgICAgCiAgICAKICAgICAgICB2YXIgcG9wdXBfMWFmMjQ1NGViMWY1NDUyYmJhMTAyMDA0NGQ4ZDEwMzUgPSBMLnBvcHVwKHsibWF4V2lkdGgiOiAiMTAwJSJ9KTsKCiAgICAgICAgCiAgICAgICAgICAgIHZhciBodG1sXzYyOWUzZWE1ZDlkNzQ1Y2VhYzU2NGM3NTdjN2U2MTY0ID0gJChgPGRpdiBpZD0iaHRtbF82MjllM2VhNWQ5ZDc0NWNlYWM1NjRjNzU3YzdlNjE2NCIgc3R5bGU9IndpZHRoOiAxMDAuMCU7IGhlaWdodDogMTAwLjAlOyI+RXRvYmljb2tlLCBNOFYgKEh1bWJlciBCYXkgU2hvcmVzLCBNaW1pY28gU291dGgsIE5ldyBUb3JvbnRvKTwvZGl2PmApWzBdOwogICAgICAgICAgICBwb3B1cF8xYWYyNDU0ZWIxZjU0NTJiYmExMDIwMDQ0ZDhkMTAzNS5zZXRDb250ZW50KGh0bWxfNjI5ZTNlYTVkOWQ3NDVjZWFjNTY0Yzc1N2M3ZTYxNjQpOwogICAgICAgIAoKICAgICAgICBjaXJjbGVfbWFya2VyX2VkZDRkYjRiMGY4NjQ4ODNhYzA0ZmQwMjgwNzgzODJhLmJpbmRQb3B1cChwb3B1cF8xYWYyNDU0ZWIxZjU0NTJiYmExMDIwMDQ0ZDhkMTAzNSkKICAgICAgICA7CgogICAgICAgIAogICAgCiAgICAKICAgICAgICAgICAgdmFyIGNpcmNsZV9tYXJrZXJfNTk5N2MwZWZjMDU3NDRiMTkwZDQxNDYyODU4NGU1OTMgPSBMLmNpcmNsZU1hcmtlcigKICAgICAgICAgICAgICAgIFs0My42MTAwNzgsIC03OS41NTIxMDEwMDAwMDAwMV0sCiAgICAgICAgICAgICAgICB7ImJ1YmJsaW5nTW91c2VFdmVudHMiOiB0cnVlLCAiY29sb3IiOiAiI0U5NzkwMCIsICJkYXNoQXJyYXkiOiBudWxsLCAiZGFzaE9mZnNldCI6IG51bGwsICJmaWxsIjogdHJ1ZSwgImZpbGxDb2xvciI6ICIjRjdCQjJEIiwgImZpbGxPcGFjaXR5IjogMC43LCAiZmlsbFJ1bGUiOiAiZXZlbm9kZCIsICJsaW5lQ2FwIjogInJvdW5kIiwgImxpbmVKb2luIjogInJvdW5kIiwgIm9wYWNpdHkiOiAxLjAsICJyYWRpdXMiOiA1LCAic3Ryb2tlIjogdHJ1ZSwgIndlaWdodCI6IDN9CiAgICAgICAgICAgICkuYWRkVG8obWFwX2Y1ZmQ5YjdhMWJlMzQ5NmQ4NTBiOGZmNDJjMmNhMWExKTsKICAgICAgICAKICAgIAogICAgICAgIHZhciBwb3B1cF9mNmQ3ZDUyNjUzOTQ0MTc4OGQzMzY4YTFmNDM2MzI4YiA9IEwucG9wdXAoeyJtYXhXaWR0aCI6ICIxMDAlIn0pOwoKICAgICAgICAKICAgICAgICAgICAgdmFyIGh0bWxfNDM5NzQwYTExZmY4NGQ0Njk4MTdhNzc2ZDkzZjU2YzUgPSAkKGA8ZGl2IGlkPSJodG1sXzQzOTc0MGExMWZmODRkNDY5ODE3YTc3NmQ5M2Y1NmM1IiBzdHlsZT0id2lkdGg6IDEwMC4wJTsgaGVpZ2h0OiAxMDAuMCU7Ij5FdG9iaWNva2UsIE04VyAoQWxkZXJ3b29kLCBMb25nIEJyYW5jaCk8L2Rpdj5gKVswXTsKICAgICAgICAgICAgcG9wdXBfZjZkN2Q1MjY1Mzk0NDE3ODhkMzM2OGExZjQzNjMyOGIuc2V0Q29udGVudChodG1sXzQzOTc0MGExMWZmODRkNDY5ODE3YTc3NmQ5M2Y1NmM1KTsKICAgICAgICAKCiAgICAgICAgY2lyY2xlX21hcmtlcl81OTk3YzBlZmMwNTc0NGIxOTBkNDE0NjI4NTg0ZTU5My5iaW5kUG9wdXAocG9wdXBfZjZkN2Q1MjY1Mzk0NDE3ODhkMzM2OGExZjQzNjMyOGIpCiAgICAgICAgOwoKICAgICAgICAKICAgIAogICAgCiAgICAgICAgICAgIHZhciBjaXJjbGVfbWFya2VyXzFhMmZhODIxMDBmMjQzZjFhZDRkMmNmMGZhMTBkZjJlID0gTC5jaXJjbGVNYXJrZXIoCiAgICAgICAgICAgICAgICBbNDMuNjUsIC03OS41MV0sCiAgICAgICAgICAgICAgICB7ImJ1YmJsaW5nTW91c2VFdmVudHMiOiB0cnVlLCAiY29sb3IiOiAiI0U5NzkwMCIsICJkYXNoQXJyYXkiOiBudWxsLCAiZGFzaE9mZnNldCI6IG51bGwsICJmaWxsIjogdHJ1ZSwgImZpbGxDb2xvciI6ICIjRjdCQjJEIiwgImZpbGxPcGFjaXR5IjogMC43LCAiZmlsbFJ1bGUiOiAiZXZlbm9kZCIsICJsaW5lQ2FwIjogInJvdW5kIiwgImxpbmVKb2luIjogInJvdW5kIiwgIm9wYWNpdHkiOiAxLjAsICJyYWRpdXMiOiA1LCAic3Ryb2tlIjogdHJ1ZSwgIndlaWdodCI6IDN9CiAgICAgICAgICAgICkuYWRkVG8obWFwX2Y1ZmQ5YjdhMWJlMzQ5NmQ4NTBiOGZmNDJjMmNhMWExKTsKICAgICAgICAKICAgIAogICAgICAgIHZhciBwb3B1cF9mZTM5ZTQ0ZDkxNzY0NjRlOWVhY2RjMThjNjA2Y2Q4ZSA9IEwucG9wdXAoeyJtYXhXaWR0aCI6ICIxMDAlIn0pOwoKICAgICAgICAKICAgICAgICAgICAgdmFyIGh0bWxfMTE5NjhlZWNkYTNiNDkyMjgwZmY4MjIyMjM2YzFkNTYgPSAkKGA8ZGl2IGlkPSJodG1sXzExOTY4ZWVjZGEzYjQ5MjI4MGZmODIyMjIzNmMxZDU2IiBzdHlsZT0id2lkdGg6IDEwMC4wJTsgaGVpZ2h0OiAxMDAuMCU7Ij5FdG9iaWNva2UsIE04WCAoVGhlIEtpbmdzd2F5LCBNb250Z29tZXJ5IFJvYWQsIE9sZCBNaWxsIE5vcnRoKTwvZGl2PmApWzBdOwogICAgICAgICAgICBwb3B1cF9mZTM5ZTQ0ZDkxNzY0NjRlOWVhY2RjMThjNjA2Y2Q4ZS5zZXRDb250ZW50KGh0bWxfMTE5NjhlZWNkYTNiNDkyMjgwZmY4MjIyMjM2YzFkNTYpOwogICAgICAgIAoKICAgICAgICBjaXJjbGVfbWFya2VyXzFhMmZhODIxMDBmMjQzZjFhZDRkMmNmMGZhMTBkZjJlLmJpbmRQb3B1cChwb3B1cF9mZTM5ZTQ0ZDkxNzY0NjRlOWVhY2RjMThjNjA2Y2Q4ZSkKICAgICAgICA7CgogICAgICAgIAogICAgCiAgICAKICAgICAgICAgICAgdmFyIGNpcmNsZV9tYXJrZXJfM2QxNjA3NDgxY2I3NDQ4OWFmZTQyYjBhYTE0NmVkYjEgPSBMLmNpcmNsZU1hcmtlcigKICAgICAgICAgICAgICAgIFs0My42MjY0LCAtNzkuNTAyMjk0OTk5OTk5OTldLAogICAgICAgICAgICAgICAgeyJidWJibGluZ01vdXNlRXZlbnRzIjogdHJ1ZSwgImNvbG9yIjogIiNFOTc5MDAiLCAiZGFzaEFycmF5IjogbnVsbCwgImRhc2hPZmZzZXQiOiBudWxsLCAiZmlsbCI6IHRydWUsICJmaWxsQ29sb3IiOiAiI0Y3QkIyRCIsICJmaWxsT3BhY2l0eSI6IDAuNywgImZpbGxSdWxlIjogImV2ZW5vZGQiLCAibGluZUNhcCI6ICJyb3VuZCIsICJsaW5lSm9pbiI6ICJyb3VuZCIsICJvcGFjaXR5IjogMS4wLCAicmFkaXVzIjogNSwgInN0cm9rZSI6IHRydWUsICJ3ZWlnaHQiOiAzfQogICAgICAgICAgICApLmFkZFRvKG1hcF9mNWZkOWI3YTFiZTM0OTZkODUwYjhmZjQyYzJjYTFhMSk7CiAgICAgICAgCiAgICAKICAgICAgICB2YXIgcG9wdXBfZDhmZDFlN2FlOWNiNDZiZWE5MDg4ODlhOGU0MmRhNjYgPSBMLnBvcHVwKHsibWF4V2lkdGgiOiAiMTAwJSJ9KTsKCiAgICAgICAgCiAgICAgICAgICAgIHZhciBodG1sXzFmNGE4ZGE0ZGI5ZjQ0NTA5NzUyMmUxYjYxZGIzNTRlID0gJChgPGRpdiBpZD0iaHRtbF8xZjRhOGRhNGRiOWY0NDUwOTc1MjJlMWI2MWRiMzU0ZSIgc3R5bGU9IndpZHRoOiAxMDAuMCU7IGhlaWdodDogMTAwLjAlOyI+RXRvYmljb2tlLCBNOFkgKEh1bWJlciBCYXksIEtpbmcmIzM5O3MgTWlsbCBQYXJrLCBLaW5nc3dheSBQYXJrIFNvdXRoIEVhc3QsIE1pbWljbyBORSwgT2xkIE1pbGwgU291dGgsIFRoZSBRdWVlbnN3YXkgRWFzdCwgUm95YWwgWW9yayBTb3V0aCBFYXN0LCBTdW5ueWxlYSk8L2Rpdj5gKVswXTsKICAgICAgICAgICAgcG9wdXBfZDhmZDFlN2FlOWNiNDZiZWE5MDg4ODlhOGU0MmRhNjYuc2V0Q29udGVudChodG1sXzFmNGE4ZGE0ZGI5ZjQ0NTA5NzUyMmUxYjYxZGIzNTRlKTsKICAgICAgICAKCiAgICAgICAgY2lyY2xlX21hcmtlcl8zZDE2MDc0ODFjYjc0NDg5YWZlNDJiMGFhMTQ2ZWRiMS5iaW5kUG9wdXAocG9wdXBfZDhmZDFlN2FlOWNiNDZiZWE5MDg4ODlhOGU0MmRhNjYpCiAgICAgICAgOwoKICAgICAgICAKICAgIAogICAgCiAgICAgICAgICAgIHZhciBjaXJjbGVfbWFya2VyXzM1M2Q3MDIyMDNkZDRmM2Q5MzMzNmJlODNkNjYzYTE0ID0gTC5jaXJjbGVNYXJrZXIoCiAgICAgICAgICAgICAgICBbNDMuNjIxOTUxLCAtNzkuNTM0ODE0XSwKICAgICAgICAgICAgICAgIHsiYnViYmxpbmdNb3VzZUV2ZW50cyI6IHRydWUsICJjb2xvciI6ICIjRTk3OTAwIiwgImRhc2hBcnJheSI6IG51bGwsICJkYXNoT2Zmc2V0IjogbnVsbCwgImZpbGwiOiB0cnVlLCAiZmlsbENvbG9yIjogIiNGN0JCMkQiLCAiZmlsbE9wYWNpdHkiOiAwLjcsICJmaWxsUnVsZSI6ICJldmVub2RkIiwgImxpbmVDYXAiOiAicm91bmQiLCAibGluZUpvaW4iOiAicm91bmQiLCAib3BhY2l0eSI6IDEuMCwgInJhZGl1cyI6IDUsICJzdHJva2UiOiB0cnVlLCAid2VpZ2h0IjogM30KICAgICAgICAgICAgKS5hZGRUbyhtYXBfZjVmZDliN2ExYmUzNDk2ZDg1MGI4ZmY0MmMyY2ExYTEpOwogICAgICAgIAogICAgCiAgICAgICAgdmFyIHBvcHVwXzIxYzZlODNkOTJmMjQ0YWU5M2ZlOTQ3YTE5NWQyYWJmID0gTC5wb3B1cCh7Im1heFdpZHRoIjogIjEwMCUifSk7CgogICAgICAgIAogICAgICAgICAgICB2YXIgaHRtbF8zNWY3NDA4OGJkNmI0ZDNlOWQ5MjBkZTM2YmIwMGJjZCA9ICQoYDxkaXYgaWQ9Imh0bWxfMzVmNzQwODhiZDZiNGQzZTlkOTIwZGUzNmJiMDBiY2QiIHN0eWxlPSJ3aWR0aDogMTAwLjAlOyBoZWlnaHQ6IDEwMC4wJTsiPkV0b2JpY29rZSwgTThaIChLaW5nc3dheSBQYXJrIFNvdXRoIFdlc3QsIE1pbWljbyBOVywgVGhlIFF1ZWVuc3dheSBXZXN0LCBSb3lhbCBZb3JrIFNvdXRoIFdlc3QsIFNvdXRoIG9mIEJsb29yKTwvZGl2PmApWzBdOwogICAgICAgICAgICBwb3B1cF8yMWM2ZTgzZDkyZjI0NGFlOTNmZTk0N2ExOTVkMmFiZi5zZXRDb250ZW50KGh0bWxfMzVmNzQwODhiZDZiNGQzZTlkOTIwZGUzNmJiMDBiY2QpOwogICAgICAgIAoKICAgICAgICBjaXJjbGVfbWFya2VyXzM1M2Q3MDIyMDNkZDRmM2Q5MzMzNmJlODNkNjYzYTE0LmJpbmRQb3B1cChwb3B1cF8yMWM2ZTgzZDkyZjI0NGFlOTNmZTk0N2ExOTVkMmFiZikKICAgICAgICA7CgogICAgICAgIAogICAgCiAgICAKICAgICAgICAgICAgdmFyIGNpcmNsZV9tYXJrZXJfZTRkMDQzNWQzYmMwNDlhMjg5Njc4MGQxNGI5ZDA3NmIgPSBMLmNpcmNsZU1hcmtlcigKICAgICAgICAgICAgICAgIFs0My42NSwgLTc5LjUzXSwKICAgICAgICAgICAgICAgIHsiYnViYmxpbmdNb3VzZUV2ZW50cyI6IHRydWUsICJjb2xvciI6ICIjRTk3OTAwIiwgImRhc2hBcnJheSI6IG51bGwsICJkYXNoT2Zmc2V0IjogbnVsbCwgImZpbGwiOiB0cnVlLCAiZmlsbENvbG9yIjogIiNGN0JCMkQiLCAiZmlsbE9wYWNpdHkiOiAwLjcsICJmaWxsUnVsZSI6ICJldmVub2RkIiwgImxpbmVDYXAiOiAicm91bmQiLCAibGluZUpvaW4iOiAicm91bmQiLCAib3BhY2l0eSI6IDEuMCwgInJhZGl1cyI6IDUsICJzdHJva2UiOiB0cnVlLCAid2VpZ2h0IjogM30KICAgICAgICAgICAgKS5hZGRUbyhtYXBfZjVmZDliN2ExYmUzNDk2ZDg1MGI4ZmY0MmMyY2ExYTEpOwogICAgICAgIAogICAgCiAgICAgICAgdmFyIHBvcHVwXzdkZWRhODMyNzFkZjRjYWE5NWZhNWZiYzVkNzE3NjVmID0gTC5wb3B1cCh7Im1heFdpZHRoIjogIjEwMCUifSk7CgogICAgICAgIAogICAgICAgICAgICB2YXIgaHRtbF9jMzMzYjg4NzdkMTU0N2U1OGIzMmFjMmMzOGQ5NzhlMSA9ICQoYDxkaXYgaWQ9Imh0bWxfYzMzM2I4ODc3ZDE1NDdlNThiMzJhYzJjMzhkOTc4ZTEiIHN0eWxlPSJ3aWR0aDogMTAwLjAlOyBoZWlnaHQ6IDEwMC4wJTsiPkV0b2JpY29rZSwgTTlBIChJc2xpbmd0b24gQXZlbnVlKTwvZGl2PmApWzBdOwogICAgICAgICAgICBwb3B1cF83ZGVkYTgzMjcxZGY0Y2FhOTVmYTVmYmM1ZDcxNzY1Zi5zZXRDb250ZW50KGh0bWxfYzMzM2I4ODc3ZDE1NDdlNThiMzJhYzJjMzhkOTc4ZTEpOwogICAgICAgIAoKICAgICAgICBjaXJjbGVfbWFya2VyX2U0ZDA0MzVkM2JjMDQ5YTI4OTY3ODBkMTRiOWQwNzZiLmJpbmRQb3B1cChwb3B1cF83ZGVkYTgzMjcxZGY0Y2FhOTVmYTVmYmM1ZDcxNzY1ZikKICAgICAgICA7CgogICAgICAgIAogICAgCiAgICAKICAgICAgICAgICAgdmFyIGNpcmNsZV9tYXJrZXJfZDAyNjc3YjYxYjQzNDJmOGFiZTJmZWRiZmE0Njk5NTIgPSBMLmNpcmNsZU1hcmtlcigKICAgICAgICAgICAgICAgIFs0My42NDcyNTYsIC03OS41NjE1OTRdLAogICAgICAgICAgICAgICAgeyJidWJibGluZ01vdXNlRXZlbnRzIjogdHJ1ZSwgImNvbG9yIjogIiNFOTc5MDAiLCAiZGFzaEFycmF5IjogbnVsbCwgImRhc2hPZmZzZXQiOiBudWxsLCAiZmlsbCI6IHRydWUsICJmaWxsQ29sb3IiOiAiI0Y3QkIyRCIsICJmaWxsT3BhY2l0eSI6IDAuNywgImZpbGxSdWxlIjogImV2ZW5vZGQiLCAibGluZUNhcCI6ICJyb3VuZCIsICJsaW5lSm9pbiI6ICJyb3VuZCIsICJvcGFjaXR5IjogMS4wLCAicmFkaXVzIjogNSwgInN0cm9rZSI6IHRydWUsICJ3ZWlnaHQiOiAzfQogICAgICAgICAgICApLmFkZFRvKG1hcF9mNWZkOWI3YTFiZTM0OTZkODUwYjhmZjQyYzJjYTFhMSk7CiAgICAgICAgCiAgICAKICAgICAgICB2YXIgcG9wdXBfMzUzY2NmZDQyMmZlNDBkNTk2Njc4NzI4YWE4ZDQzYjEgPSBMLnBvcHVwKHsibWF4V2lkdGgiOiAiMTAwJSJ9KTsKCiAgICAgICAgCiAgICAgICAgICAgIHZhciBodG1sX2IzOTA1NGU0N2QwMDRlZjM5YzM1Y2Q4MzBhMmJmNDk3ID0gJChgPGRpdiBpZD0iaHRtbF9iMzkwNTRlNDdkMDA0ZWYzOWMzNWNkODMwYTJiZjQ5NyIgc3R5bGU9IndpZHRoOiAxMDAuMCU7IGhlaWdodDogMTAwLjAlOyI+RXRvYmljb2tlLCBNOUIgKENsb3ZlcmRhbGUsIElzbGluZ3RvbiwgTWFydGluIEdyb3ZlLCBQcmluY2VzcyBHYXJkZW5zLCBXZXN0IERlYW5lIFBhcmspPC9kaXY+YClbMF07CiAgICAgICAgICAgIHBvcHVwXzM1M2NjZmQ0MjJmZTQwZDU5NjY3ODcyOGFhOGQ0M2IxLnNldENvbnRlbnQoaHRtbF9iMzkwNTRlNDdkMDA0ZWYzOWMzNWNkODMwYTJiZjQ5Nyk7CiAgICAgICAgCgogICAgICAgIGNpcmNsZV9tYXJrZXJfZDAyNjc3YjYxYjQzNDJmOGFiZTJmZWRiZmE0Njk5NTIuYmluZFBvcHVwKHBvcHVwXzM1M2NjZmQ0MjJmZTQwZDU5NjY3ODcyOGFhOGQ0M2IxKQogICAgICAgIDsKCiAgICAgICAgCiAgICAKICAgIAogICAgICAgICAgICB2YXIgY2lyY2xlX21hcmtlcl9hZDdiNmYwMmM5MjE0ZmMyOTc5ZmE3YzJiODVmZTI5MiA9IEwuY2lyY2xlTWFya2VyKAogICAgICAgICAgICAgICAgWzQzLjYxNTQxOCwgLTc5LjU1NzM1Nl0sCiAgICAgICAgICAgICAgICB7ImJ1YmJsaW5nTW91c2VFdmVudHMiOiB0cnVlLCAiY29sb3IiOiAiI0U5NzkwMCIsICJkYXNoQXJyYXkiOiBudWxsLCAiZGFzaE9mZnNldCI6IG51bGwsICJmaWxsIjogdHJ1ZSwgImZpbGxDb2xvciI6ICIjRjdCQjJEIiwgImZpbGxPcGFjaXR5IjogMC43LCAiZmlsbFJ1bGUiOiAiZXZlbm9kZCIsICJsaW5lQ2FwIjogInJvdW5kIiwgImxpbmVKb2luIjogInJvdW5kIiwgIm9wYWNpdHkiOiAxLjAsICJyYWRpdXMiOiA1LCAic3Ryb2tlIjogdHJ1ZSwgIndlaWdodCI6IDN9CiAgICAgICAgICAgICkuYWRkVG8obWFwX2Y1ZmQ5YjdhMWJlMzQ5NmQ4NTBiOGZmNDJjMmNhMWExKTsKICAgICAgICAKICAgIAogICAgICAgIHZhciBwb3B1cF8xOTg4ZTllMDZhOWM0YTc3OTFmZDQxMTA4YmE5ZmVkMCA9IEwucG9wdXAoeyJtYXhXaWR0aCI6ICIxMDAlIn0pOwoKICAgICAgICAKICAgICAgICAgICAgdmFyIGh0bWxfNzg2NTllMTQwMGE4NGI3MTg1MDRhNGQ0ZmRhNWIxYmEgPSAkKGA8ZGl2IGlkPSJodG1sXzc4NjU5ZTE0MDBhODRiNzE4NTA0YTRkNGZkYTViMWJhIiBzdHlsZT0id2lkdGg6IDEwMC4wJTsgaGVpZ2h0OiAxMDAuMCU7Ij5FdG9iaWNva2UsIE05QyAoQmxvb3JkYWxlIEdhcmRlbnMsIEVyaW5nYXRlLCBNYXJrbGFuZCBXb29kLCBPbGQgQnVybmhhbXRob3JwZSk8L2Rpdj5gKVswXTsKICAgICAgICAgICAgcG9wdXBfMTk4OGU5ZTA2YTljNGE3NzkxZmQ0MTEwOGJhOWZlZDAuc2V0Q29udGVudChodG1sXzc4NjU5ZTE0MDBhODRiNzE4NTA0YTRkNGZkYTViMWJhKTsKICAgICAgICAKCiAgICAgICAgY2lyY2xlX21hcmtlcl9hZDdiNmYwMmM5MjE0ZmMyOTc5ZmE3YzJiODVmZTI5Mi5iaW5kUG9wdXAocG9wdXBfMTk4OGU5ZTA2YTljNGE3NzkxZmQ0MTEwOGJhOWZlZDApCiAgICAgICAgOwoKICAgICAgICAKICAgIAogICAgCiAgICAgICAgICAgIHZhciBjaXJjbGVfbWFya2VyX2ZjZTg1ZjJiYTNkYzQ1MDM5MjAxMDAyY2NkYTdiYjMzID0gTC5jaXJjbGVNYXJrZXIoCiAgICAgICAgICAgICAgICBbNDMuNzUsIC03OS41N10sCiAgICAgICAgICAgICAgICB7ImJ1YmJsaW5nTW91c2VFdmVudHMiOiB0cnVlLCAiY29sb3IiOiAiI0U5NzkwMCIsICJkYXNoQXJyYXkiOiBudWxsLCAiZGFzaE9mZnNldCI6IG51bGwsICJmaWxsIjogdHJ1ZSwgImZpbGxDb2xvciI6ICIjRjdCQjJEIiwgImZpbGxPcGFjaXR5IjogMC43LCAiZmlsbFJ1bGUiOiAiZXZlbm9kZCIsICJsaW5lQ2FwIjogInJvdW5kIiwgImxpbmVKb2luIjogInJvdW5kIiwgIm9wYWNpdHkiOiAxLjAsICJyYWRpdXMiOiA1LCAic3Ryb2tlIjogdHJ1ZSwgIndlaWdodCI6IDN9CiAgICAgICAgICAgICkuYWRkVG8obWFwX2Y1ZmQ5YjdhMWJlMzQ5NmQ4NTBiOGZmNDJjMmNhMWExKTsKICAgICAgICAKICAgIAogICAgICAgIHZhciBwb3B1cF8zODQ4NDMxZDg3NDg0NjgyODcwYzEyZTA0NzA2ZGU3ZCA9IEwucG9wdXAoeyJtYXhXaWR0aCI6ICIxMDAlIn0pOwoKICAgICAgICAKICAgICAgICAgICAgdmFyIGh0bWxfNTNkYmIwNjA4MmM3NGY2ZmE3MGYxMTdlNmRmNWUwYjQgPSAkKGA8ZGl2IGlkPSJodG1sXzUzZGJiMDYwODJjNzRmNmZhNzBmMTE3ZTZkZjVlMGI0IiBzdHlsZT0id2lkdGg6IDEwMC4wJTsgaGVpZ2h0OiAxMDAuMCU7Ij5Ob3J0aCBZb3JrLCBNOUwgKEh1bWJlciBTdW1taXQpPC9kaXY+YClbMF07CiAgICAgICAgICAgIHBvcHVwXzM4NDg0MzFkODc0ODQ2ODI4NzBjMTJlMDQ3MDZkZTdkLnNldENvbnRlbnQoaHRtbF81M2RiYjA2MDgyYzc0ZjZmYTcwZjExN2U2ZGY1ZTBiNCk7CiAgICAgICAgCgogICAgICAgIGNpcmNsZV9tYXJrZXJfZmNlODVmMmJhM2RjNDUwMzkyMDEwMDJjY2RhN2JiMzMuYmluZFBvcHVwKHBvcHVwXzM4NDg0MzFkODc0ODQ2ODI4NzBjMTJlMDQ3MDZkZTdkKQogICAgICAgIDsKCiAgICAgICAgCiAgICAKICAgIAogICAgICAgICAgICB2YXIgY2lyY2xlX21hcmtlcl8xZWE5MWFmNjZhNWI0MTM0YWY0NzFlYjExOTQ3YzQ4MyA9IEwuY2lyY2xlTWFya2VyKAogICAgICAgICAgICAgICAgWzQzLjc0LCAtNzkuNTNdLAogICAgICAgICAgICAgICAgeyJidWJibGluZ01vdXNlRXZlbnRzIjogdHJ1ZSwgImNvbG9yIjogIiNFOTc5MDAiLCAiZGFzaEFycmF5IjogbnVsbCwgImRhc2hPZmZzZXQiOiBudWxsLCAiZmlsbCI6IHRydWUsICJmaWxsQ29sb3IiOiAiI0Y3QkIyRCIsICJmaWxsT3BhY2l0eSI6IDAuNywgImZpbGxSdWxlIjogImV2ZW5vZGQiLCAibGluZUNhcCI6ICJyb3VuZCIsICJsaW5lSm9pbiI6ICJyb3VuZCIsICJvcGFjaXR5IjogMS4wLCAicmFkaXVzIjogNSwgInN0cm9rZSI6IHRydWUsICJ3ZWlnaHQiOiAzfQogICAgICAgICAgICApLmFkZFRvKG1hcF9mNWZkOWI3YTFiZTM0OTZkODUwYjhmZjQyYzJjYTFhMSk7CiAgICAgICAgCiAgICAKICAgICAgICB2YXIgcG9wdXBfZGQzYTVjMzdkYTJkNGM3MmE5YWQ4Njc1ZTZjMDNjOGIgPSBMLnBvcHVwKHsibWF4V2lkdGgiOiAiMTAwJSJ9KTsKCiAgICAgICAgCiAgICAgICAgICAgIHZhciBodG1sX2Y0MDE2YWExNGU5YzRiZmI5MGZiMGJkMWI4ZDI0ZjVjID0gJChgPGRpdiBpZD0iaHRtbF9mNDAxNmFhMTRlOWM0YmZiOTBmYjBiZDFiOGQyNGY1YyIgc3R5bGU9IndpZHRoOiAxMDAuMCU7IGhlaWdodDogMTAwLjAlOyI+Tm9ydGggWW9yaywgTTlNIChFbWVyeSwgSHVtYmVybGVhKTwvZGl2PmApWzBdOwogICAgICAgICAgICBwb3B1cF9kZDNhNWMzN2RhMmQ0YzcyYTlhZDg2NzVlNmMwM2M4Yi5zZXRDb250ZW50KGh0bWxfZjQwMTZhYTE0ZTljNGJmYjkwZmIwYmQxYjhkMjRmNWMpOwogICAgICAgIAoKICAgICAgICBjaXJjbGVfbWFya2VyXzFlYTkxYWY2NmE1YjQxMzRhZjQ3MWViMTE5NDdjNDgzLmJpbmRQb3B1cChwb3B1cF9kZDNhNWMzN2RhMmQ0YzcyYTlhZDg2NzVlNmMwM2M4YikKICAgICAgICA7CgogICAgICAgIAogICAgCiAgICAKICAgICAgICAgICAgdmFyIGNpcmNsZV9tYXJrZXJfZmRlYjEyMjUzYjA4NDAxM2EyODY3YTE3ZjU0YmU1MWEgPSBMLmNpcmNsZU1hcmtlcigKICAgICAgICAgICAgICAgIFs0My43MDIxODYsIC03OS41MTk2MDFdLAogICAgICAgICAgICAgICAgeyJidWJibGluZ01vdXNlRXZlbnRzIjogdHJ1ZSwgImNvbG9yIjogIiNFOTc5MDAiLCAiZGFzaEFycmF5IjogbnVsbCwgImRhc2hPZmZzZXQiOiBudWxsLCAiZmlsbCI6IHRydWUsICJmaWxsQ29sb3IiOiAiI0Y3QkIyRCIsICJmaWxsT3BhY2l0eSI6IDAuNywgImZpbGxSdWxlIjogImV2ZW5vZGQiLCAibGluZUNhcCI6ICJyb3VuZCIsICJsaW5lSm9pbiI6ICJyb3VuZCIsICJvcGFjaXR5IjogMS4wLCAicmFkaXVzIjogNSwgInN0cm9rZSI6IHRydWUsICJ3ZWlnaHQiOiAzfQogICAgICAgICAgICApLmFkZFRvKG1hcF9mNWZkOWI3YTFiZTM0OTZkODUwYjhmZjQyYzJjYTFhMSk7CiAgICAgICAgCiAgICAKICAgICAgICB2YXIgcG9wdXBfYzcxMTYxYWVlYmJjNDE1ZDgwOWNkNTU1YjFlYzQ0NWUgPSBMLnBvcHVwKHsibWF4V2lkdGgiOiAiMTAwJSJ9KTsKCiAgICAgICAgCiAgICAgICAgICAgIHZhciBodG1sXzI2MjY5M2FkYTk0ZTRhZjNhYzdjODEyOTY5OTVhMThlID0gJChgPGRpdiBpZD0iaHRtbF8yNjI2OTNhZGE5NGU0YWYzYWM3YzgxMjk2OTk1YTE4ZSIgc3R5bGU9IndpZHRoOiAxMDAuMCU7IGhlaWdodDogMTAwLjAlOyI+WW9yaywgTTlOIChXZXN0b24pPC9kaXY+YClbMF07CiAgICAgICAgICAgIHBvcHVwX2M3MTE2MWFlZWJiYzQxNWQ4MDljZDU1NWIxZWM0NDVlLnNldENvbnRlbnQoaHRtbF8yNjI2OTNhZGE5NGU0YWYzYWM3YzgxMjk2OTk1YTE4ZSk7CiAgICAgICAgCgogICAgICAgIGNpcmNsZV9tYXJrZXJfZmRlYjEyMjUzYjA4NDAxM2EyODY3YTE3ZjU0YmU1MWEuYmluZFBvcHVwKHBvcHVwX2M3MTE2MWFlZWJiYzQxNWQ4MDljZDU1NWIxZWM0NDVlKQogICAgICAgIDsKCiAgICAgICAgCiAgICAKICAgIAogICAgICAgICAgICB2YXIgY2lyY2xlX21hcmtlcl83MTQ2YjRmYmM2NDE0YWJjOWEzNTZmMjhjMTFlMWY2YyA9IEwuY2lyY2xlTWFya2VyKAogICAgICAgICAgICAgICAgWzQzLjcxLCAtNzkuNTVdLAogICAgICAgICAgICAgICAgeyJidWJibGluZ01vdXNlRXZlbnRzIjogdHJ1ZSwgImNvbG9yIjogIiNFOTc5MDAiLCAiZGFzaEFycmF5IjogbnVsbCwgImRhc2hPZmZzZXQiOiBudWxsLCAiZmlsbCI6IHRydWUsICJmaWxsQ29sb3IiOiAiI0Y3QkIyRCIsICJmaWxsT3BhY2l0eSI6IDAuNywgImZpbGxSdWxlIjogImV2ZW5vZGQiLCAibGluZUNhcCI6ICJyb3VuZCIsICJsaW5lSm9pbiI6ICJyb3VuZCIsICJvcGFjaXR5IjogMS4wLCAicmFkaXVzIjogNSwgInN0cm9rZSI6IHRydWUsICJ3ZWlnaHQiOiAzfQogICAgICAgICAgICApLmFkZFRvKG1hcF9mNWZkOWI3YTFiZTM0OTZkODUwYjhmZjQyYzJjYTFhMSk7CiAgICAgICAgCiAgICAKICAgICAgICB2YXIgcG9wdXBfMjFhODAwNmVkYjA2NDhmOGFkYzI0NWJmYzZlNTIyM2IgPSBMLnBvcHVwKHsibWF4V2lkdGgiOiAiMTAwJSJ9KTsKCiAgICAgICAgCiAgICAgICAgICAgIHZhciBodG1sXzliZmNmM2JjOGFiNzQ1NjU5MTg1NWIwNDBiNTlkMmU0ID0gJChgPGRpdiBpZD0iaHRtbF85YmZjZjNiYzhhYjc0NTY1OTE4NTViMDQwYjU5ZDJlNCIgc3R5bGU9IndpZHRoOiAxMDAuMCU7IGhlaWdodDogMTAwLjAlOyI+RXRvYmljb2tlLCBNOVAgKFdlc3Rtb3VudCk8L2Rpdj5gKVswXTsKICAgICAgICAgICAgcG9wdXBfMjFhODAwNmVkYjA2NDhmOGFkYzI0NWJmYzZlNTIyM2Iuc2V0Q29udGVudChodG1sXzliZmNmM2JjOGFiNzQ1NjU5MTg1NWIwNDBiNTlkMmU0KTsKICAgICAgICAKCiAgICAgICAgY2lyY2xlX21hcmtlcl83MTQ2YjRmYmM2NDE0YWJjOWEzNTZmMjhjMTFlMWY2Yy5iaW5kUG9wdXAocG9wdXBfMjFhODAwNmVkYjA2NDhmOGFkYzI0NWJmYzZlNTIyM2IpCiAgICAgICAgOwoKICAgICAgICAKICAgIAogICAgCiAgICAgICAgICAgIHZhciBjaXJjbGVfbWFya2VyX2Q3MjY5YjVlNjZiZjRjZGU5ODc2ZjlhZWFmYjYzN2M2ID0gTC5jaXJjbGVNYXJrZXIoCiAgICAgICAgICAgICAgICBbNDMuNjkzMDYxLCAtNzkuNTU2OTMwMDAwMDAwMDFdLAogICAgICAgICAgICAgICAgeyJidWJibGluZ01vdXNlRXZlbnRzIjogdHJ1ZSwgImNvbG9yIjogIiNFOTc5MDAiLCAiZGFzaEFycmF5IjogbnVsbCwgImRhc2hPZmZzZXQiOiBudWxsLCAiZmlsbCI6IHRydWUsICJmaWxsQ29sb3IiOiAiI0Y3QkIyRCIsICJmaWxsT3BhY2l0eSI6IDAuNywgImZpbGxSdWxlIjogImV2ZW5vZGQiLCAibGluZUNhcCI6ICJyb3VuZCIsICJsaW5lSm9pbiI6ICJyb3VuZCIsICJvcGFjaXR5IjogMS4wLCAicmFkaXVzIjogNSwgInN0cm9rZSI6IHRydWUsICJ3ZWlnaHQiOiAzfQogICAgICAgICAgICApLmFkZFRvKG1hcF9mNWZkOWI3YTFiZTM0OTZkODUwYjhmZjQyYzJjYTFhMSk7CiAgICAgICAgCiAgICAKICAgICAgICB2YXIgcG9wdXBfMjhmYTIzMjE3NWEwNDM1MmIzYmNlNWRhZTU3Zjg3NTcgPSBMLnBvcHVwKHsibWF4V2lkdGgiOiAiMTAwJSJ9KTsKCiAgICAgICAgCiAgICAgICAgICAgIHZhciBodG1sX2IwZWQ0ZTgyOTVmMzQ5YTY4NzIyNTA2MjQ2N2RjMzJlID0gJChgPGRpdiBpZD0iaHRtbF9iMGVkNGU4Mjk1ZjM0OWE2ODcyMjUwNjI0NjdkYzMyZSIgc3R5bGU9IndpZHRoOiAxMDAuMCU7IGhlaWdodDogMTAwLjAlOyI+RXRvYmljb2tlLCBNOVIgKEtpbmdzdmlldyBWaWxsYWdlLCBNYXJ0aW4gR3JvdmUgR2FyZGVucywgUmljaHZpZXcgR2FyZGVucywgU3QuIFBoaWxsaXBzKTwvZGl2PmApWzBdOwogICAgICAgICAgICBwb3B1cF8yOGZhMjMyMTc1YTA0MzUyYjNiY2U1ZGFlNTdmODc1Ny5zZXRDb250ZW50KGh0bWxfYjBlZDRlODI5NWYzNDlhNjg3MjI1MDYyNDY3ZGMzMmUpOwogICAgICAgIAoKICAgICAgICBjaXJjbGVfbWFya2VyX2Q3MjY5YjVlNjZiZjRjZGU5ODc2ZjlhZWFmYjYzN2M2LmJpbmRQb3B1cChwb3B1cF8yOGZhMjMyMTc1YTA0MzUyYjNiY2U1ZGFlNTdmODc1NykKICAgICAgICA7CgogICAgICAgIAogICAgCiAgICAKICAgICAgICAgICAgdmFyIGNpcmNsZV9tYXJrZXJfYTY0NjAwZDkwODg2NDk4Y2JmNDM0NzViNGI0YzRjMDkgPSBMLmNpcmNsZU1hcmtlcigKICAgICAgICAgICAgICAgIFs0My43MywgLTc5LjZdLAogICAgICAgICAgICAgICAgeyJidWJibGluZ01vdXNlRXZlbnRzIjogdHJ1ZSwgImNvbG9yIjogIiNFOTc5MDAiLCAiZGFzaEFycmF5IjogbnVsbCwgImRhc2hPZmZzZXQiOiBudWxsLCAiZmlsbCI6IHRydWUsICJmaWxsQ29sb3IiOiAiI0Y3QkIyRCIsICJmaWxsT3BhY2l0eSI6IDAuNywgImZpbGxSdWxlIjogImV2ZW5vZGQiLCAibGluZUNhcCI6ICJyb3VuZCIsICJsaW5lSm9pbiI6ICJyb3VuZCIsICJvcGFjaXR5IjogMS4wLCAicmFkaXVzIjogNSwgInN0cm9rZSI6IHRydWUsICJ3ZWlnaHQiOiAzfQogICAgICAgICAgICApLmFkZFRvKG1hcF9mNWZkOWI3YTFiZTM0OTZkODUwYjhmZjQyYzJjYTFhMSk7CiAgICAgICAgCiAgICAKICAgICAgICB2YXIgcG9wdXBfYzAxMTY5M2QzOWUzNGQzOGJhZDFhNzA5MzMyNjcwMTIgPSBMLnBvcHVwKHsibWF4V2lkdGgiOiAiMTAwJSJ9KTsKCiAgICAgICAgCiAgICAgICAgICAgIHZhciBodG1sXzViZmQzNDUxNWEzNTQ5NmRhOTRlNGUxYmZjZmRiYjM4ID0gJChgPGRpdiBpZD0iaHRtbF81YmZkMzQ1MTVhMzU0OTZkYTk0ZTRlMWJmY2ZkYmIzOCIgc3R5bGU9IndpZHRoOiAxMDAuMCU7IGhlaWdodDogMTAwLjAlOyI+RXRvYmljb2tlLCBNOVYgKEFsYmlvbiBHYXJkZW5zLCBCZWF1bW9uZCBIZWlnaHRzLCBIdW1iZXJnYXRlLCBKYW1lc3Rvd24sIE1vdW50IE9saXZlLCBTaWx2ZXJzdG9uZSwgU291dGggU3RlZWxlcywgVGhpc3RsZXRvd24pPC9kaXY+YClbMF07CiAgICAgICAgICAgIHBvcHVwX2MwMTE2OTNkMzllMzRkMzhiYWQxYTcwOTMzMjY3MDEyLnNldENvbnRlbnQoaHRtbF81YmZkMzQ1MTVhMzU0OTZkYTk0ZTRlMWJmY2ZkYmIzOCk7CiAgICAgICAgCgogICAgICAgIGNpcmNsZV9tYXJrZXJfYTY0NjAwZDkwODg2NDk4Y2JmNDM0NzViNGI0YzRjMDkuYmluZFBvcHVwKHBvcHVwX2MwMTE2OTNkMzllMzRkMzhiYWQxYTcwOTMzMjY3MDEyKQogICAgICAgIDsKCiAgICAgICAgCiAgICAKICAgIAogICAgICAgICAgICB2YXIgY2lyY2xlX21hcmtlcl9hODBiYWMzZTExZGM0Njg3OGM0ZjJhZmQ3MzYyZGFmMyA9IEwuY2lyY2xlTWFya2VyKAogICAgICAgICAgICAgICAgWzQzLjczLCAtNzkuNjFdLAogICAgICAgICAgICAgICAgeyJidWJibGluZ01vdXNlRXZlbnRzIjogdHJ1ZSwgImNvbG9yIjogIiNFOTc5MDAiLCAiZGFzaEFycmF5IjogbnVsbCwgImRhc2hPZmZzZXQiOiBudWxsLCAiZmlsbCI6IHRydWUsICJmaWxsQ29sb3IiOiAiI0Y3QkIyRCIsICJmaWxsT3BhY2l0eSI6IDAuNywgImZpbGxSdWxlIjogImV2ZW5vZGQiLCAibGluZUNhcCI6ICJyb3VuZCIsICJsaW5lSm9pbiI6ICJyb3VuZCIsICJvcGFjaXR5IjogMS4wLCAicmFkaXVzIjogNSwgInN0cm9rZSI6IHRydWUsICJ3ZWlnaHQiOiAzfQogICAgICAgICAgICApLmFkZFRvKG1hcF9mNWZkOWI3YTFiZTM0OTZkODUwYjhmZjQyYzJjYTFhMSk7CiAgICAgICAgCiAgICAKICAgICAgICB2YXIgcG9wdXBfZWVlMDdhM2NiYWI1NDVkNjllZDIxMDAxMDc2ZmQxNTAgPSBMLnBvcHVwKHsibWF4V2lkdGgiOiAiMTAwJSJ9KTsKCiAgICAgICAgCiAgICAgICAgICAgIHZhciBodG1sX2Y3NWI5YjMzM2U4ZTQ2OThiZmUxMWMxMTVmOThiNjJkID0gJChgPGRpdiBpZD0iaHRtbF9mNzViOWIzMzNlOGU0Njk4YmZlMTFjMTE1Zjk4YjYyZCIgc3R5bGU9IndpZHRoOiAxMDAuMCU7IGhlaWdodDogMTAwLjAlOyI+RXRvYmljb2tlLCBNOVcgKE5vcnRod2VzdCk8L2Rpdj5gKVswXTsKICAgICAgICAgICAgcG9wdXBfZWVlMDdhM2NiYWI1NDVkNjllZDIxMDAxMDc2ZmQxNTAuc2V0Q29udGVudChodG1sX2Y3NWI5YjMzM2U4ZTQ2OThiZmUxMWMxMTVmOThiNjJkKTsKICAgICAgICAKCiAgICAgICAgY2lyY2xlX21hcmtlcl9hODBiYWMzZTExZGM0Njg3OGM0ZjJhZmQ3MzYyZGFmMy5iaW5kUG9wdXAocG9wdXBfZWVlMDdhM2NiYWI1NDVkNjllZDIxMDAxMDc2ZmQxNTApCiAgICAgICAgOwoKICAgICAgICAKICAgIAogICAgCiAgICAgICAgICAgIHZhciBjaXJjbGVfbWFya2VyX2M3ZjQwMjU4MThlOTQyNmZiOGNkY2U3YWRkOGQyNzQzID0gTC5jaXJjbGVNYXJrZXIoCiAgICAgICAgICAgICAgICBbNDMuNjgsIC03OS4zOV0sCiAgICAgICAgICAgICAgICB7ImJ1YmJsaW5nTW91c2VFdmVudHMiOiB0cnVlLCAiY29sb3IiOiAiIzAwNzFlOSIsICJkYXNoQXJyYXkiOiBudWxsLCAiZGFzaE9mZnNldCI6IG51bGwsICJmaWxsIjogdHJ1ZSwgImZpbGxDb2xvciI6ICIjNTZiM2ZmIiwgImZpbGxPcGFjaXR5IjogMC43LCAiZmlsbFJ1bGUiOiAiZXZlbm9kZCIsICJsaW5lQ2FwIjogInJvdW5kIiwgImxpbmVKb2luIjogInJvdW5kIiwgIm9wYWNpdHkiOiAxLjAsICJyYWRpdXMiOiA1LCAic3Ryb2tlIjogdHJ1ZSwgIndlaWdodCI6IDN9CiAgICAgICAgICAgICkuYWRkVG8obWFwX2Y1ZmQ5YjdhMWJlMzQ5NmQ4NTBiOGZmNDJjMmNhMWExKTsKICAgICAgICAKICAgIAogICAgICAgIHZhciBwb3B1cF8zNmVkMDJmN2RlN2I0ODUzYTdiNWJhYWE0ZjA2MzhlYSA9IEwucG9wdXAoeyJtYXhXaWR0aCI6ICIxMDAlIn0pOwoKICAgICAgICAKICAgICAgICAgICAgdmFyIGh0bWxfNmFjZmM4MmMzMTkzNGE1YTlhZTRhN2NmY2Y5NTg0NTkgPSAkKGA8ZGl2IGlkPSJodG1sXzZhY2ZjODJjMzE5MzRhNWE5YWU0YTdjZmNmOTU4NDU5IiBzdHlsZT0id2lkdGg6IDEwMC4wJTsgaGVpZ2h0OiAxMDAuMCU7Ij5Eb3dudG93biBUb3JvbnRvLCBNNFcgKFJvc2VkYWxlKTwvZGl2PmApWzBdOwogICAgICAgICAgICBwb3B1cF8zNmVkMDJmN2RlN2I0ODUzYTdiNWJhYWE0ZjA2MzhlYS5zZXRDb250ZW50KGh0bWxfNmFjZmM4MmMzMTkzNGE1YTlhZTRhN2NmY2Y5NTg0NTkpOwogICAgICAgIAoKICAgICAgICBjaXJjbGVfbWFya2VyX2M3ZjQwMjU4MThlOTQyNmZiOGNkY2U3YWRkOGQyNzQzLmJpbmRQb3B1cChwb3B1cF8zNmVkMDJmN2RlN2I0ODUzYTdiNWJhYWE0ZjA2MzhlYSkKICAgICAgICA7CgogICAgICAgIAogICAgCiAgICAKICAgICAgICAgICAgdmFyIGNpcmNsZV9tYXJrZXJfZTMxZDA0Yjc5OTgwNDAwMGEwYzIxMGJkMWFkMGJjNDUgPSBMLmNpcmNsZU1hcmtlcigKICAgICAgICAgICAgICAgIFs0My42NywgLTc5LjM3XSwKICAgICAgICAgICAgICAgIHsiYnViYmxpbmdNb3VzZUV2ZW50cyI6IHRydWUsICJjb2xvciI6ICIjMDA3MWU5IiwgImRhc2hBcnJheSI6IG51bGwsICJkYXNoT2Zmc2V0IjogbnVsbCwgImZpbGwiOiB0cnVlLCAiZmlsbENvbG9yIjogIiM1NmIzZmYiLCAiZmlsbE9wYWNpdHkiOiAwLjcsICJmaWxsUnVsZSI6ICJldmVub2RkIiwgImxpbmVDYXAiOiAicm91bmQiLCAibGluZUpvaW4iOiAicm91bmQiLCAib3BhY2l0eSI6IDEuMCwgInJhZGl1cyI6IDUsICJzdHJva2UiOiB0cnVlLCAid2VpZ2h0IjogM30KICAgICAgICAgICAgKS5hZGRUbyhtYXBfZjVmZDliN2ExYmUzNDk2ZDg1MGI4ZmY0MmMyY2ExYTEpOwogICAgICAgIAogICAgCiAgICAgICAgdmFyIHBvcHVwXzdlNmE1MDVhNGZkNTRmNzdhYzIxNzk3ZDFhZGY0ZDdjID0gTC5wb3B1cCh7Im1heFdpZHRoIjogIjEwMCUifSk7CgogICAgICAgIAogICAgICAgICAgICB2YXIgaHRtbF9iOTM2NzJmMmU3MWU0MTdlYTYyZjViOWJjZmU4OTllYSA9ICQoYDxkaXYgaWQ9Imh0bWxfYjkzNjcyZjJlNzFlNDE3ZWE2MmY1YjliY2ZlODk5ZWEiIHN0eWxlPSJ3aWR0aDogMTAwLjAlOyBoZWlnaHQ6IDEwMC4wJTsiPkRvd250b3duIFRvcm9udG8sIE00WCAoQ2FiYmFnZXRvd24sIFN0LiBKYW1lcyBUb3duKTwvZGl2PmApWzBdOwogICAgICAgICAgICBwb3B1cF83ZTZhNTA1YTRmZDU0Zjc3YWMyMTc5N2QxYWRmNGQ3Yy5zZXRDb250ZW50KGh0bWxfYjkzNjcyZjJlNzFlNDE3ZWE2MmY1YjliY2ZlODk5ZWEpOwogICAgICAgIAoKICAgICAgICBjaXJjbGVfbWFya2VyX2UzMWQwNGI3OTk4MDQwMDBhMGMyMTBiZDFhZDBiYzQ1LmJpbmRQb3B1cChwb3B1cF83ZTZhNTA1YTRmZDU0Zjc3YWMyMTc5N2QxYWRmNGQ3YykKICAgICAgICA7CgogICAgICAgIAogICAgCiAgICAKICAgICAgICAgICAgdmFyIGNpcmNsZV9tYXJrZXJfMTViMDIwNWE2NzI0NGJmMGI2ZTZjZWNkZGE5NWZlYTQgPSBMLmNpcmNsZU1hcmtlcigKICAgICAgICAgICAgICAgIFs0My42NywgLTc5LjM4XSwKICAgICAgICAgICAgICAgIHsiYnViYmxpbmdNb3VzZUV2ZW50cyI6IHRydWUsICJjb2xvciI6ICIjMDA3MWU5IiwgImRhc2hBcnJheSI6IG51bGwsICJkYXNoT2Zmc2V0IjogbnVsbCwgImZpbGwiOiB0cnVlLCAiZmlsbENvbG9yIjogIiM1NmIzZmYiLCAiZmlsbE9wYWNpdHkiOiAwLjcsICJmaWxsUnVsZSI6ICJldmVub2RkIiwgImxpbmVDYXAiOiAicm91bmQiLCAibGluZUpvaW4iOiAicm91bmQiLCAib3BhY2l0eSI6IDEuMCwgInJhZGl1cyI6IDUsICJzdHJva2UiOiB0cnVlLCAid2VpZ2h0IjogM30KICAgICAgICAgICAgKS5hZGRUbyhtYXBfZjVmZDliN2ExYmUzNDk2ZDg1MGI4ZmY0MmMyY2ExYTEpOwogICAgICAgIAogICAgCiAgICAgICAgdmFyIHBvcHVwX2Y5NDRmNzMzZjY1YjQzODlhNWZhZmVmNjg2ZjU5YjZkID0gTC5wb3B1cCh7Im1heFdpZHRoIjogIjEwMCUifSk7CgogICAgICAgIAogICAgICAgICAgICB2YXIgaHRtbF9mODkxYWE3NjMwNzY0ZWM0OGNjYzFkNjUzZDM0NGFjNiA9ICQoYDxkaXYgaWQ9Imh0bWxfZjg5MWFhNzYzMDc2NGVjNDhjY2MxZDY1M2QzNDRhYzYiIHN0eWxlPSJ3aWR0aDogMTAwLjAlOyBoZWlnaHQ6IDEwMC4wJTsiPkRvd250b3duIFRvcm9udG8sIE00WSAoQ2h1cmNoIGFuZCBXZWxsZXNsZXkpPC9kaXY+YClbMF07CiAgICAgICAgICAgIHBvcHVwX2Y5NDRmNzMzZjY1YjQzODlhNWZhZmVmNjg2ZjU5YjZkLnNldENvbnRlbnQoaHRtbF9mODkxYWE3NjMwNzY0ZWM0OGNjYzFkNjUzZDM0NGFjNik7CiAgICAgICAgCgogICAgICAgIGNpcmNsZV9tYXJrZXJfMTViMDIwNWE2NzI0NGJmMGI2ZTZjZWNkZGE5NWZlYTQuYmluZFBvcHVwKHBvcHVwX2Y5NDRmNzMzZjY1YjQzODlhNWZhZmVmNjg2ZjU5YjZkKQogICAgICAgIDsKCiAgICAgICAgCiAgICAKICAgIAogICAgICAgICAgICB2YXIgY2lyY2xlX21hcmtlcl81N2RmMDhmZDUxZjg0ZGJkODU5MmRiY2RjZDBiZmJhOSA9IEwuY2lyY2xlTWFya2VyKAogICAgICAgICAgICAgICAgWzQzLjY1LCAtNzkuMzddLAogICAgICAgICAgICAgICAgeyJidWJibGluZ01vdXNlRXZlbnRzIjogdHJ1ZSwgImNvbG9yIjogIiMwMDcxZTkiLCAiZGFzaEFycmF5IjogbnVsbCwgImRhc2hPZmZzZXQiOiBudWxsLCAiZmlsbCI6IHRydWUsICJmaWxsQ29sb3IiOiAiIzU2YjNmZiIsICJmaWxsT3BhY2l0eSI6IDAuNywgImZpbGxSdWxlIjogImV2ZW5vZGQiLCAibGluZUNhcCI6ICJyb3VuZCIsICJsaW5lSm9pbiI6ICJyb3VuZCIsICJvcGFjaXR5IjogMS4wLCAicmFkaXVzIjogNSwgInN0cm9rZSI6IHRydWUsICJ3ZWlnaHQiOiAzfQogICAgICAgICAgICApLmFkZFRvKG1hcF9mNWZkOWI3YTFiZTM0OTZkODUwYjhmZjQyYzJjYTFhMSk7CiAgICAgICAgCiAgICAKICAgICAgICB2YXIgcG9wdXBfMTU5ZmQzYjQ3ZTJjNGY2OGJiNTVlYjQ0NDI5ODYyMTUgPSBMLnBvcHVwKHsibWF4V2lkdGgiOiAiMTAwJSJ9KTsKCiAgICAgICAgCiAgICAgICAgICAgIHZhciBodG1sXzU0MGQxOTkwZTI4ZTRmMDI5OTJlYTU1MzE1YmJiMzRlID0gJChgPGRpdiBpZD0iaHRtbF81NDBkMTk5MGUyOGU0ZjAyOTkyZWE1NTMxNWJiYjM0ZSIgc3R5bGU9IndpZHRoOiAxMDAuMCU7IGhlaWdodDogMTAwLjAlOyI+RG93bnRvd24gVG9yb250bywgTTVBIChIYXJib3VyZnJvbnQpPC9kaXY+YClbMF07CiAgICAgICAgICAgIHBvcHVwXzE1OWZkM2I0N2UyYzRmNjhiYjU1ZWI0NDQyOTg2MjE1LnNldENvbnRlbnQoaHRtbF81NDBkMTk5MGUyOGU0ZjAyOTkyZWE1NTMxNWJiYjM0ZSk7CiAgICAgICAgCgogICAgICAgIGNpcmNsZV9tYXJrZXJfNTdkZjA4ZmQ1MWY4NGRiZDg1OTJkYmNkY2QwYmZiYTkuYmluZFBvcHVwKHBvcHVwXzE1OWZkM2I0N2UyYzRmNjhiYjU1ZWI0NDQyOTg2MjE1KQogICAgICAgIDsKCiAgICAgICAgCiAgICAKICAgIAogICAgICAgICAgICB2YXIgY2lyY2xlX21hcmtlcl9hNDZkMTdkYjlhMWY0NDRiODAyZTcyNTYyZDYzOWUyMiA9IEwuY2lyY2xlTWFya2VyKAogICAgICAgICAgICAgICAgWzQzLjY2LCAtNzkuMzhdLAogICAgICAgICAgICAgICAgeyJidWJibGluZ01vdXNlRXZlbnRzIjogdHJ1ZSwgImNvbG9yIjogIiMwMDcxZTkiLCAiZGFzaEFycmF5IjogbnVsbCwgImRhc2hPZmZzZXQiOiBudWxsLCAiZmlsbCI6IHRydWUsICJmaWxsQ29sb3IiOiAiIzU2YjNmZiIsICJmaWxsT3BhY2l0eSI6IDAuNywgImZpbGxSdWxlIjogImV2ZW5vZGQiLCAibGluZUNhcCI6ICJyb3VuZCIsICJsaW5lSm9pbiI6ICJyb3VuZCIsICJvcGFjaXR5IjogMS4wLCAicmFkaXVzIjogNSwgInN0cm9rZSI6IHRydWUsICJ3ZWlnaHQiOiAzfQogICAgICAgICAgICApLmFkZFRvKG1hcF9mNWZkOWI3YTFiZTM0OTZkODUwYjhmZjQyYzJjYTFhMSk7CiAgICAgICAgCiAgICAKICAgICAgICB2YXIgcG9wdXBfNDdkNTZlODE1YTcwNDgwMGE0NTE1OTY3YmU0ZTJhZjQgPSBMLnBvcHVwKHsibWF4V2lkdGgiOiAiMTAwJSJ9KTsKCiAgICAgICAgCiAgICAgICAgICAgIHZhciBodG1sX2Y0MDc5MDg5NWJjNzQ0OTBhM2U3MGViYmQyMjU0YjlmID0gJChgPGRpdiBpZD0iaHRtbF9mNDA3OTA4OTViYzc0NDkwYTNlNzBlYmJkMjI1NGI5ZiIgc3R5bGU9IndpZHRoOiAxMDAuMCU7IGhlaWdodDogMTAwLjAlOyI+RG93bnRvd24gVG9yb250bywgTTVCIChSeWVyc29uLCBHYXJkZW4gRGlzdHJpY3QpPC9kaXY+YClbMF07CiAgICAgICAgICAgIHBvcHVwXzQ3ZDU2ZTgxNWE3MDQ4MDBhNDUxNTk2N2JlNGUyYWY0LnNldENvbnRlbnQoaHRtbF9mNDA3OTA4OTViYzc0NDkwYTNlNzBlYmJkMjI1NGI5Zik7CiAgICAgICAgCgogICAgICAgIGNpcmNsZV9tYXJrZXJfYTQ2ZDE3ZGI5YTFmNDQ0YjgwMmU3MjU2MmQ2MzllMjIuYmluZFBvcHVwKHBvcHVwXzQ3ZDU2ZTgxNWE3MDQ4MDBhNDUxNTk2N2JlNGUyYWY0KQogICAgICAgIDsKCiAgICAgICAgCiAgICAKICAgIAogICAgICAgICAgICB2YXIgY2lyY2xlX21hcmtlcl9lNjEwYzM2MWNhMWU0MGMwODU3YmU1MzRhMGU2N2U5OCA9IEwuY2lyY2xlTWFya2VyKAogICAgICAgICAgICAgICAgWzQzLjY1MTQyNzAwMDAwMDAwNSwgLTc5LjM3NTU1MV0sCiAgICAgICAgICAgICAgICB7ImJ1YmJsaW5nTW91c2VFdmVudHMiOiB0cnVlLCAiY29sb3IiOiAiIzAwNzFlOSIsICJkYXNoQXJyYXkiOiBudWxsLCAiZGFzaE9mZnNldCI6IG51bGwsICJmaWxsIjogdHJ1ZSwgImZpbGxDb2xvciI6ICIjNTZiM2ZmIiwgImZpbGxPcGFjaXR5IjogMC43LCAiZmlsbFJ1bGUiOiAiZXZlbm9kZCIsICJsaW5lQ2FwIjogInJvdW5kIiwgImxpbmVKb2luIjogInJvdW5kIiwgIm9wYWNpdHkiOiAxLjAsICJyYWRpdXMiOiA1LCAic3Ryb2tlIjogdHJ1ZSwgIndlaWdodCI6IDN9CiAgICAgICAgICAgICkuYWRkVG8obWFwX2Y1ZmQ5YjdhMWJlMzQ5NmQ4NTBiOGZmNDJjMmNhMWExKTsKICAgICAgICAKICAgIAogICAgICAgIHZhciBwb3B1cF84Mjc5NTAwNTg4ZWI0MWJlYWEzNjVjYWMzMTQ4Zjg5NiA9IEwucG9wdXAoeyJtYXhXaWR0aCI6ICIxMDAlIn0pOwoKICAgICAgICAKICAgICAgICAgICAgdmFyIGh0bWxfMDg0YzM4ZmU1Zjg0NDY3ZmE1ZThkMWFhMDRkMGZmNzggPSAkKGA8ZGl2IGlkPSJodG1sXzA4NGMzOGZlNWY4NDQ2N2ZhNWU4ZDFhYTA0ZDBmZjc4IiBzdHlsZT0id2lkdGg6IDEwMC4wJTsgaGVpZ2h0OiAxMDAuMCU7Ij5Eb3dudG93biBUb3JvbnRvLCBNNUMgKFN0LiBKYW1lcyBUb3duKTwvZGl2PmApWzBdOwogICAgICAgICAgICBwb3B1cF84Mjc5NTAwNTg4ZWI0MWJlYWEzNjVjYWMzMTQ4Zjg5Ni5zZXRDb250ZW50KGh0bWxfMDg0YzM4ZmU1Zjg0NDY3ZmE1ZThkMWFhMDRkMGZmNzgpOwogICAgICAgIAoKICAgICAgICBjaXJjbGVfbWFya2VyX2U2MTBjMzYxY2ExZTQwYzA4NTdiZTUzNGEwZTY3ZTk4LmJpbmRQb3B1cChwb3B1cF84Mjc5NTAwNTg4ZWI0MWJlYWEzNjVjYWMzMTQ4Zjg5NikKICAgICAgICA7CgogICAgICAgIAogICAgCiAgICAKICAgICAgICAgICAgdmFyIGNpcmNsZV9tYXJrZXJfNDEyZWQyMDJmMmEwNDdkM2EwMTQyZTJiMjQxODVlOTcgPSBMLmNpcmNsZU1hcmtlcigKICAgICAgICAgICAgICAgIFs0My42NDUzOTY5OTk5OTk5OTYsIC03OS4zNzMwMzJdLAogICAgICAgICAgICAgICAgeyJidWJibGluZ01vdXNlRXZlbnRzIjogdHJ1ZSwgImNvbG9yIjogIiMwMDcxZTkiLCAiZGFzaEFycmF5IjogbnVsbCwgImRhc2hPZmZzZXQiOiBudWxsLCAiZmlsbCI6IHRydWUsICJmaWxsQ29sb3IiOiAiIzU2YjNmZiIsICJmaWxsT3BhY2l0eSI6IDAuNywgImZpbGxSdWxlIjogImV2ZW5vZGQiLCAibGluZUNhcCI6ICJyb3VuZCIsICJsaW5lSm9pbiI6ICJyb3VuZCIsICJvcGFjaXR5IjogMS4wLCAicmFkaXVzIjogNSwgInN0cm9rZSI6IHRydWUsICJ3ZWlnaHQiOiAzfQogICAgICAgICAgICApLmFkZFRvKG1hcF9mNWZkOWI3YTFiZTM0OTZkODUwYjhmZjQyYzJjYTFhMSk7CiAgICAgICAgCiAgICAKICAgICAgICB2YXIgcG9wdXBfMzg2NmQwNmRlMTE4NGYwMWJhYTcwZDY1YTFjY2Y3ZTAgPSBMLnBvcHVwKHsibWF4V2lkdGgiOiAiMTAwJSJ9KTsKCiAgICAgICAgCiAgICAgICAgICAgIHZhciBodG1sXzQxMGFkMmNhZjhlYzRlZGViZmZmMzc2OTJjZTgzZTQ5ID0gJChgPGRpdiBpZD0iaHRtbF80MTBhZDJjYWY4ZWM0ZWRlYmZmZjM3NjkyY2U4M2U0OSIgc3R5bGU9IndpZHRoOiAxMDAuMCU7IGhlaWdodDogMTAwLjAlOyI+RG93bnRvd24gVG9yb250bywgTTVFIChCZXJjenkgUGFyayk8L2Rpdj5gKVswXTsKICAgICAgICAgICAgcG9wdXBfMzg2NmQwNmRlMTE4NGYwMWJhYTcwZDY1YTFjY2Y3ZTAuc2V0Q29udGVudChodG1sXzQxMGFkMmNhZjhlYzRlZGViZmZmMzc2OTJjZTgzZTQ5KTsKICAgICAgICAKCiAgICAgICAgY2lyY2xlX21hcmtlcl80MTJlZDIwMmYyYTA0N2QzYTAxNDJlMmIyNDE4NWU5Ny5iaW5kUG9wdXAocG9wdXBfMzg2NmQwNmRlMTE4NGYwMWJhYTcwZDY1YTFjY2Y3ZTApCiAgICAgICAgOwoKICAgICAgICAKICAgIAogICAgCiAgICAgICAgICAgIHZhciBjaXJjbGVfbWFya2VyX2Y4M2NjM2VhOTE3MzRhYmI5NzI4NmVmZmY1M2RkNTRhID0gTC5jaXJjbGVNYXJrZXIoCiAgICAgICAgICAgICAgICBbNDMuNjU5MTIxLCAtNzkuMzg1NTY1XSwKICAgICAgICAgICAgICAgIHsiYnViYmxpbmdNb3VzZUV2ZW50cyI6IHRydWUsICJjb2xvciI6ICIjMDA3MWU5IiwgImRhc2hBcnJheSI6IG51bGwsICJkYXNoT2Zmc2V0IjogbnVsbCwgImZpbGwiOiB0cnVlLCAiZmlsbENvbG9yIjogIiM1NmIzZmYiLCAiZmlsbE9wYWNpdHkiOiAwLjcsICJmaWxsUnVsZSI6ICJldmVub2RkIiwgImxpbmVDYXAiOiAicm91bmQiLCAibGluZUpvaW4iOiAicm91bmQiLCAib3BhY2l0eSI6IDEuMCwgInJhZGl1cyI6IDUsICJzdHJva2UiOiB0cnVlLCAid2VpZ2h0IjogM30KICAgICAgICAgICAgKS5hZGRUbyhtYXBfZjVmZDliN2ExYmUzNDk2ZDg1MGI4ZmY0MmMyY2ExYTEpOwogICAgICAgIAogICAgCiAgICAgICAgdmFyIHBvcHVwXzAwMjA0NWNmMWE3MjRlNDI5YzgzNGJiNDM4YjMxOWVjID0gTC5wb3B1cCh7Im1heFdpZHRoIjogIjEwMCUifSk7CgogICAgICAgIAogICAgICAgICAgICB2YXIgaHRtbF9mYWRmY2EzZTk4NWE0MzMwYmVmNWI3YzE2ZTExMTM4ZiA9ICQoYDxkaXYgaWQ9Imh0bWxfZmFkZmNhM2U5ODVhNDMzMGJlZjViN2MxNmUxMTEzOGYiIHN0eWxlPSJ3aWR0aDogMTAwLjAlOyBoZWlnaHQ6IDEwMC4wJTsiPkRvd250b3duIFRvcm9udG8sIE01RyAoQ2VudHJhbCBCYXkgU3RyZWV0KTwvZGl2PmApWzBdOwogICAgICAgICAgICBwb3B1cF8wMDIwNDVjZjFhNzI0ZTQyOWM4MzRiYjQzOGIzMTllYy5zZXRDb250ZW50KGh0bWxfZmFkZmNhM2U5ODVhNDMzMGJlZjViN2MxNmUxMTEzOGYpOwogICAgICAgIAoKICAgICAgICBjaXJjbGVfbWFya2VyX2Y4M2NjM2VhOTE3MzRhYmI5NzI4NmVmZmY1M2RkNTRhLmJpbmRQb3B1cChwb3B1cF8wMDIwNDVjZjFhNzI0ZTQyOWM4MzRiYjQzOGIzMTllYykKICAgICAgICA7CgogICAgICAgIAogICAgCiAgICAKICAgICAgICAgICAgdmFyIGNpcmNsZV9tYXJrZXJfZjc3NDQ1ODQwODgwNGE0MGE2NGZmZWY3MzdmY2I2OWEgPSBMLmNpcmNsZU1hcmtlcigKICAgICAgICAgICAgICAgIFs0My42NSwgLTc5LjM4XSwKICAgICAgICAgICAgICAgIHsiYnViYmxpbmdNb3VzZUV2ZW50cyI6IHRydWUsICJjb2xvciI6ICIjMDA3MWU5IiwgImRhc2hBcnJheSI6IG51bGwsICJkYXNoT2Zmc2V0IjogbnVsbCwgImZpbGwiOiB0cnVlLCAiZmlsbENvbG9yIjogIiM1NmIzZmYiLCAiZmlsbE9wYWNpdHkiOiAwLjcsICJmaWxsUnVsZSI6ICJldmVub2RkIiwgImxpbmVDYXAiOiAicm91bmQiLCAibGluZUpvaW4iOiAicm91bmQiLCAib3BhY2l0eSI6IDEuMCwgInJhZGl1cyI6IDUsICJzdHJva2UiOiB0cnVlLCAid2VpZ2h0IjogM30KICAgICAgICAgICAgKS5hZGRUbyhtYXBfZjVmZDliN2ExYmUzNDk2ZDg1MGI4ZmY0MmMyY2ExYTEpOwogICAgICAgIAogICAgCiAgICAgICAgdmFyIHBvcHVwXzI1Y2ZkYTg1MzJlNDQ2Y2M5ZWUwM2NjYTE5MTdiZmQ0ID0gTC5wb3B1cCh7Im1heFdpZHRoIjogIjEwMCUifSk7CgogICAgICAgIAogICAgICAgICAgICB2YXIgaHRtbF82NWQ0YWU0ZGQyYjA0Mjk5OGM3ZjFhMDAwNTU2ZWM4MSA9ICQoYDxkaXYgaWQ9Imh0bWxfNjVkNGFlNGRkMmIwNDI5OThjN2YxYTAwMDU1NmVjODEiIHN0eWxlPSJ3aWR0aDogMTAwLjAlOyBoZWlnaHQ6IDEwMC4wJTsiPkRvd250b3duIFRvcm9udG8sIE01SCAoQWRlbGFpZGUsIEtpbmcsIFJpY2htb25kKTwvZGl2PmApWzBdOwogICAgICAgICAgICBwb3B1cF8yNWNmZGE4NTMyZTQ0NmNjOWVlMDNjY2ExOTE3YmZkNC5zZXRDb250ZW50KGh0bWxfNjVkNGFlNGRkMmIwNDI5OThjN2YxYTAwMDU1NmVjODEpOwogICAgICAgIAoKICAgICAgICBjaXJjbGVfbWFya2VyX2Y3NzQ0NTg0MDg4MDRhNDBhNjRmZmVmNzM3ZmNiNjlhLmJpbmRQb3B1cChwb3B1cF8yNWNmZGE4NTMyZTQ0NmNjOWVlMDNjY2ExOTE3YmZkNCkKICAgICAgICA7CgogICAgICAgIAogICAgCiAgICAKICAgICAgICAgICAgdmFyIGNpcmNsZV9tYXJrZXJfNTQ0NTQ3ODNiM2JmNDZmZmI2MmY4MWU4YzJkZGU4YTggPSBMLmNpcmNsZU1hcmtlcigKICAgICAgICAgICAgICAgIFs0My42NDEyMTEsIC03OS4zNzU3NDldLAogICAgICAgICAgICAgICAgeyJidWJibGluZ01vdXNlRXZlbnRzIjogdHJ1ZSwgImNvbG9yIjogIiMwMDcxZTkiLCAiZGFzaEFycmF5IjogbnVsbCwgImRhc2hPZmZzZXQiOiBudWxsLCAiZmlsbCI6IHRydWUsICJmaWxsQ29sb3IiOiAiIzU2YjNmZiIsICJmaWxsT3BhY2l0eSI6IDAuNywgImZpbGxSdWxlIjogImV2ZW5vZGQiLCAibGluZUNhcCI6ICJyb3VuZCIsICJsaW5lSm9pbiI6ICJyb3VuZCIsICJvcGFjaXR5IjogMS4wLCAicmFkaXVzIjogNSwgInN0cm9rZSI6IHRydWUsICJ3ZWlnaHQiOiAzfQogICAgICAgICAgICApLmFkZFRvKG1hcF9mNWZkOWI3YTFiZTM0OTZkODUwYjhmZjQyYzJjYTFhMSk7CiAgICAgICAgCiAgICAKICAgICAgICB2YXIgcG9wdXBfY2QzNTM1YTYwYTQzNGZkYTk2NWU0MjIyMTVhOTNiNWUgPSBMLnBvcHVwKHsibWF4V2lkdGgiOiAiMTAwJSJ9KTsKCiAgICAgICAgCiAgICAgICAgICAgIHZhciBodG1sXzg1ZGQxNmQwZTRlYjQ0OGE5MzNlZjViNmYyOTE2OGU2ID0gJChgPGRpdiBpZD0iaHRtbF84NWRkMTZkMGU0ZWI0NDhhOTMzZWY1YjZmMjkxNjhlNiIgc3R5bGU9IndpZHRoOiAxMDAuMCU7IGhlaWdodDogMTAwLjAlOyI+RG93bnRvd24gVG9yb250bywgTTVKIChIYXJib3VyZnJvbnQgRWFzdCwgVG9yb250byBJc2xhbmRzLCBVbmlvbiBTdGF0aW9uKTwvZGl2PmApWzBdOwogICAgICAgICAgICBwb3B1cF9jZDM1MzVhNjBhNDM0ZmRhOTY1ZTQyMjIxNWE5M2I1ZS5zZXRDb250ZW50KGh0bWxfODVkZDE2ZDBlNGViNDQ4YTkzM2VmNWI2ZjI5MTY4ZTYpOwogICAgICAgIAoKICAgICAgICBjaXJjbGVfbWFya2VyXzU0NDU0NzgzYjNiZjQ2ZmZiNjJmODFlOGMyZGRlOGE4LmJpbmRQb3B1cChwb3B1cF9jZDM1MzVhNjBhNDM0ZmRhOTY1ZTQyMjIxNWE5M2I1ZSkKICAgICAgICA7CgogICAgICAgIAogICAgCiAgICAKICAgICAgICAgICAgdmFyIGNpcmNsZV9tYXJrZXJfNmVhYmZmZmM2NzIxNDZkOGFjZjc4OGNlN2ViMWI5NzggPSBMLmNpcmNsZU1hcmtlcigKICAgICAgICAgICAgICAgIFs0My42NDc4MywgLTc5LjM4MTcyNl0sCiAgICAgICAgICAgICAgICB7ImJ1YmJsaW5nTW91c2VFdmVudHMiOiB0cnVlLCAiY29sb3IiOiAiIzAwNzFlOSIsICJkYXNoQXJyYXkiOiBudWxsLCAiZGFzaE9mZnNldCI6IG51bGwsICJmaWxsIjogdHJ1ZSwgImZpbGxDb2xvciI6ICIjNTZiM2ZmIiwgImZpbGxPcGFjaXR5IjogMC43LCAiZmlsbFJ1bGUiOiAiZXZlbm9kZCIsICJsaW5lQ2FwIjogInJvdW5kIiwgImxpbmVKb2luIjogInJvdW5kIiwgIm9wYWNpdHkiOiAxLjAsICJyYWRpdXMiOiA1LCAic3Ryb2tlIjogdHJ1ZSwgIndlaWdodCI6IDN9CiAgICAgICAgICAgICkuYWRkVG8obWFwX2Y1ZmQ5YjdhMWJlMzQ5NmQ4NTBiOGZmNDJjMmNhMWExKTsKICAgICAgICAKICAgIAogICAgICAgIHZhciBwb3B1cF8zMDgyODlmMTY3YTc0NGRmYThhM2M4M2M4MTMyZTUwNCA9IEwucG9wdXAoeyJtYXhXaWR0aCI6ICIxMDAlIn0pOwoKICAgICAgICAKICAgICAgICAgICAgdmFyIGh0bWxfNzIwZjAxOTQ0NWZlNDllOGJmYmFmOWJkZDUxM2I2MTkgPSAkKGA8ZGl2IGlkPSJodG1sXzcyMGYwMTk0NDVmZTQ5ZThiZmJhZjliZGQ1MTNiNjE5IiBzdHlsZT0id2lkdGg6IDEwMC4wJTsgaGVpZ2h0OiAxMDAuMCU7Ij5Eb3dudG93biBUb3JvbnRvLCBNNUsgKERlc2lnbiBFeGNoYW5nZSwgVG9yb250byBEb21pbmlvbiBDZW50cmUpPC9kaXY+YClbMF07CiAgICAgICAgICAgIHBvcHVwXzMwODI4OWYxNjdhNzQ0ZGZhOGEzYzgzYzgxMzJlNTA0LnNldENvbnRlbnQoaHRtbF83MjBmMDE5NDQ1ZmU0OWU4YmZiYWY5YmRkNTEzYjYxOSk7CiAgICAgICAgCgogICAgICAgIGNpcmNsZV9tYXJrZXJfNmVhYmZmZmM2NzIxNDZkOGFjZjc4OGNlN2ViMWI5NzguYmluZFBvcHVwKHBvcHVwXzMwODI4OWYxNjdhNzQ0ZGZhOGEzYzgzYzgxMzJlNTA0KQogICAgICAgIDsKCiAgICAgICAgCiAgICAKICAgIAogICAgICAgICAgICB2YXIgY2lyY2xlX21hcmtlcl8xMTNmOGYxYzgwMDk0MDVlYTg3ZDk2OWE4MzdiMWZmYyA9IEwuY2lyY2xlTWFya2VyKAogICAgICAgICAgICAgICAgWzQzLjY0ODQ2LCAtNzkuMzc4OTc2XSwKICAgICAgICAgICAgICAgIHsiYnViYmxpbmdNb3VzZUV2ZW50cyI6IHRydWUsICJjb2xvciI6ICIjMDA3MWU5IiwgImRhc2hBcnJheSI6IG51bGwsICJkYXNoT2Zmc2V0IjogbnVsbCwgImZpbGwiOiB0cnVlLCAiZmlsbENvbG9yIjogIiM1NmIzZmYiLCAiZmlsbE9wYWNpdHkiOiAwLjcsICJmaWxsUnVsZSI6ICJldmVub2RkIiwgImxpbmVDYXAiOiAicm91bmQiLCAibGluZUpvaW4iOiAicm91bmQiLCAib3BhY2l0eSI6IDEuMCwgInJhZGl1cyI6IDUsICJzdHJva2UiOiB0cnVlLCAid2VpZ2h0IjogM30KICAgICAgICAgICAgKS5hZGRUbyhtYXBfZjVmZDliN2ExYmUzNDk2ZDg1MGI4ZmY0MmMyY2ExYTEpOwogICAgICAgIAogICAgCiAgICAgICAgdmFyIHBvcHVwX2JlNjI1MjVjZDI1YjQzMjI5NmYxY2JmZWFmMDFiOGYxID0gTC5wb3B1cCh7Im1heFdpZHRoIjogIjEwMCUifSk7CgogICAgICAgIAogICAgICAgICAgICB2YXIgaHRtbF8zNjY5YmQwNDBlMjY0Mjk4YWRmZWEzYWY5ZjEyMjVjOSA9ICQoYDxkaXYgaWQ9Imh0bWxfMzY2OWJkMDQwZTI2NDI5OGFkZmVhM2FmOWYxMjI1YzkiIHN0eWxlPSJ3aWR0aDogMTAwLjAlOyBoZWlnaHQ6IDEwMC4wJTsiPkRvd250b3duIFRvcm9udG8sIE01TCAoQ29tbWVyY2UgQ291cnQsIFZpY3RvcmlhIEhvdGVsKTwvZGl2PmApWzBdOwogICAgICAgICAgICBwb3B1cF9iZTYyNTI1Y2QyNWI0MzIyOTZmMWNiZmVhZjAxYjhmMS5zZXRDb250ZW50KGh0bWxfMzY2OWJkMDQwZTI2NDI5OGFkZmVhM2FmOWYxMjI1YzkpOwogICAgICAgIAoKICAgICAgICBjaXJjbGVfbWFya2VyXzExM2Y4ZjFjODAwOTQwNWVhODdkOTY5YTgzN2IxZmZjLmJpbmRQb3B1cChwb3B1cF9iZTYyNTI1Y2QyNWI0MzIyOTZmMWNiZmVhZjAxYjhmMSkKICAgICAgICA7CgogICAgICAgIAogICAgCiAgICAKICAgICAgICAgICAgdmFyIGNpcmNsZV9tYXJrZXJfY2U0NzYzYTMyMTU3NGMxNmEyMGVhYzJkYjRkMWI3NjUgPSBMLmNpcmNsZU1hcmtlcigKICAgICAgICAgICAgICAgIFs0My42NTc4NDUsIC03OS40MDExMzZdLAogICAgICAgICAgICAgICAgeyJidWJibGluZ01vdXNlRXZlbnRzIjogdHJ1ZSwgImNvbG9yIjogIiMwMDcxZTkiLCAiZGFzaEFycmF5IjogbnVsbCwgImRhc2hPZmZzZXQiOiBudWxsLCAiZmlsbCI6IHRydWUsICJmaWxsQ29sb3IiOiAiIzU2YjNmZiIsICJmaWxsT3BhY2l0eSI6IDAuNywgImZpbGxSdWxlIjogImV2ZW5vZGQiLCAibGluZUNhcCI6ICJyb3VuZCIsICJsaW5lSm9pbiI6ICJyb3VuZCIsICJvcGFjaXR5IjogMS4wLCAicmFkaXVzIjogNSwgInN0cm9rZSI6IHRydWUsICJ3ZWlnaHQiOiAzfQogICAgICAgICAgICApLmFkZFRvKG1hcF9mNWZkOWI3YTFiZTM0OTZkODUwYjhmZjQyYzJjYTFhMSk7CiAgICAgICAgCiAgICAKICAgICAgICB2YXIgcG9wdXBfNDJiYjZhNmU1M2U1NDc2OTg5MGU1NGQ1ZjkwN2NjODUgPSBMLnBvcHVwKHsibWF4V2lkdGgiOiAiMTAwJSJ9KTsKCiAgICAgICAgCiAgICAgICAgICAgIHZhciBodG1sXzE0MDk5NWUwZDljZjQ1MWVhMDk5NjE0ZWZhYzI5YTQxID0gJChgPGRpdiBpZD0iaHRtbF8xNDA5OTVlMGQ5Y2Y0NTFlYTA5OTYxNGVmYWMyOWE0MSIgc3R5bGU9IndpZHRoOiAxMDAuMCU7IGhlaWdodDogMTAwLjAlOyI+RG93bnRvd24gVG9yb250bywgTTVTIChIYXJib3JkLCBVbml2ZXJzaXR5IG9mIFRvcm9udG8pPC9kaXY+YClbMF07CiAgICAgICAgICAgIHBvcHVwXzQyYmI2YTZlNTNlNTQ3Njk4OTBlNTRkNWY5MDdjYzg1LnNldENvbnRlbnQoaHRtbF8xNDA5OTVlMGQ5Y2Y0NTFlYTA5OTYxNGVmYWMyOWE0MSk7CiAgICAgICAgCgogICAgICAgIGNpcmNsZV9tYXJrZXJfY2U0NzYzYTMyMTU3NGMxNmEyMGVhYzJkYjRkMWI3NjUuYmluZFBvcHVwKHBvcHVwXzQyYmI2YTZlNTNlNTQ3Njk4OTBlNTRkNWY5MDdjYzg1KQogICAgICAgIDsKCiAgICAgICAgCiAgICAKICAgIAogICAgICAgICAgICB2YXIgY2lyY2xlX21hcmtlcl9mYmZlNDQxNmYwODg0M2NjYTgzMjY1YWIyNzNjYTUxZCA9IEwuY2lyY2xlTWFya2VyKAogICAgICAgICAgICAgICAgWzQzLjY1NzgzLCAtNzkuNDAwOTg4XSwKICAgICAgICAgICAgICAgIHsiYnViYmxpbmdNb3VzZUV2ZW50cyI6IHRydWUsICJjb2xvciI6ICIjMDA3MWU5IiwgImRhc2hBcnJheSI6IG51bGwsICJkYXNoT2Zmc2V0IjogbnVsbCwgImZpbGwiOiB0cnVlLCAiZmlsbENvbG9yIjogIiM1NmIzZmYiLCAiZmlsbE9wYWNpdHkiOiAwLjcsICJmaWxsUnVsZSI6ICJldmVub2RkIiwgImxpbmVDYXAiOiAicm91bmQiLCAibGluZUpvaW4iOiAicm91bmQiLCAib3BhY2l0eSI6IDEuMCwgInJhZGl1cyI6IDUsICJzdHJva2UiOiB0cnVlLCAid2VpZ2h0IjogM30KICAgICAgICAgICAgKS5hZGRUbyhtYXBfZjVmZDliN2ExYmUzNDk2ZDg1MGI4ZmY0MmMyY2ExYTEpOwogICAgICAgIAogICAgCiAgICAgICAgdmFyIHBvcHVwX2I1MzZlZjE3MTJiODRhZjI5YjlmYmQ3NjZhMDY5YWE0ID0gTC5wb3B1cCh7Im1heFdpZHRoIjogIjEwMCUifSk7CgogICAgICAgIAogICAgICAgICAgICB2YXIgaHRtbF9hOTUyMDhiMzU5MDg0MDc4YmIyOGNiNWFmODU2ODNmNiA9ICQoYDxkaXYgaWQ9Imh0bWxfYTk1MjA4YjM1OTA4NDA3OGJiMjhjYjVhZjg1NjgzZjYiIHN0eWxlPSJ3aWR0aDogMTAwLjAlOyBoZWlnaHQ6IDEwMC4wJTsiPkRvd250b3duIFRvcm9udG8sIE01VCAoQ2hpbmF0b3duLCBHcmFuZ2UgUGFyaywgS2Vuc2luZ3RvbiBNYXJrZXQpPC9kaXY+YClbMF07CiAgICAgICAgICAgIHBvcHVwX2I1MzZlZjE3MTJiODRhZjI5YjlmYmQ3NjZhMDY5YWE0LnNldENvbnRlbnQoaHRtbF9hOTUyMDhiMzU5MDg0MDc4YmIyOGNiNWFmODU2ODNmNik7CiAgICAgICAgCgogICAgICAgIGNpcmNsZV9tYXJrZXJfZmJmZTQ0MTZmMDg4NDNjY2E4MzI2NWFiMjczY2E1MWQuYmluZFBvcHVwKHBvcHVwX2I1MzZlZjE3MTJiODRhZjI5YjlmYmQ3NjZhMDY5YWE0KQogICAgICAgIDsKCiAgICAgICAgCiAgICAKICAgIAogICAgICAgICAgICB2YXIgY2lyY2xlX21hcmtlcl8xOWM2M2QzNjAzNmY0ZDI2ODRmMDE2MzAyZGVlZmI4MSA9IEwuY2lyY2xlTWFya2VyKAogICAgICAgICAgICAgICAgWzQzLjY0NzIyOSwgLTc5LjM4NjU2ODAwMDAwMDAzXSwKICAgICAgICAgICAgICAgIHsiYnViYmxpbmdNb3VzZUV2ZW50cyI6IHRydWUsICJjb2xvciI6ICIjMDA3MWU5IiwgImRhc2hBcnJheSI6IG51bGwsICJkYXNoT2Zmc2V0IjogbnVsbCwgImZpbGwiOiB0cnVlLCAiZmlsbENvbG9yIjogIiM1NmIzZmYiLCAiZmlsbE9wYWNpdHkiOiAwLjcsICJmaWxsUnVsZSI6ICJldmVub2RkIiwgImxpbmVDYXAiOiAicm91bmQiLCAibGluZUpvaW4iOiAicm91bmQiLCAib3BhY2l0eSI6IDEuMCwgInJhZGl1cyI6IDUsICJzdHJva2UiOiB0cnVlLCAid2VpZ2h0IjogM30KICAgICAgICAgICAgKS5hZGRUbyhtYXBfZjVmZDliN2ExYmUzNDk2ZDg1MGI4ZmY0MmMyY2ExYTEpOwogICAgICAgIAogICAgCiAgICAgICAgdmFyIHBvcHVwX2U3Y2YwYjQyZTBjMjRmYzZiNDc3NzhhZWUxNGFlNDE5ID0gTC5wb3B1cCh7Im1heFdpZHRoIjogIjEwMCUifSk7CgogICAgICAgIAogICAgICAgICAgICB2YXIgaHRtbF8wNTliMDQ3NzA0NzQ0MDMzOGQzZmE1MDFhYzNmNDE2MCA9ICQoYDxkaXYgaWQ9Imh0bWxfMDU5YjA0NzcwNDc0NDAzMzhkM2ZhNTAxYWMzZjQxNjAiIHN0eWxlPSJ3aWR0aDogMTAwLjAlOyBoZWlnaHQ6IDEwMC4wJTsiPkRvd250b3duIFRvcm9udG8sIE01ViAoQ04gVG93ZXIsIEJhdGh1cnN0IFF1YXksIElzbGFuZCBhaXJwb3J0LCBIYXJib3VyZnJvbnQgV2VzdCwgS2luZyBhbmQgU3BhZGluYSwgUmFpbHdheSBMYW5kcywgU291dGggTmlhZ2FyYSk8L2Rpdj5gKVswXTsKICAgICAgICAgICAgcG9wdXBfZTdjZjBiNDJlMGMyNGZjNmI0Nzc3OGFlZTE0YWU0MTkuc2V0Q29udGVudChodG1sXzA1OWIwNDc3MDQ3NDQwMzM4ZDNmYTUwMWFjM2Y0MTYwKTsKICAgICAgICAKCiAgICAgICAgY2lyY2xlX21hcmtlcl8xOWM2M2QzNjAzNmY0ZDI2ODRmMDE2MzAyZGVlZmI4MS5iaW5kUG9wdXAocG9wdXBfZTdjZjBiNDJlMGMyNGZjNmI0Nzc3OGFlZTE0YWU0MTkpCiAgICAgICAgOwoKICAgICAgICAKICAgIAogICAgCiAgICAgICAgICAgIHZhciBjaXJjbGVfbWFya2VyX2MyZTI1NTA4Y2Q2NjRhOWU5YTE4OTdkZGQzNWM2MTAxID0gTC5jaXJjbGVNYXJrZXIoCiAgICAgICAgICAgICAgICBbNDMuNjQ2NTczLCAtNzkuMzc2MjY2XSwKICAgICAgICAgICAgICAgIHsiYnViYmxpbmdNb3VzZUV2ZW50cyI6IHRydWUsICJjb2xvciI6ICIjMDA3MWU5IiwgImRhc2hBcnJheSI6IG51bGwsICJkYXNoT2Zmc2V0IjogbnVsbCwgImZpbGwiOiB0cnVlLCAiZmlsbENvbG9yIjogIiM1NmIzZmYiLCAiZmlsbE9wYWNpdHkiOiAwLjcsICJmaWxsUnVsZSI6ICJldmVub2RkIiwgImxpbmVDYXAiOiAicm91bmQiLCAibGluZUpvaW4iOiAicm91bmQiLCAib3BhY2l0eSI6IDEuMCwgInJhZGl1cyI6IDUsICJzdHJva2UiOiB0cnVlLCAid2VpZ2h0IjogM30KICAgICAgICAgICAgKS5hZGRUbyhtYXBfZjVmZDliN2ExYmUzNDk2ZDg1MGI4ZmY0MmMyY2ExYTEpOwogICAgICAgIAogICAgCiAgICAgICAgdmFyIHBvcHVwXzEzMzgwOGM3ZmFiNTRhMjE5ZjNkMzI1YTFkY2Q4MjQ0ID0gTC5wb3B1cCh7Im1heFdpZHRoIjogIjEwMCUifSk7CgogICAgICAgIAogICAgICAgICAgICB2YXIgaHRtbF9kZjQwYTc2YWQ5NTE0OThjOWYyOThkY2MxMzQ1MGY0ZCA9ICQoYDxkaXYgaWQ9Imh0bWxfZGY0MGE3NmFkOTUxNDk4YzlmMjk4ZGNjMTM0NTBmNGQiIHN0eWxlPSJ3aWR0aDogMTAwLjAlOyBoZWlnaHQ6IDEwMC4wJTsiPkRvd250b3duIFRvcm9udG8sIE01VyAoU3RuIEEgUE8gQm94ZXMgMjUgVGhlIEVzcGxhbmFkZSk8L2Rpdj5gKVswXTsKICAgICAgICAgICAgcG9wdXBfMTMzODA4YzdmYWI1NGEyMTlmM2QzMjVhMWRjZDgyNDQuc2V0Q29udGVudChodG1sX2RmNDBhNzZhZDk1MTQ5OGM5ZjI5OGRjYzEzNDUwZjRkKTsKICAgICAgICAKCiAgICAgICAgY2lyY2xlX21hcmtlcl9jMmUyNTUwOGNkNjY0YTllOWExODk3ZGRkMzVjNjEwMS5iaW5kUG9wdXAocG9wdXBfMTMzODA4YzdmYWI1NGEyMTlmM2QzMjVhMWRjZDgyNDQpCiAgICAgICAgOwoKICAgICAgICAKICAgIAogICAgCiAgICAgICAgICAgIHZhciBjaXJjbGVfbWFya2VyXzg5M2FhNzI0NTMwMDQ2YzliMmE3ZDBmZjRhZmRlMWRmID0gTC5jaXJjbGVNYXJrZXIoCiAgICAgICAgICAgICAgICBbNDMuNjQ4NTc4LCAtNzkuMzgyMDQ0XSwKICAgICAgICAgICAgICAgIHsiYnViYmxpbmdNb3VzZUV2ZW50cyI6IHRydWUsICJjb2xvciI6ICIjMDA3MWU5IiwgImRhc2hBcnJheSI6IG51bGwsICJkYXNoT2Zmc2V0IjogbnVsbCwgImZpbGwiOiB0cnVlLCAiZmlsbENvbG9yIjogIiM1NmIzZmYiLCAiZmlsbE9wYWNpdHkiOiAwLjcsICJmaWxsUnVsZSI6ICJldmVub2RkIiwgImxpbmVDYXAiOiAicm91bmQiLCAibGluZUpvaW4iOiAicm91bmQiLCAib3BhY2l0eSI6IDEuMCwgInJhZGl1cyI6IDUsICJzdHJva2UiOiB0cnVlLCAid2VpZ2h0IjogM30KICAgICAgICAgICAgKS5hZGRUbyhtYXBfZjVmZDliN2ExYmUzNDk2ZDg1MGI4ZmY0MmMyY2ExYTEpOwogICAgICAgIAogICAgCiAgICAgICAgdmFyIHBvcHVwX2M1MzAzNGU0NmNiOTQ0OTRhNTAwMTAwY2I5OGM0Nzg0ID0gTC5wb3B1cCh7Im1heFdpZHRoIjogIjEwMCUifSk7CgogICAgICAgIAogICAgICAgICAgICB2YXIgaHRtbF8zMWRjNTg4MDRmOWU0MGRiYTQ2Y2ViNTM3YzU3MmUwNiA9ICQoYDxkaXYgaWQ9Imh0bWxfMzFkYzU4ODA0ZjllNDBkYmE0NmNlYjUzN2M1NzJlMDYiIHN0eWxlPSJ3aWR0aDogMTAwLjAlOyBoZWlnaHQ6IDEwMC4wJTsiPkRvd250b3duIFRvcm9udG8sIE01WCAoRmlyc3QgQ2FuYWRpYW4gUGxhY2UsIFVuZGVyZ3JvdW5kIGNpdHkpPC9kaXY+YClbMF07CiAgICAgICAgICAgIHBvcHVwX2M1MzAzNGU0NmNiOTQ0OTRhNTAwMTAwY2I5OGM0Nzg0LnNldENvbnRlbnQoaHRtbF8zMWRjNTg4MDRmOWU0MGRiYTQ2Y2ViNTM3YzU3MmUwNik7CiAgICAgICAgCgogICAgICAgIGNpcmNsZV9tYXJrZXJfODkzYWE3MjQ1MzAwNDZjOWIyYTdkMGZmNGFmZGUxZGYuYmluZFBvcHVwKHBvcHVwX2M1MzAzNGU0NmNiOTQ0OTRhNTAwMTAwY2I5OGM0Nzg0KQogICAgICAgIDsKCiAgICAgICAgCiAgICAKICAgIAogICAgICAgICAgICB2YXIgY2lyY2xlX21hcmtlcl8yOTVlYTNlZjgxMjY0ZjhmYjI5ZWFjNGYwZWM4ODNkNSA9IEwuY2lyY2xlTWFya2VyKAogICAgICAgICAgICAgICAgWzQzLjY2LCAtNzkuNDFdLAogICAgICAgICAgICAgICAgeyJidWJibGluZ01vdXNlRXZlbnRzIjogdHJ1ZSwgImNvbG9yIjogIiMwMDcxZTkiLCAiZGFzaEFycmF5IjogbnVsbCwgImRhc2hPZmZzZXQiOiBudWxsLCAiZmlsbCI6IHRydWUsICJmaWxsQ29sb3IiOiAiIzU2YjNmZiIsICJmaWxsT3BhY2l0eSI6IDAuNywgImZpbGxSdWxlIjogImV2ZW5vZGQiLCAibGluZUNhcCI6ICJyb3VuZCIsICJsaW5lSm9pbiI6ICJyb3VuZCIsICJvcGFjaXR5IjogMS4wLCAicmFkaXVzIjogNSwgInN0cm9rZSI6IHRydWUsICJ3ZWlnaHQiOiAzfQogICAgICAgICAgICApLmFkZFRvKG1hcF9mNWZkOWI3YTFiZTM0OTZkODUwYjhmZjQyYzJjYTFhMSk7CiAgICAgICAgCiAgICAKICAgICAgICB2YXIgcG9wdXBfYWEzOTliNjNjMzlkNDIwZTkzNmM3MDA3OGQzYjM0YjIgPSBMLnBvcHVwKHsibWF4V2lkdGgiOiAiMTAwJSJ9KTsKCiAgICAgICAgCiAgICAgICAgICAgIHZhciBodG1sXzUwYWQ1OGQ2MTg0ZjQ3MjFiMzc2NTkwNjAzOGVjYTNiID0gJChgPGRpdiBpZD0iaHRtbF81MGFkNThkNjE4NGY0NzIxYjM3NjU5MDYwMzhlY2EzYiIgc3R5bGU9IndpZHRoOiAxMDAuMCU7IGhlaWdodDogMTAwLjAlOyI+RG93bnRvd24gVG9yb250bywgTTZHIChDaHJpc3RpZSk8L2Rpdj5gKVswXTsKICAgICAgICAgICAgcG9wdXBfYWEzOTliNjNjMzlkNDIwZTkzNmM3MDA3OGQzYjM0YjIuc2V0Q29udGVudChodG1sXzUwYWQ1OGQ2MTg0ZjQ3MjFiMzc2NTkwNjAzOGVjYTNiKTsKICAgICAgICAKCiAgICAgICAgY2lyY2xlX21hcmtlcl8yOTVlYTNlZjgxMjY0ZjhmYjI5ZWFjNGYwZWM4ODNkNS5iaW5kUG9wdXAocG9wdXBfYWEzOTliNjNjMzlkNDIwZTkzNmM3MDA3OGQzYjM0YjIpCiAgICAgICAgOwoKICAgICAgICAKICAgIAogICAgCiAgICAgICAgICAgIHZhciBjaXJjbGVfbWFya2VyXzg0YWY2MmU2MzA1YzRlMjY4ZTE3YTYwMzEwNzRjMjZmID0gTC5jaXJjbGVNYXJrZXIoCiAgICAgICAgICAgICAgICBbNDMuNjYzMTAzLCAtNzkuMzg5NzQ4XSwKICAgICAgICAgICAgICAgIHsiYnViYmxpbmdNb3VzZUV2ZW50cyI6IHRydWUsICJjb2xvciI6ICIjMDA3MWU5IiwgImRhc2hBcnJheSI6IG51bGwsICJkYXNoT2Zmc2V0IjogbnVsbCwgImZpbGwiOiB0cnVlLCAiZmlsbENvbG9yIjogIiM1NmIzZmYiLCAiZmlsbE9wYWNpdHkiOiAwLjcsICJmaWxsUnVsZSI6ICJldmVub2RkIiwgImxpbmVDYXAiOiAicm91bmQiLCAibGluZUpvaW4iOiAicm91bmQiLCAib3BhY2l0eSI6IDEuMCwgInJhZGl1cyI6IDUsICJzdHJva2UiOiB0cnVlLCAid2VpZ2h0IjogM30KICAgICAgICAgICAgKS5hZGRUbyhtYXBfZjVmZDliN2ExYmUzNDk2ZDg1MGI4ZmY0MmMyY2ExYTEpOwogICAgICAgIAogICAgCiAgICAgICAgdmFyIHBvcHVwX2U1Y2QzYzljNGRkZDQ4MDA4NmFlYTM4NTE1NWFiMmEyID0gTC5wb3B1cCh7Im1heFdpZHRoIjogIjEwMCUifSk7CgogICAgICAgIAogICAgICAgICAgICB2YXIgaHRtbF8xOWFkNzlhZjYxM2U0ZjU0YWNiMzc3N2NmZDQwMTRlYSA9ICQoYDxkaXYgaWQ9Imh0bWxfMTlhZDc5YWY2MTNlNGY1NGFjYjM3NzdjZmQ0MDE0ZWEiIHN0eWxlPSJ3aWR0aDogMTAwLjAlOyBoZWlnaHQ6IDEwMC4wJTsiPkRvd250b3duIFRvcm9udG8sIE03QSAoUXVlZW4mIzM5O3MgUGFyayk8L2Rpdj5gKVswXTsKICAgICAgICAgICAgcG9wdXBfZTVjZDNjOWM0ZGRkNDgwMDg2YWVhMzg1MTU1YWIyYTIuc2V0Q29udGVudChodG1sXzE5YWQ3OWFmNjEzZTRmNTRhY2IzNzc3Y2ZkNDAxNGVhKTsKICAgICAgICAKCiAgICAgICAgY2lyY2xlX21hcmtlcl84NGFmNjJlNjMwNWM0ZTI2OGUxN2E2MDMxMDc0YzI2Zi5iaW5kUG9wdXAocG9wdXBfZTVjZDNjOWM0ZGRkNDgwMDg2YWVhMzg1MTU1YWIyYTIpCiAgICAgICAgOwoKICAgICAgICAKICAgIAo8L3NjcmlwdD4= onload=\"this.contentDocument.open();this.contentDocument.write(atob(this.getAttribute('data-html')));this.contentDocument.close();\" allowfullscreen webkitallowfullscreen mozallowfullscreen></iframe></div></div>"
      ],
      "text/plain": [
       "<folium.folium.Map at 0x1e62cf93490>"
      ]
     },
     "execution_count": 45,
     "metadata": {},
     "output_type": "execute_result"
    }
   ],
   "source": [
    "tor_map = folium.Map(location=[tor_loc.latitude, tor_loc.longitude], zoom_start=12)\n",
    "\n",
    "exclude_downtown = zip_df['Borough']!='Downtown Toronto'\n",
    "\n",
    "# Postal markers for everything but Downtown Toronto\n",
    "for mark in zip_df.loc[exclude_downtown,:].itertuples():\n",
    "    label = f\"{mark.Borough}, {mark.Postcode} ({mark.Neighbourhood})\"\n",
    "    label = folium.Popup(label, parse_html=True)\n",
    "    folium.CircleMarker(\n",
    "        [mark.Latitude, mark.Longitude],\n",
    "        radius=5,\n",
    "        popup=label,\n",
    "        color='#E97900',\n",
    "        fill=True,\n",
    "        fill_color='#F7BB2D',\n",
    "        fill_opacity=0.7,\n",
    "        parse_html=False\n",
    "    ).add_to(tor_map)\n",
    "\n",
    "# Postal markers for Downtown Toronto\n",
    "for mark in zip_df.loc[-exclude_downtown,:].itertuples():\n",
    "    label = f\"{mark.Borough}, {mark.Postcode} ({mark.Neighbourhood})\"\n",
    "    label = folium.Popup(label, parse_html=True)\n",
    "    folium.CircleMarker(\n",
    "        [mark.Latitude, mark.Longitude],\n",
    "        radius=5,\n",
    "        popup=label,\n",
    "        color='#0071e9',\n",
    "        fill=True,\n",
    "        fill_color='#56b3ff',\n",
    "        fill_opacity=0.7,\n",
    "        parse_html=False\n",
    "    ).add_to(tor_map)\n",
    "tor_map"
   ]
  },
  {
   "cell_type": "code",
   "execution_count": 58,
   "metadata": {},
   "outputs": [
    {
     "data": {
      "text/plain": [
       "(84, 5)"
      ]
     },
     "execution_count": 58,
     "metadata": {},
     "output_type": "execute_result"
    }
   ],
   "source": [
    "# New Dataframe without Downtown Toronto\n",
    "tor_df = zip_df.loc[exclude_downtown,:]\n",
    "tor_df.shape"
   ]
  },
  {
   "cell_type": "markdown",
   "metadata": {},
   "source": [
    "### Foursquare API\n",
    "\n",
    "Create a function to access the Foursquare \"venues/explore\" endpoint and parse the JSON into records to put into a dataframe."
   ]
  },
  {
   "cell_type": "code",
   "execution_count": 155,
   "metadata": {},
   "outputs": [],
   "source": [
    "def parse_results(results: dict, postcode: str):\n",
    "    \"\"\" Parses the JSON results returned from the https://api.foursquare.com/v2/venues/explore endpoint \"\"\"\n",
    "    # Collect all the venue objects nested under the items list\n",
    "    venues = [item['venue'] for item in results['response']['groups'][0]['items']]\n",
    "    \n",
    "    # Create the list of all the places\n",
    "    places = list()\n",
    "    \n",
    "    # loop over each venue to create the record for each place\n",
    "    for venue in venues:\n",
    "        places.append({\n",
    "            'venue_id': venue['id'],\n",
    "            'Name': venue['name'],\n",
    "            'Category': venue['categories'][0]['name'],\n",
    "            'Sub-Category': venue['categories'][1]['name'] if len(venue['categories']) > 2 else None,        \n",
    "            'Latitude': venue['location']['lat'],\n",
    "            'Longitude': venue['location']['lng'],\n",
    "            'Distance': venue['location']['distance'],\n",
    "            'Postcode': postcode\n",
    "        })\n",
    "\n",
    "    return places\n",
    "\n",
    "def explore_venues(postcode: str, lat: float, lon: float, section: str = None, radius: int = 1000, limit: int = 100):\n",
    "    \"\"\" Access the Foursquare API venues/explore enpoint\n",
    "    Params:\n",
    "        postcode (str): Postal code to label each place\n",
    "        lat (float): latitude of search\n",
    "        lon (float): longitude of search\n",
    "        section (str): category to search, choose from:\n",
    "            [food, drinks, coffee, shops, arts, outdoors, sights, trending, nextVenues, topPicks]\n",
    "        radius (int): radius from the coordinates to search\n",
    "        limit (int): limit the number of results returned\n",
    "    \"\"\"\n",
    "    \n",
    "    # Paramater defintion for the endpoint\n",
    "    params = {\n",
    "        'client_id': FOURSQUARE_CLIENT_ID,\n",
    "        'client_secret': FOURSQUARE_CLIENT_SECRET,\n",
    "        'v': '20200305',\n",
    "        'll': f\"{lat},{lon}\",\n",
    "        'radius': radius,\n",
    "        'limit': limit         \n",
    "    }\n",
    "    \n",
    "    # if there is a valid section provided add it to the parameters\n",
    "    if section in ['food', 'drinks', 'coffee', 'shops', 'arts', 'outdoors', 'sights', 'trending', 'nextVenues', 'topPicks']:\n",
    "        params['section'] = section\n",
    "        \n",
    "    \n",
    "    # endpoint to access\n",
    "    endpoint = 'https://api.foursquare.com/v2/venues/explore'\n",
    "    \n",
    "    # GET request\n",
    "    r = requests.get(endpoint, params=params)\n",
    "    \n",
    "    # check to make sure we get a good 200 status code\n",
    "    if r.status_code != 200:\n",
    "        print(r.status_code)\n",
    "        print(r.text)\n",
    "        return None\n",
    "      \n",
    "    return parse_results(r.json(), postcode)     "
   ]
  },
  {
   "cell_type": "markdown",
   "metadata": {},
   "source": [
    "For my analysis I am going to search for all places with section=\"food\" within a 2km radius of each Postalcode center.  I will loop over every Postal Code in and make a call to the Foursquare API, and then I will convert the records into a DataFrame for anaylsis."
   ]
  },
  {
   "cell_type": "code",
   "execution_count": 150,
   "metadata": {},
   "outputs": [
    {
     "data": {
      "text/plain": [
       "85"
      ]
     },
     "execution_count": 150,
     "metadata": {},
     "output_type": "execute_result"
    }
   ],
   "source": [
    "food = list()\n",
    "for postcode in tor_df.iloc[0:3,:].itertuples():\n",
    "    food.extend(explore_venues(postcode.Postcode, postcode.Latitude, postcode.Longitude, section='food', radius=2000))\n",
    "len(food)"
   ]
  }
 ],
 "metadata": {
  "file_extension": ".py",
  "kernelspec": {
   "display_name": "ibm_capstone",
   "language": "python",
   "name": "ibm_capstone"
  },
  "language_info": {
   "codemirror_mode": {
    "name": "ipython",
    "version": 3
   },
   "file_extension": ".py",
   "mimetype": "text/x-python",
   "name": "python",
   "nbconvert_exporter": "python",
   "pygments_lexer": "ipython3",
   "version": "3.8.2"
  },
  "mimetype": "text/x-python",
  "name": "python",
  "npconvert_exporter": "python",
  "pygments_lexer": "ipython3",
  "version": 3
 },
 "nbformat": 4,
 "nbformat_minor": 4
}
